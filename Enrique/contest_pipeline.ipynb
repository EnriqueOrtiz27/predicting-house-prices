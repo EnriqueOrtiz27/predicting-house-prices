{
 "cells": [
  {
   "cell_type": "markdown",
   "metadata": {},
   "source": [
    "# The purpose of this notebook is to assemble a pipeline for preparing the data, transforming it and then training a model to predict house prices. \n",
    "\n",
    "We are using the now famous [Ames dataset](https://www.notion.so/Diccionario-de-Datos-y-hints-8f8613b67b4140f1940f67463c4a0ced#bc3273399294410083987b036aef2356). Our goal is to predict the SalePrice of a house given the rest of the parameters. "
   ]
  },
  {
   "cell_type": "markdown",
   "metadata": {},
   "source": [
    "### Imports. "
   ]
  },
  {
   "cell_type": "code",
   "execution_count": 64,
   "metadata": {
    "ExecuteTime": {
     "end_time": "2020-10-27T14:12:39.557048Z",
     "start_time": "2020-10-27T14:12:39.548863Z"
    }
   },
   "outputs": [],
   "source": [
    "import pandas as pd\n",
    "import numpy as np\n",
    "from sklearn.model_selection import train_test_split, KFold, cross_val_score \n",
    "from sklearn.model_selection import KFold, GridSearchCV\n",
    "from sklearn.linear_model import Ridge\n",
    "from sklearn.metrics import mean_squared_error as mse \n",
    "from sklearn.pipeline import Pipeline\n",
    "from sklearn.preprocessing import StandardScaler, OneHotEncoder, LabelEncoder\n",
    "from sklearn.compose import ColumnTransformer\n",
    "from sklearn.base import BaseEstimator, TransformerMixin\n",
    "from sklearn.impute import SimpleImputer"
   ]
  },
  {
   "cell_type": "code",
   "execution_count": 51,
   "metadata": {
    "ExecuteTime": {
     "end_time": "2020-10-27T14:10:08.293654Z",
     "start_time": "2020-10-27T14:10:08.278581Z"
    }
   },
   "outputs": [],
   "source": [
    "pd.set_option('display.max_columns', 40)"
   ]
  },
  {
   "cell_type": "markdown",
   "metadata": {},
   "source": [
    "# Data preprocessing. \n",
    "\n",
    "A couple of things had to be done when preparing the data. As explained in the link provided in the first cell, it is best to remove houses with a \"Gr Liv Area\" above 4,000 and houses sold in abnormal conditions. Other than that, the rest of this process consisted of iteratively finding which columns to keep and which to drop.\n",
    "\n",
    "There are more than 70 columns, so we won't explain in full detail why we chose some and left others out. But the main idea was to look for a parsimonious, coherent and logical model to predict house prices. We were perhaps a bit ruthless on dropping most categorical variables for their potential to increase dimensionality. "
   ]
  },
  {
   "cell_type": "code",
   "execution_count": 91,
   "metadata": {
    "ExecuteTime": {
     "end_time": "2020-10-27T14:30:21.839947Z",
     "start_time": "2020-10-27T14:30:21.832849Z"
    }
   },
   "outputs": [],
   "source": [
    "COLS_TO_DROP = ['MS Zoning', \n",
    "                'Lot Frontage',\n",
    "                'Lot Shape',\n",
    "                'Street',\n",
    "                'Land Contour',\n",
    "                'Utilities',\n",
    "                'Lot Config',\n",
    "                'Land Slope',\n",
    "                'Neighborhood',\n",
    "                'Alley', \n",
    "                'Mas Vnr Type', \n",
    "                'Mas Vnr Area',          \n",
    "                'Bsmt Qual', \n",
    "                'Bsmt Cond', \n",
    "                'Bsmt Exposure', \n",
    "                'BsmtFin Type 1',\n",
    "                'BsmtFin Type 2',\n",
    "                'Electrical',\n",
    "                #FirePlace Qu, \n",
    "                #'Garage Type', \n",
    "                'Garage Yr Blt', \n",
    "               # 'Garage Finish', \n",
    "               # 'Garage Qual',\n",
    "               # 'Garage Cond',\n",
    "                #'Pool QC', \n",
    "                'Fence', \n",
    "                'Misc Feature',\n",
    "                'Condition 1', \n",
    "                'Condition 2',\n",
    "                'Exterior 1st', \n",
    "                'Exterior 2nd', \n",
    "                'Heating', \n",
    "                #'Heating QC',\n",
    "               'Roof Style',\n",
    "               'Roof Matl',\n",
    "               'Foundation',\n",
    "               'Functional',\n",
    "               'Fireplaces',\n",
    "               'Paved Drive',  #maybe keep it\n",
    "               'Year Remod/Add',\n",
    "               '3Ssn Porch',\n",
    "               'Pool Area', #we already have a categorical variable for pool\n",
    "               'Mo Sold',\n",
    "               'Misc Val',\n",
    "               'Open Porch SF',\n",
    "               'BsmtFin SF 2',\n",
    "               'Wood Deck SF',\n",
    "               'Enclosed Porch',\n",
    "               'Screen Porch',\n",
    "               'Sale Condition',\n",
    "               'Sale Type'\n",
    "               ]"
   ]
  },
  {
   "cell_type": "code",
   "execution_count": 92,
   "metadata": {
    "ExecuteTime": {
     "end_time": "2020-10-27T14:30:22.811136Z",
     "start_time": "2020-10-27T14:30:22.803631Z"
    }
   },
   "outputs": [],
   "source": [
    "#data = pd.read_csv('casas_entrena.csv')\n",
    "#data.columns.values"
   ]
  },
  {
   "cell_type": "code",
   "execution_count": 93,
   "metadata": {
    "ExecuteTime": {
     "end_time": "2020-10-27T14:30:23.435808Z",
     "start_time": "2020-10-27T14:30:23.420756Z"
    }
   },
   "outputs": [],
   "source": [
    "#we want to clean the column names \n",
    "def clean_column(col):\n",
    "    return col.lower().replace('/','_').replace(' ', '_')"
   ]
  },
  {
   "cell_type": "code",
   "execution_count": 94,
   "metadata": {
    "ExecuteTime": {
     "end_time": "2020-10-27T14:30:23.887356Z",
     "start_time": "2020-10-27T14:30:23.874288Z"
    }
   },
   "outputs": [],
   "source": [
    "def replacing_nans(data):\n",
    "    \"\"\"\n",
    "    Function to fill the columns with Nan Values where it is convenient to keep them.\n",
    "    Parameters:\n",
    "    -----------\n",
    "    data: pandas dataframe\n",
    "    \n",
    "    Returns:\n",
    "    --------\n",
    "    data: pandas dataframe.\n",
    "    \"\"\"\n",
    "    data[\"pool_qc\"] = data[\"pool_qc\"].fillna(\"None\") #Pool brings useful information\n",
    "    data[\"pool_qc\"] = np.where(data[\"pool_qc\"] == \"None\", 0, 1)\n",
    "    data[\"fireplace_qu\"] = data[\"fireplace_qu\"].fillna(\"None\")\n",
    "    #Garage information might be useful\n",
    "    for col in ('garage_type', 'garage_finish', 'garage_qual', 'garage_cond'):\n",
    "        data[col] = data[col].fillna('None')\n",
    "    \n",
    "    return data"
   ]
  },
  {
   "cell_type": "code",
   "execution_count": 95,
   "metadata": {
    "ExecuteTime": {
     "end_time": "2020-10-27T14:30:24.644387Z",
     "start_time": "2020-10-27T14:30:24.624812Z"
    }
   },
   "outputs": [],
   "source": [
    "def basic_preprocessing(path):\n",
    "    \"\"\"\n",
    "    Una función básica para preprocesar los datos de entrenamiento. \n",
    "    Parameters:\n",
    "    -------\n",
    "    path: str\n",
    "          path en tu compu donde está el dataset\n",
    "    \n",
    "    Returns:\n",
    "    --------\n",
    "    data: pandas dataframe\n",
    "          Un dataframe listo para el pipeline de sklearn. \n",
    "    \"\"\"\n",
    "    data = pd.read_csv(path)\n",
    "    data = data[data['Sale Condition'] == \"Normal\"]\n",
    "    data = data.drop(columns = COLS_TO_DROP)\n",
    "    data = data[data['Gr Liv Area'] < 4_000]\n",
    "    data.rename(columns={col: clean_column(col) for col in data.columns.values}, \n",
    "                 inplace=True)\n",
    "    data = replacing_nans(data)\n",
    "    \n",
    "    return data "
   ]
  },
  {
   "cell_type": "code",
   "execution_count": 96,
   "metadata": {
    "ExecuteTime": {
     "end_time": "2020-10-27T14:30:25.566309Z",
     "start_time": "2020-10-27T14:30:25.466938Z"
    }
   },
   "outputs": [
    {
     "data": {
      "text/html": [
       "<div>\n",
       "<style scoped>\n",
       "    .dataframe tbody tr th:only-of-type {\n",
       "        vertical-align: middle;\n",
       "    }\n",
       "\n",
       "    .dataframe tbody tr th {\n",
       "        vertical-align: top;\n",
       "    }\n",
       "\n",
       "    .dataframe thead th {\n",
       "        text-align: right;\n",
       "    }\n",
       "</style>\n",
       "<table border=\"1\" class=\"dataframe\">\n",
       "  <thead>\n",
       "    <tr style=\"text-align: right;\">\n",
       "      <th></th>\n",
       "      <th>ms_subclass</th>\n",
       "      <th>lot_area</th>\n",
       "      <th>bldg_type</th>\n",
       "      <th>house_style</th>\n",
       "      <th>overall_qual</th>\n",
       "      <th>overall_cond</th>\n",
       "      <th>year_built</th>\n",
       "      <th>exter_qual</th>\n",
       "      <th>exter_cond</th>\n",
       "      <th>bsmtfin_sf_1</th>\n",
       "      <th>bsmt_unf_sf</th>\n",
       "      <th>total_bsmt_sf</th>\n",
       "      <th>heating_qc</th>\n",
       "      <th>central_air</th>\n",
       "      <th>1st_flr_sf</th>\n",
       "      <th>2nd_flr_sf</th>\n",
       "      <th>low_qual_fin_sf</th>\n",
       "      <th>gr_liv_area</th>\n",
       "      <th>bsmt_full_bath</th>\n",
       "      <th>bsmt_half_bath</th>\n",
       "      <th>full_bath</th>\n",
       "      <th>half_bath</th>\n",
       "      <th>bedroom_abvgr</th>\n",
       "      <th>kitchen_abvgr</th>\n",
       "      <th>kitchen_qual</th>\n",
       "      <th>totrms_abvgrd</th>\n",
       "      <th>fireplace_qu</th>\n",
       "      <th>garage_type</th>\n",
       "      <th>garage_finish</th>\n",
       "      <th>garage_cars</th>\n",
       "      <th>garage_area</th>\n",
       "      <th>garage_qual</th>\n",
       "      <th>garage_cond</th>\n",
       "      <th>pool_qc</th>\n",
       "      <th>yr_sold</th>\n",
       "      <th>saleprice</th>\n",
       "    </tr>\n",
       "  </thead>\n",
       "  <tbody>\n",
       "    <tr>\n",
       "      <th>0</th>\n",
       "      <td>120</td>\n",
       "      <td>3072</td>\n",
       "      <td>TwnhsE</td>\n",
       "      <td>1Story</td>\n",
       "      <td>7</td>\n",
       "      <td>5</td>\n",
       "      <td>2004</td>\n",
       "      <td>Gd</td>\n",
       "      <td>TA</td>\n",
       "      <td>1059</td>\n",
       "      <td>306</td>\n",
       "      <td>1365</td>\n",
       "      <td>Ex</td>\n",
       "      <td>Y</td>\n",
       "      <td>1548</td>\n",
       "      <td>0</td>\n",
       "      <td>0</td>\n",
       "      <td>1548</td>\n",
       "      <td>1</td>\n",
       "      <td>0</td>\n",
       "      <td>2</td>\n",
       "      <td>0</td>\n",
       "      <td>2</td>\n",
       "      <td>1</td>\n",
       "      <td>Gd</td>\n",
       "      <td>7</td>\n",
       "      <td>TA</td>\n",
       "      <td>Attchd</td>\n",
       "      <td>Fin</td>\n",
       "      <td>2</td>\n",
       "      <td>388</td>\n",
       "      <td>TA</td>\n",
       "      <td>TA</td>\n",
       "      <td>0</td>\n",
       "      <td>2006</td>\n",
       "      <td>225000</td>\n",
       "    </tr>\n",
       "    <tr>\n",
       "      <th>2</th>\n",
       "      <td>120</td>\n",
       "      <td>3013</td>\n",
       "      <td>TwnhsE</td>\n",
       "      <td>1Story</td>\n",
       "      <td>7</td>\n",
       "      <td>5</td>\n",
       "      <td>2005</td>\n",
       "      <td>Gd</td>\n",
       "      <td>TA</td>\n",
       "      <td>16</td>\n",
       "      <td>1346</td>\n",
       "      <td>1362</td>\n",
       "      <td>Ex</td>\n",
       "      <td>Y</td>\n",
       "      <td>1506</td>\n",
       "      <td>0</td>\n",
       "      <td>0</td>\n",
       "      <td>1506</td>\n",
       "      <td>0</td>\n",
       "      <td>0</td>\n",
       "      <td>2</td>\n",
       "      <td>0</td>\n",
       "      <td>2</td>\n",
       "      <td>1</td>\n",
       "      <td>Gd</td>\n",
       "      <td>6</td>\n",
       "      <td>Gd</td>\n",
       "      <td>Attchd</td>\n",
       "      <td>Fin</td>\n",
       "      <td>2</td>\n",
       "      <td>440</td>\n",
       "      <td>TA</td>\n",
       "      <td>TA</td>\n",
       "      <td>0</td>\n",
       "      <td>2006</td>\n",
       "      <td>213490</td>\n",
       "    </tr>\n",
       "    <tr>\n",
       "      <th>4</th>\n",
       "      <td>120</td>\n",
       "      <td>3196</td>\n",
       "      <td>TwnhsE</td>\n",
       "      <td>1Story</td>\n",
       "      <td>8</td>\n",
       "      <td>5</td>\n",
       "      <td>2003</td>\n",
       "      <td>Gd</td>\n",
       "      <td>TA</td>\n",
       "      <td>0</td>\n",
       "      <td>1273</td>\n",
       "      <td>1273</td>\n",
       "      <td>Ex</td>\n",
       "      <td>Y</td>\n",
       "      <td>1456</td>\n",
       "      <td>0</td>\n",
       "      <td>0</td>\n",
       "      <td>1456</td>\n",
       "      <td>0</td>\n",
       "      <td>0</td>\n",
       "      <td>2</td>\n",
       "      <td>0</td>\n",
       "      <td>2</td>\n",
       "      <td>1</td>\n",
       "      <td>Gd</td>\n",
       "      <td>7</td>\n",
       "      <td>TA</td>\n",
       "      <td>Attchd</td>\n",
       "      <td>Fin</td>\n",
       "      <td>2</td>\n",
       "      <td>400</td>\n",
       "      <td>TA</td>\n",
       "      <td>TA</td>\n",
       "      <td>0</td>\n",
       "      <td>2006</td>\n",
       "      <td>215000</td>\n",
       "    </tr>\n",
       "    <tr>\n",
       "      <th>6</th>\n",
       "      <td>20</td>\n",
       "      <td>3182</td>\n",
       "      <td>1Fam</td>\n",
       "      <td>1Story</td>\n",
       "      <td>7</td>\n",
       "      <td>5</td>\n",
       "      <td>2007</td>\n",
       "      <td>Gd</td>\n",
       "      <td>TA</td>\n",
       "      <td>0</td>\n",
       "      <td>1266</td>\n",
       "      <td>1266</td>\n",
       "      <td>Ex</td>\n",
       "      <td>Y</td>\n",
       "      <td>1266</td>\n",
       "      <td>0</td>\n",
       "      <td>0</td>\n",
       "      <td>1266</td>\n",
       "      <td>0</td>\n",
       "      <td>0</td>\n",
       "      <td>2</td>\n",
       "      <td>0</td>\n",
       "      <td>2</td>\n",
       "      <td>1</td>\n",
       "      <td>Gd</td>\n",
       "      <td>6</td>\n",
       "      <td>Gd</td>\n",
       "      <td>Attchd</td>\n",
       "      <td>Fin</td>\n",
       "      <td>2</td>\n",
       "      <td>388</td>\n",
       "      <td>TA</td>\n",
       "      <td>TA</td>\n",
       "      <td>0</td>\n",
       "      <td>2008</td>\n",
       "      <td>159895</td>\n",
       "    </tr>\n",
       "    <tr>\n",
       "      <th>7</th>\n",
       "      <td>120</td>\n",
       "      <td>3203</td>\n",
       "      <td>TwnhsE</td>\n",
       "      <td>1Story</td>\n",
       "      <td>7</td>\n",
       "      <td>5</td>\n",
       "      <td>2006</td>\n",
       "      <td>Gd</td>\n",
       "      <td>TA</td>\n",
       "      <td>16</td>\n",
       "      <td>1129</td>\n",
       "      <td>1145</td>\n",
       "      <td>Ex</td>\n",
       "      <td>Y</td>\n",
       "      <td>1145</td>\n",
       "      <td>0</td>\n",
       "      <td>0</td>\n",
       "      <td>1145</td>\n",
       "      <td>0</td>\n",
       "      <td>0</td>\n",
       "      <td>2</td>\n",
       "      <td>0</td>\n",
       "      <td>2</td>\n",
       "      <td>1</td>\n",
       "      <td>Gd</td>\n",
       "      <td>6</td>\n",
       "      <td>None</td>\n",
       "      <td>Attchd</td>\n",
       "      <td>Fin</td>\n",
       "      <td>2</td>\n",
       "      <td>437</td>\n",
       "      <td>TA</td>\n",
       "      <td>TA</td>\n",
       "      <td>0</td>\n",
       "      <td>2010</td>\n",
       "      <td>160000</td>\n",
       "    </tr>\n",
       "  </tbody>\n",
       "</table>\n",
       "</div>"
      ],
      "text/plain": [
       "   ms_subclass  lot_area bldg_type house_style  overall_qual  overall_cond  \\\n",
       "0          120      3072    TwnhsE      1Story             7             5   \n",
       "2          120      3013    TwnhsE      1Story             7             5   \n",
       "4          120      3196    TwnhsE      1Story             8             5   \n",
       "6           20      3182      1Fam      1Story             7             5   \n",
       "7          120      3203    TwnhsE      1Story             7             5   \n",
       "\n",
       "   year_built exter_qual exter_cond  bsmtfin_sf_1  bsmt_unf_sf  total_bsmt_sf  \\\n",
       "0        2004         Gd         TA          1059          306           1365   \n",
       "2        2005         Gd         TA            16         1346           1362   \n",
       "4        2003         Gd         TA             0         1273           1273   \n",
       "6        2007         Gd         TA             0         1266           1266   \n",
       "7        2006         Gd         TA            16         1129           1145   \n",
       "\n",
       "  heating_qc central_air  1st_flr_sf  2nd_flr_sf  low_qual_fin_sf  \\\n",
       "0         Ex           Y        1548           0                0   \n",
       "2         Ex           Y        1506           0                0   \n",
       "4         Ex           Y        1456           0                0   \n",
       "6         Ex           Y        1266           0                0   \n",
       "7         Ex           Y        1145           0                0   \n",
       "\n",
       "   gr_liv_area  bsmt_full_bath  bsmt_half_bath  full_bath  half_bath  \\\n",
       "0         1548               1               0          2          0   \n",
       "2         1506               0               0          2          0   \n",
       "4         1456               0               0          2          0   \n",
       "6         1266               0               0          2          0   \n",
       "7         1145               0               0          2          0   \n",
       "\n",
       "   bedroom_abvgr  kitchen_abvgr kitchen_qual  totrms_abvgrd fireplace_qu  \\\n",
       "0              2              1           Gd              7           TA   \n",
       "2              2              1           Gd              6           Gd   \n",
       "4              2              1           Gd              7           TA   \n",
       "6              2              1           Gd              6           Gd   \n",
       "7              2              1           Gd              6         None   \n",
       "\n",
       "  garage_type garage_finish  garage_cars  garage_area garage_qual garage_cond  \\\n",
       "0      Attchd           Fin            2          388          TA          TA   \n",
       "2      Attchd           Fin            2          440          TA          TA   \n",
       "4      Attchd           Fin            2          400          TA          TA   \n",
       "6      Attchd           Fin            2          388          TA          TA   \n",
       "7      Attchd           Fin            2          437          TA          TA   \n",
       "\n",
       "   pool_qc  yr_sold  saleprice  \n",
       "0        0     2006     225000  \n",
       "2        0     2006     213490  \n",
       "4        0     2006     215000  \n",
       "6        0     2008     159895  \n",
       "7        0     2010     160000  "
      ]
     },
     "execution_count": 96,
     "metadata": {},
     "output_type": "execute_result"
    }
   ],
   "source": [
    "#this is what it looks like right now\n",
    "data = basic_preprocessing('casas_entrena.csv')\n",
    "data.head()"
   ]
  },
  {
   "cell_type": "code",
   "execution_count": 97,
   "metadata": {
    "ExecuteTime": {
     "end_time": "2020-10-27T14:30:26.880146Z",
     "start_time": "2020-10-27T14:30:26.862269Z"
    }
   },
   "outputs": [
    {
     "data": {
      "text/plain": [
       "(1208, 36)"
      ]
     },
     "execution_count": 97,
     "metadata": {},
     "output_type": "execute_result"
    }
   ],
   "source": [
    "data.shape"
   ]
  },
  {
   "cell_type": "markdown",
   "metadata": {},
   "source": [
    "# Transforming the data. \n",
    "\n",
    "We have done a basic preprocessing of the data just for it to be a little bit cleaner and prepared for a ML model. Now we will focus on the transformation pipeline to be implemented later on. "
   ]
  },
  {
   "cell_type": "code",
   "execution_count": 98,
   "metadata": {
    "ExecuteTime": {
     "end_time": "2020-10-27T14:30:28.692957Z",
     "start_time": "2020-10-27T14:30:28.681649Z"
    }
   },
   "outputs": [],
   "source": [
    "X = data.iloc[:,:-1].copy()\n",
    "Y = data[\"saleprice\"].copy()"
   ]
  },
  {
   "cell_type": "code",
   "execution_count": 99,
   "metadata": {
    "ExecuteTime": {
     "end_time": "2020-10-27T14:30:29.374236Z",
     "start_time": "2020-10-27T14:30:29.368360Z"
    }
   },
   "outputs": [],
   "source": [
    "#this dictionary will be useful for the \"CombinedAttributesAdder\" class\n",
    "idx = {col: X.columns.get_loc(col) for col in X.columns}"
   ]
  },
  {
   "cell_type": "code",
   "execution_count": 100,
   "metadata": {
    "ExecuteTime": {
     "end_time": "2020-10-27T14:30:29.920417Z",
     "start_time": "2020-10-27T14:30:29.892308Z"
    }
   },
   "outputs": [
    {
     "data": {
      "text/plain": [
       "4"
      ]
     },
     "execution_count": 100,
     "metadata": {},
     "output_type": "execute_result"
    }
   ],
   "source": [
    "idx[\"overall_qual\"] #it tells you the index of any given column"
   ]
  },
  {
   "cell_type": "markdown",
   "metadata": {},
   "source": [
    "### Label Encoder. \n",
    "\n",
    "Some categorical features —kitchen quality, for example— are arrenged in an ordering such that it may be useful to transform them with Sklearn's LabelEncoder() so that we can further manipulate them and combine them with other features. \n",
    "\n",
    "This has the added benefit of reducing the number of variables in the final model because we are not one-hot-encoding them into n or n-1 new variables. "
   ]
  },
  {
   "cell_type": "code",
   "execution_count": 101,
   "metadata": {
    "ExecuteTime": {
     "end_time": "2020-10-27T14:30:31.421219Z",
     "start_time": "2020-10-27T14:30:31.412056Z"
    }
   },
   "outputs": [],
   "source": [
    "def encode_variables(data, cols):\n",
    "    \"\"\"\n",
    "    Function to transform numerical features into a numerical ordering. \n",
    "    \n",
    "    Parameters: \n",
    "    -----------\n",
    "    data: pandas dataframe\n",
    "    cols: list\n",
    "          list of cols that you want to transform with the label encoder. \n",
    "    \n",
    "    Returns:\n",
    "    --------\n",
    "    \n",
    "    data: pandas dataframe\n",
    "          A cleanear, happier dataframe :) \n",
    "    \n",
    "    \"\"\"\n",
    "    for col in cols:\n",
    "        le = LabelEncoder() \n",
    "        data[col] = le.fit_transform(list(data[col].values))\n",
    "    return data"
   ]
  },
  {
   "cell_type": "code",
   "execution_count": 102,
   "metadata": {
    "ExecuteTime": {
     "end_time": "2020-10-27T14:30:32.247994Z",
     "start_time": "2020-10-27T14:30:32.242856Z"
    }
   },
   "outputs": [],
   "source": [
    "cols_to_encode = ['exter_qual', 'exter_cond', 'heating_qc', 'central_air',\n",
    "                 'kitchen_qual', 'fireplace_qu', 'garage_qual']"
   ]
  },
  {
   "cell_type": "code",
   "execution_count": 103,
   "metadata": {
    "ExecuteTime": {
     "end_time": "2020-10-27T14:30:32.987656Z",
     "start_time": "2020-10-27T14:30:32.968493Z"
    }
   },
   "outputs": [],
   "source": [
    "X = encode_variables(X, cols_to_encode)"
   ]
  },
  {
   "cell_type": "code",
   "execution_count": 104,
   "metadata": {
    "ExecuteTime": {
     "end_time": "2020-10-27T14:30:33.962039Z",
     "start_time": "2020-10-27T14:30:33.920691Z"
    }
   },
   "outputs": [
    {
     "data": {
      "text/html": [
       "<div>\n",
       "<style scoped>\n",
       "    .dataframe tbody tr th:only-of-type {\n",
       "        vertical-align: middle;\n",
       "    }\n",
       "\n",
       "    .dataframe tbody tr th {\n",
       "        vertical-align: top;\n",
       "    }\n",
       "\n",
       "    .dataframe thead th {\n",
       "        text-align: right;\n",
       "    }\n",
       "</style>\n",
       "<table border=\"1\" class=\"dataframe\">\n",
       "  <thead>\n",
       "    <tr style=\"text-align: right;\">\n",
       "      <th></th>\n",
       "      <th>ms_subclass</th>\n",
       "      <th>lot_area</th>\n",
       "      <th>bldg_type</th>\n",
       "      <th>house_style</th>\n",
       "      <th>overall_qual</th>\n",
       "      <th>overall_cond</th>\n",
       "      <th>year_built</th>\n",
       "      <th>exter_qual</th>\n",
       "      <th>exter_cond</th>\n",
       "      <th>bsmtfin_sf_1</th>\n",
       "      <th>bsmt_unf_sf</th>\n",
       "      <th>total_bsmt_sf</th>\n",
       "      <th>heating_qc</th>\n",
       "      <th>central_air</th>\n",
       "      <th>1st_flr_sf</th>\n",
       "      <th>2nd_flr_sf</th>\n",
       "      <th>low_qual_fin_sf</th>\n",
       "      <th>gr_liv_area</th>\n",
       "      <th>bsmt_full_bath</th>\n",
       "      <th>bsmt_half_bath</th>\n",
       "      <th>full_bath</th>\n",
       "      <th>half_bath</th>\n",
       "      <th>bedroom_abvgr</th>\n",
       "      <th>kitchen_abvgr</th>\n",
       "      <th>kitchen_qual</th>\n",
       "      <th>totrms_abvgrd</th>\n",
       "      <th>fireplace_qu</th>\n",
       "      <th>garage_type</th>\n",
       "      <th>garage_finish</th>\n",
       "      <th>garage_cars</th>\n",
       "      <th>garage_area</th>\n",
       "      <th>garage_qual</th>\n",
       "      <th>garage_cond</th>\n",
       "      <th>pool_qc</th>\n",
       "      <th>yr_sold</th>\n",
       "    </tr>\n",
       "  </thead>\n",
       "  <tbody>\n",
       "    <tr>\n",
       "      <th>0</th>\n",
       "      <td>120</td>\n",
       "      <td>3072</td>\n",
       "      <td>TwnhsE</td>\n",
       "      <td>1Story</td>\n",
       "      <td>7</td>\n",
       "      <td>5</td>\n",
       "      <td>2004</td>\n",
       "      <td>2</td>\n",
       "      <td>4</td>\n",
       "      <td>1059</td>\n",
       "      <td>306</td>\n",
       "      <td>1365</td>\n",
       "      <td>0</td>\n",
       "      <td>1</td>\n",
       "      <td>1548</td>\n",
       "      <td>0</td>\n",
       "      <td>0</td>\n",
       "      <td>1548</td>\n",
       "      <td>1</td>\n",
       "      <td>0</td>\n",
       "      <td>2</td>\n",
       "      <td>0</td>\n",
       "      <td>2</td>\n",
       "      <td>1</td>\n",
       "      <td>2</td>\n",
       "      <td>7</td>\n",
       "      <td>5</td>\n",
       "      <td>Attchd</td>\n",
       "      <td>Fin</td>\n",
       "      <td>2</td>\n",
       "      <td>388</td>\n",
       "      <td>4</td>\n",
       "      <td>TA</td>\n",
       "      <td>0</td>\n",
       "      <td>2006</td>\n",
       "    </tr>\n",
       "    <tr>\n",
       "      <th>2</th>\n",
       "      <td>120</td>\n",
       "      <td>3013</td>\n",
       "      <td>TwnhsE</td>\n",
       "      <td>1Story</td>\n",
       "      <td>7</td>\n",
       "      <td>5</td>\n",
       "      <td>2005</td>\n",
       "      <td>2</td>\n",
       "      <td>4</td>\n",
       "      <td>16</td>\n",
       "      <td>1346</td>\n",
       "      <td>1362</td>\n",
       "      <td>0</td>\n",
       "      <td>1</td>\n",
       "      <td>1506</td>\n",
       "      <td>0</td>\n",
       "      <td>0</td>\n",
       "      <td>1506</td>\n",
       "      <td>0</td>\n",
       "      <td>0</td>\n",
       "      <td>2</td>\n",
       "      <td>0</td>\n",
       "      <td>2</td>\n",
       "      <td>1</td>\n",
       "      <td>2</td>\n",
       "      <td>6</td>\n",
       "      <td>2</td>\n",
       "      <td>Attchd</td>\n",
       "      <td>Fin</td>\n",
       "      <td>2</td>\n",
       "      <td>440</td>\n",
       "      <td>4</td>\n",
       "      <td>TA</td>\n",
       "      <td>0</td>\n",
       "      <td>2006</td>\n",
       "    </tr>\n",
       "    <tr>\n",
       "      <th>4</th>\n",
       "      <td>120</td>\n",
       "      <td>3196</td>\n",
       "      <td>TwnhsE</td>\n",
       "      <td>1Story</td>\n",
       "      <td>8</td>\n",
       "      <td>5</td>\n",
       "      <td>2003</td>\n",
       "      <td>2</td>\n",
       "      <td>4</td>\n",
       "      <td>0</td>\n",
       "      <td>1273</td>\n",
       "      <td>1273</td>\n",
       "      <td>0</td>\n",
       "      <td>1</td>\n",
       "      <td>1456</td>\n",
       "      <td>0</td>\n",
       "      <td>0</td>\n",
       "      <td>1456</td>\n",
       "      <td>0</td>\n",
       "      <td>0</td>\n",
       "      <td>2</td>\n",
       "      <td>0</td>\n",
       "      <td>2</td>\n",
       "      <td>1</td>\n",
       "      <td>2</td>\n",
       "      <td>7</td>\n",
       "      <td>5</td>\n",
       "      <td>Attchd</td>\n",
       "      <td>Fin</td>\n",
       "      <td>2</td>\n",
       "      <td>400</td>\n",
       "      <td>4</td>\n",
       "      <td>TA</td>\n",
       "      <td>0</td>\n",
       "      <td>2006</td>\n",
       "    </tr>\n",
       "    <tr>\n",
       "      <th>6</th>\n",
       "      <td>20</td>\n",
       "      <td>3182</td>\n",
       "      <td>1Fam</td>\n",
       "      <td>1Story</td>\n",
       "      <td>7</td>\n",
       "      <td>5</td>\n",
       "      <td>2007</td>\n",
       "      <td>2</td>\n",
       "      <td>4</td>\n",
       "      <td>0</td>\n",
       "      <td>1266</td>\n",
       "      <td>1266</td>\n",
       "      <td>0</td>\n",
       "      <td>1</td>\n",
       "      <td>1266</td>\n",
       "      <td>0</td>\n",
       "      <td>0</td>\n",
       "      <td>1266</td>\n",
       "      <td>0</td>\n",
       "      <td>0</td>\n",
       "      <td>2</td>\n",
       "      <td>0</td>\n",
       "      <td>2</td>\n",
       "      <td>1</td>\n",
       "      <td>2</td>\n",
       "      <td>6</td>\n",
       "      <td>2</td>\n",
       "      <td>Attchd</td>\n",
       "      <td>Fin</td>\n",
       "      <td>2</td>\n",
       "      <td>388</td>\n",
       "      <td>4</td>\n",
       "      <td>TA</td>\n",
       "      <td>0</td>\n",
       "      <td>2008</td>\n",
       "    </tr>\n",
       "    <tr>\n",
       "      <th>7</th>\n",
       "      <td>120</td>\n",
       "      <td>3203</td>\n",
       "      <td>TwnhsE</td>\n",
       "      <td>1Story</td>\n",
       "      <td>7</td>\n",
       "      <td>5</td>\n",
       "      <td>2006</td>\n",
       "      <td>2</td>\n",
       "      <td>4</td>\n",
       "      <td>16</td>\n",
       "      <td>1129</td>\n",
       "      <td>1145</td>\n",
       "      <td>0</td>\n",
       "      <td>1</td>\n",
       "      <td>1145</td>\n",
       "      <td>0</td>\n",
       "      <td>0</td>\n",
       "      <td>1145</td>\n",
       "      <td>0</td>\n",
       "      <td>0</td>\n",
       "      <td>2</td>\n",
       "      <td>0</td>\n",
       "      <td>2</td>\n",
       "      <td>1</td>\n",
       "      <td>2</td>\n",
       "      <td>6</td>\n",
       "      <td>3</td>\n",
       "      <td>Attchd</td>\n",
       "      <td>Fin</td>\n",
       "      <td>2</td>\n",
       "      <td>437</td>\n",
       "      <td>4</td>\n",
       "      <td>TA</td>\n",
       "      <td>0</td>\n",
       "      <td>2010</td>\n",
       "    </tr>\n",
       "  </tbody>\n",
       "</table>\n",
       "</div>"
      ],
      "text/plain": [
       "   ms_subclass  lot_area bldg_type house_style  overall_qual  overall_cond  \\\n",
       "0          120      3072    TwnhsE      1Story             7             5   \n",
       "2          120      3013    TwnhsE      1Story             7             5   \n",
       "4          120      3196    TwnhsE      1Story             8             5   \n",
       "6           20      3182      1Fam      1Story             7             5   \n",
       "7          120      3203    TwnhsE      1Story             7             5   \n",
       "\n",
       "   year_built  exter_qual  exter_cond  bsmtfin_sf_1  bsmt_unf_sf  \\\n",
       "0        2004           2           4          1059          306   \n",
       "2        2005           2           4            16         1346   \n",
       "4        2003           2           4             0         1273   \n",
       "6        2007           2           4             0         1266   \n",
       "7        2006           2           4            16         1129   \n",
       "\n",
       "   total_bsmt_sf  heating_qc  central_air  1st_flr_sf  2nd_flr_sf  \\\n",
       "0           1365           0            1        1548           0   \n",
       "2           1362           0            1        1506           0   \n",
       "4           1273           0            1        1456           0   \n",
       "6           1266           0            1        1266           0   \n",
       "7           1145           0            1        1145           0   \n",
       "\n",
       "   low_qual_fin_sf  gr_liv_area  bsmt_full_bath  bsmt_half_bath  full_bath  \\\n",
       "0                0         1548               1               0          2   \n",
       "2                0         1506               0               0          2   \n",
       "4                0         1456               0               0          2   \n",
       "6                0         1266               0               0          2   \n",
       "7                0         1145               0               0          2   \n",
       "\n",
       "   half_bath  bedroom_abvgr  kitchen_abvgr  kitchen_qual  totrms_abvgrd  \\\n",
       "0          0              2              1             2              7   \n",
       "2          0              2              1             2              6   \n",
       "4          0              2              1             2              7   \n",
       "6          0              2              1             2              6   \n",
       "7          0              2              1             2              6   \n",
       "\n",
       "   fireplace_qu garage_type garage_finish  garage_cars  garage_area  \\\n",
       "0             5      Attchd           Fin            2          388   \n",
       "2             2      Attchd           Fin            2          440   \n",
       "4             5      Attchd           Fin            2          400   \n",
       "6             2      Attchd           Fin            2          388   \n",
       "7             3      Attchd           Fin            2          437   \n",
       "\n",
       "   garage_qual garage_cond  pool_qc  yr_sold  \n",
       "0            4          TA        0     2006  \n",
       "2            4          TA        0     2006  \n",
       "4            4          TA        0     2006  \n",
       "6            4          TA        0     2008  \n",
       "7            4          TA        0     2010  "
      ]
     },
     "execution_count": 104,
     "metadata": {},
     "output_type": "execute_result"
    }
   ],
   "source": [
    "X.head()"
   ]
  },
  {
   "cell_type": "markdown",
   "metadata": {},
   "source": [
    "## Next steps:\n",
    "\n",
    "Arreglar lo de la alberca para que solo tenga un uno si sí tiene y un cero si no. Armar una función que me haga toda la transformación del preprocesamiento, desde separar las X y las Y's ya transformadas (X's con todo el pipeline y las Y's con lo de logaritmo). \n",
    "\n",
    "Queda pendiente agregar más interacciones, lo de los logaritmos e ir unificando el pipeline. Aunque no estaría de más entrenar otro modelo! "
   ]
  },
  {
   "cell_type": "markdown",
   "metadata": {},
   "source": [
    "# Interactions. "
   ]
  },
  {
   "cell_type": "markdown",
   "metadata": {},
   "source": [
    "This is the fun part. Now we get to add new variables and interactions between some of them. For example, it makes sense to add a variable that shows the interaction between total square feet and the overall quality of the house. "
   ]
  },
  {
   "cell_type": "code",
   "execution_count": 90,
   "metadata": {
    "ExecuteTime": {
     "end_time": "2020-10-27T14:29:47.447074Z",
     "start_time": "2020-10-27T14:29:47.439326Z"
    }
   },
   "outputs": [
    {
     "data": {
      "text/plain": [
       "array(['ms_subclass', 'lot_area', 'bldg_type', 'house_style',\n",
       "       'overall_qual', 'overall_cond', 'year_built', 'exter_qual',\n",
       "       'exter_cond', 'bsmtfin_sf_1', 'bsmt_unf_sf', 'total_bsmt_sf',\n",
       "       'heating_qc', 'central_air', '1st_flr_sf', '2nd_flr_sf',\n",
       "       'low_qual_fin_sf', 'gr_liv_area', 'bsmt_full_bath',\n",
       "       'bsmt_half_bath', 'full_bath', 'half_bath', 'bedroom_abvgr',\n",
       "       'kitchen_abvgr', 'kitchen_qual', 'totrms_abvgrd', 'fireplace_qu',\n",
       "       'garage_type', 'garage_finish', 'garage_cars', 'garage_area',\n",
       "       'garage_qual', 'garage_cond', 'pool_qc', 'yr_sold', 'sale_type'],\n",
       "      dtype=object)"
      ]
     },
     "execution_count": 90,
     "metadata": {},
     "output_type": "execute_result"
    }
   ],
   "source": [
    "X.columns.values"
   ]
  },
  {
   "cell_type": "code",
   "execution_count": 105,
   "metadata": {
    "ExecuteTime": {
     "end_time": "2020-10-27T14:30:44.508015Z",
     "start_time": "2020-10-27T14:30:44.466528Z"
    }
   },
   "outputs": [
    {
     "data": {
      "text/html": [
       "<div>\n",
       "<style scoped>\n",
       "    .dataframe tbody tr th:only-of-type {\n",
       "        vertical-align: middle;\n",
       "    }\n",
       "\n",
       "    .dataframe tbody tr th {\n",
       "        vertical-align: top;\n",
       "    }\n",
       "\n",
       "    .dataframe thead th {\n",
       "        text-align: right;\n",
       "    }\n",
       "</style>\n",
       "<table border=\"1\" class=\"dataframe\">\n",
       "  <thead>\n",
       "    <tr style=\"text-align: right;\">\n",
       "      <th></th>\n",
       "      <th>ms_subclass</th>\n",
       "      <th>lot_area</th>\n",
       "      <th>bldg_type</th>\n",
       "      <th>house_style</th>\n",
       "      <th>overall_qual</th>\n",
       "      <th>overall_cond</th>\n",
       "      <th>year_built</th>\n",
       "      <th>exter_qual</th>\n",
       "      <th>exter_cond</th>\n",
       "      <th>bsmtfin_sf_1</th>\n",
       "      <th>bsmt_unf_sf</th>\n",
       "      <th>total_bsmt_sf</th>\n",
       "      <th>heating_qc</th>\n",
       "      <th>central_air</th>\n",
       "      <th>1st_flr_sf</th>\n",
       "      <th>2nd_flr_sf</th>\n",
       "      <th>low_qual_fin_sf</th>\n",
       "      <th>gr_liv_area</th>\n",
       "      <th>bsmt_full_bath</th>\n",
       "      <th>bsmt_half_bath</th>\n",
       "      <th>full_bath</th>\n",
       "      <th>half_bath</th>\n",
       "      <th>bedroom_abvgr</th>\n",
       "      <th>kitchen_abvgr</th>\n",
       "      <th>kitchen_qual</th>\n",
       "      <th>totrms_abvgrd</th>\n",
       "      <th>fireplace_qu</th>\n",
       "      <th>garage_type</th>\n",
       "      <th>garage_finish</th>\n",
       "      <th>garage_cars</th>\n",
       "      <th>garage_area</th>\n",
       "      <th>garage_qual</th>\n",
       "      <th>garage_cond</th>\n",
       "      <th>pool_qc</th>\n",
       "      <th>yr_sold</th>\n",
       "    </tr>\n",
       "  </thead>\n",
       "  <tbody>\n",
       "    <tr>\n",
       "      <th>0</th>\n",
       "      <td>120</td>\n",
       "      <td>3072</td>\n",
       "      <td>TwnhsE</td>\n",
       "      <td>1Story</td>\n",
       "      <td>7</td>\n",
       "      <td>5</td>\n",
       "      <td>2004</td>\n",
       "      <td>2</td>\n",
       "      <td>4</td>\n",
       "      <td>1059</td>\n",
       "      <td>306</td>\n",
       "      <td>1365</td>\n",
       "      <td>0</td>\n",
       "      <td>1</td>\n",
       "      <td>1548</td>\n",
       "      <td>0</td>\n",
       "      <td>0</td>\n",
       "      <td>1548</td>\n",
       "      <td>1</td>\n",
       "      <td>0</td>\n",
       "      <td>2</td>\n",
       "      <td>0</td>\n",
       "      <td>2</td>\n",
       "      <td>1</td>\n",
       "      <td>2</td>\n",
       "      <td>7</td>\n",
       "      <td>5</td>\n",
       "      <td>Attchd</td>\n",
       "      <td>Fin</td>\n",
       "      <td>2</td>\n",
       "      <td>388</td>\n",
       "      <td>4</td>\n",
       "      <td>TA</td>\n",
       "      <td>0</td>\n",
       "      <td>2006</td>\n",
       "    </tr>\n",
       "    <tr>\n",
       "      <th>2</th>\n",
       "      <td>120</td>\n",
       "      <td>3013</td>\n",
       "      <td>TwnhsE</td>\n",
       "      <td>1Story</td>\n",
       "      <td>7</td>\n",
       "      <td>5</td>\n",
       "      <td>2005</td>\n",
       "      <td>2</td>\n",
       "      <td>4</td>\n",
       "      <td>16</td>\n",
       "      <td>1346</td>\n",
       "      <td>1362</td>\n",
       "      <td>0</td>\n",
       "      <td>1</td>\n",
       "      <td>1506</td>\n",
       "      <td>0</td>\n",
       "      <td>0</td>\n",
       "      <td>1506</td>\n",
       "      <td>0</td>\n",
       "      <td>0</td>\n",
       "      <td>2</td>\n",
       "      <td>0</td>\n",
       "      <td>2</td>\n",
       "      <td>1</td>\n",
       "      <td>2</td>\n",
       "      <td>6</td>\n",
       "      <td>2</td>\n",
       "      <td>Attchd</td>\n",
       "      <td>Fin</td>\n",
       "      <td>2</td>\n",
       "      <td>440</td>\n",
       "      <td>4</td>\n",
       "      <td>TA</td>\n",
       "      <td>0</td>\n",
       "      <td>2006</td>\n",
       "    </tr>\n",
       "    <tr>\n",
       "      <th>4</th>\n",
       "      <td>120</td>\n",
       "      <td>3196</td>\n",
       "      <td>TwnhsE</td>\n",
       "      <td>1Story</td>\n",
       "      <td>8</td>\n",
       "      <td>5</td>\n",
       "      <td>2003</td>\n",
       "      <td>2</td>\n",
       "      <td>4</td>\n",
       "      <td>0</td>\n",
       "      <td>1273</td>\n",
       "      <td>1273</td>\n",
       "      <td>0</td>\n",
       "      <td>1</td>\n",
       "      <td>1456</td>\n",
       "      <td>0</td>\n",
       "      <td>0</td>\n",
       "      <td>1456</td>\n",
       "      <td>0</td>\n",
       "      <td>0</td>\n",
       "      <td>2</td>\n",
       "      <td>0</td>\n",
       "      <td>2</td>\n",
       "      <td>1</td>\n",
       "      <td>2</td>\n",
       "      <td>7</td>\n",
       "      <td>5</td>\n",
       "      <td>Attchd</td>\n",
       "      <td>Fin</td>\n",
       "      <td>2</td>\n",
       "      <td>400</td>\n",
       "      <td>4</td>\n",
       "      <td>TA</td>\n",
       "      <td>0</td>\n",
       "      <td>2006</td>\n",
       "    </tr>\n",
       "    <tr>\n",
       "      <th>6</th>\n",
       "      <td>20</td>\n",
       "      <td>3182</td>\n",
       "      <td>1Fam</td>\n",
       "      <td>1Story</td>\n",
       "      <td>7</td>\n",
       "      <td>5</td>\n",
       "      <td>2007</td>\n",
       "      <td>2</td>\n",
       "      <td>4</td>\n",
       "      <td>0</td>\n",
       "      <td>1266</td>\n",
       "      <td>1266</td>\n",
       "      <td>0</td>\n",
       "      <td>1</td>\n",
       "      <td>1266</td>\n",
       "      <td>0</td>\n",
       "      <td>0</td>\n",
       "      <td>1266</td>\n",
       "      <td>0</td>\n",
       "      <td>0</td>\n",
       "      <td>2</td>\n",
       "      <td>0</td>\n",
       "      <td>2</td>\n",
       "      <td>1</td>\n",
       "      <td>2</td>\n",
       "      <td>6</td>\n",
       "      <td>2</td>\n",
       "      <td>Attchd</td>\n",
       "      <td>Fin</td>\n",
       "      <td>2</td>\n",
       "      <td>388</td>\n",
       "      <td>4</td>\n",
       "      <td>TA</td>\n",
       "      <td>0</td>\n",
       "      <td>2008</td>\n",
       "    </tr>\n",
       "    <tr>\n",
       "      <th>7</th>\n",
       "      <td>120</td>\n",
       "      <td>3203</td>\n",
       "      <td>TwnhsE</td>\n",
       "      <td>1Story</td>\n",
       "      <td>7</td>\n",
       "      <td>5</td>\n",
       "      <td>2006</td>\n",
       "      <td>2</td>\n",
       "      <td>4</td>\n",
       "      <td>16</td>\n",
       "      <td>1129</td>\n",
       "      <td>1145</td>\n",
       "      <td>0</td>\n",
       "      <td>1</td>\n",
       "      <td>1145</td>\n",
       "      <td>0</td>\n",
       "      <td>0</td>\n",
       "      <td>1145</td>\n",
       "      <td>0</td>\n",
       "      <td>0</td>\n",
       "      <td>2</td>\n",
       "      <td>0</td>\n",
       "      <td>2</td>\n",
       "      <td>1</td>\n",
       "      <td>2</td>\n",
       "      <td>6</td>\n",
       "      <td>3</td>\n",
       "      <td>Attchd</td>\n",
       "      <td>Fin</td>\n",
       "      <td>2</td>\n",
       "      <td>437</td>\n",
       "      <td>4</td>\n",
       "      <td>TA</td>\n",
       "      <td>0</td>\n",
       "      <td>2010</td>\n",
       "    </tr>\n",
       "  </tbody>\n",
       "</table>\n",
       "</div>"
      ],
      "text/plain": [
       "   ms_subclass  lot_area bldg_type house_style  overall_qual  overall_cond  \\\n",
       "0          120      3072    TwnhsE      1Story             7             5   \n",
       "2          120      3013    TwnhsE      1Story             7             5   \n",
       "4          120      3196    TwnhsE      1Story             8             5   \n",
       "6           20      3182      1Fam      1Story             7             5   \n",
       "7          120      3203    TwnhsE      1Story             7             5   \n",
       "\n",
       "   year_built  exter_qual  exter_cond  bsmtfin_sf_1  bsmt_unf_sf  \\\n",
       "0        2004           2           4          1059          306   \n",
       "2        2005           2           4            16         1346   \n",
       "4        2003           2           4             0         1273   \n",
       "6        2007           2           4             0         1266   \n",
       "7        2006           2           4            16         1129   \n",
       "\n",
       "   total_bsmt_sf  heating_qc  central_air  1st_flr_sf  2nd_flr_sf  \\\n",
       "0           1365           0            1        1548           0   \n",
       "2           1362           0            1        1506           0   \n",
       "4           1273           0            1        1456           0   \n",
       "6           1266           0            1        1266           0   \n",
       "7           1145           0            1        1145           0   \n",
       "\n",
       "   low_qual_fin_sf  gr_liv_area  bsmt_full_bath  bsmt_half_bath  full_bath  \\\n",
       "0                0         1548               1               0          2   \n",
       "2                0         1506               0               0          2   \n",
       "4                0         1456               0               0          2   \n",
       "6                0         1266               0               0          2   \n",
       "7                0         1145               0               0          2   \n",
       "\n",
       "   half_bath  bedroom_abvgr  kitchen_abvgr  kitchen_qual  totrms_abvgrd  \\\n",
       "0          0              2              1             2              7   \n",
       "2          0              2              1             2              6   \n",
       "4          0              2              1             2              7   \n",
       "6          0              2              1             2              6   \n",
       "7          0              2              1             2              6   \n",
       "\n",
       "   fireplace_qu garage_type garage_finish  garage_cars  garage_area  \\\n",
       "0             5      Attchd           Fin            2          388   \n",
       "2             2      Attchd           Fin            2          440   \n",
       "4             5      Attchd           Fin            2          400   \n",
       "6             2      Attchd           Fin            2          388   \n",
       "7             3      Attchd           Fin            2          437   \n",
       "\n",
       "   garage_qual garage_cond  pool_qc  yr_sold  \n",
       "0            4          TA        0     2006  \n",
       "2            4          TA        0     2006  \n",
       "4            4          TA        0     2006  \n",
       "6            4          TA        0     2008  \n",
       "7            4          TA        0     2010  "
      ]
     },
     "execution_count": 105,
     "metadata": {},
     "output_type": "execute_result"
    }
   ],
   "source": [
    "X.head()"
   ]
  },
  {
   "cell_type": "code",
   "execution_count": 63,
   "metadata": {
    "ExecuteTime": {
     "end_time": "2020-10-27T14:12:28.524704Z",
     "start_time": "2020-10-27T14:12:28.498886Z"
    }
   },
   "outputs": [],
   "source": [
    "class CombinedAttributesAdder(BaseEstimator, TransformerMixin): \n",
    "    def __init__(self, house_condition = True): \n",
    "        self.house_condition = house_condition\n",
    "    def fit(self, X, y=None):\n",
    "        return self \n",
    "    def transform(self, X, y=None):\n",
    "        qual_squared = X[:, idx[\"overall_qual\"]] ** 2 #quality squared\n",
    "        qual_m2 = X[:, idx[\"overall_qual\"]] * X[:, idx[\"lot_area\"]] #quality * sq. feet\n",
    "        garage_int = X[:, idx[\"garage_area\"]] * X[:, idx[\"garage_qual\"]]\n",
    "        total_sf = X[:, idx['total_bsmt_sf']] + X[:, idx['1st_flr_sf']] +\\\n",
    "                   X[:, idx['2nd_flr_sf']]\n",
    "        \n",
    "        qual_sf_total = X[:, idx[\"overall_qual\"]] * total_sf\n",
    "        #kitchen_total = X[:, idx[\"kitech_qual\"]]\n",
    "        \n",
    "        return np.c_[X, qual_squared, qual_m2, garage_int, total_sf,\n",
    "                    qual_sf_total]"
   ]
  },
  {
   "cell_type": "markdown",
   "metadata": {},
   "source": [
    "### Ahora se entenderá más claro qué es esto. \n",
    "\n",
    "Básicamente, esta clase nos ayuda a definir las nuevas variables que queremos agregar y es algo que usaremos en nuestro pipeline. El siguiente paso es crear un pipeline para las variables numéricas. "
   ]
  },
  {
   "cell_type": "code",
   "execution_count": 333,
   "metadata": {
    "ExecuteTime": {
     "end_time": "2020-10-21T13:32:24.870685Z",
     "start_time": "2020-10-21T13:32:24.846398Z"
    }
   },
   "outputs": [],
   "source": [
    "numeric_pipeline = Pipeline([\n",
    "    ('imputer', SimpleImputer(strategy=\"median\")),\n",
    "    ('attribs_adder', CombinedAttributesAdder2()),\n",
    "    ('std_scaler', StandardScaler()),\n",
    "])"
   ]
  },
  {
   "cell_type": "markdown",
   "metadata": {
    "ExecuteTime": {
     "end_time": "2020-10-20T14:01:00.941046Z",
     "start_time": "2020-10-20T14:01:00.931493Z"
    }
   },
   "source": [
    "## ¿Cómo se usa esto? "
   ]
  },
  {
   "cell_type": "markdown",
   "metadata": {
    "ExecuteTime": {
     "end_time": "2020-10-21T12:32:22.734631Z",
     "start_time": "2020-10-21T12:32:22.725265Z"
    }
   },
   "source": [
    "Seleccionemos primero las variables numéricas: "
   ]
  },
  {
   "cell_type": "code",
   "execution_count": 334,
   "metadata": {
    "ExecuteTime": {
     "end_time": "2020-10-21T13:32:26.260277Z",
     "start_time": "2020-10-21T13:32:26.245914Z"
    }
   },
   "outputs": [
    {
     "data": {
      "text/plain": [
       "array(['Lot Area', 'Overall Qual', 'Overall Cond', 'Year Built',\n",
       "       'Year Remod/Add', 'BsmtFin SF 1', 'BsmtFin SF 2', 'Bsmt Unf SF',\n",
       "       'Total Bsmt SF', '1st Flr SF', '2nd Flr SF', 'Low Qual Fin SF',\n",
       "       'Gr Liv Area', 'Bsmt Full Bath', 'Bsmt Half Bath', 'Full Bath',\n",
       "       'Half Bath', 'Bedroom AbvGr', 'Kitchen AbvGr', 'TotRms AbvGrd',\n",
       "       'Fireplaces', 'Garage Cars', 'Garage Area', 'Wood Deck SF',\n",
       "       'Open Porch SF', 'Enclosed Porch', '3Ssn Porch', 'Screen Porch',\n",
       "       'Pool Area', 'Misc Val', 'Mo Sold', 'Yr Sold'], dtype=object)"
      ]
     },
     "execution_count": 334,
     "metadata": {},
     "output_type": "execute_result"
    }
   ],
   "source": [
    "num_attribs = X.select_dtypes(include = \"number\").columns.values\n",
    "num_attribs"
   ]
  },
  {
   "cell_type": "code",
   "execution_count": 335,
   "metadata": {
    "ExecuteTime": {
     "end_time": "2020-10-21T13:32:26.899873Z",
     "start_time": "2020-10-21T13:32:26.892230Z"
    }
   },
   "outputs": [
    {
     "data": {
      "text/plain": [
       "32"
      ]
     },
     "execution_count": 335,
     "metadata": {},
     "output_type": "execute_result"
    }
   ],
   "source": [
    "len(num_attribs)"
   ]
  },
  {
   "cell_type": "code",
   "execution_count": 336,
   "metadata": {
    "ExecuteTime": {
     "end_time": "2020-10-21T13:32:27.332944Z",
     "start_time": "2020-10-21T13:32:27.311857Z"
    }
   },
   "outputs": [],
   "source": [
    "data_numeric = X[num_attribs]\n",
    "numeric_transformed = numeric_pipeline.fit_transform(data_numeric)"
   ]
  },
  {
   "cell_type": "code",
   "execution_count": 337,
   "metadata": {
    "ExecuteTime": {
     "end_time": "2020-10-21T13:32:27.933691Z",
     "start_time": "2020-10-21T13:32:27.924314Z"
    }
   },
   "outputs": [
    {
     "data": {
      "text/plain": [
       "(1208, 35)"
      ]
     },
     "execution_count": 337,
     "metadata": {},
     "output_type": "execute_result"
    }
   ],
   "source": [
    "numeric_transformed.shape"
   ]
  },
  {
   "cell_type": "markdown",
   "metadata": {},
   "source": [
    "Son las 32 variables numéricas más otras 3 que se agregaron en la clase de AttributesAdder2. "
   ]
  },
  {
   "cell_type": "markdown",
   "metadata": {},
   "source": [
    "### Pipeline completo (numérico más categórico)."
   ]
  },
  {
   "cell_type": "markdown",
   "metadata": {},
   "source": [
    "Una vez que tenemos esto, en realidad completar el pipeline no es tan difícil. "
   ]
  },
  {
   "cell_type": "code",
   "execution_count": 338,
   "metadata": {
    "ExecuteTime": {
     "end_time": "2020-10-21T13:32:35.119009Z",
     "start_time": "2020-10-21T13:32:35.106908Z"
    }
   },
   "outputs": [
    {
     "data": {
      "text/plain": [
       "20"
      ]
     },
     "execution_count": 338,
     "metadata": {},
     "output_type": "execute_result"
    }
   ],
   "source": [
    "cat_attribs = X.select_dtypes(include = 'object').columns.values\n",
    "len(cat_attribs)"
   ]
  },
  {
   "cell_type": "code",
   "execution_count": 339,
   "metadata": {
    "ExecuteTime": {
     "end_time": "2020-10-21T13:32:39.931384Z",
     "start_time": "2020-10-21T13:32:39.924635Z"
    }
   },
   "outputs": [],
   "source": [
    "full_pipeline = ColumnTransformer([\n",
    "    (\"numeric\", numeric_pipeline, num_attribs),\n",
    "    (\"categorical\", OneHotEncoder(handle_unknown='ignore'), cat_attribs),\n",
    "])"
   ]
  },
  {
   "cell_type": "code",
   "execution_count": 340,
   "metadata": {
    "ExecuteTime": {
     "end_time": "2020-10-21T13:32:42.905587Z",
     "start_time": "2020-10-21T13:32:42.866221Z"
    }
   },
   "outputs": [],
   "source": [
    "data_prepared = full_pipeline.fit_transform(X)"
   ]
  },
  {
   "cell_type": "code",
   "execution_count": 341,
   "metadata": {
    "ExecuteTime": {
     "end_time": "2020-10-21T13:32:43.550801Z",
     "start_time": "2020-10-21T13:32:43.526436Z"
    }
   },
   "outputs": [
    {
     "data": {
      "text/plain": [
       "(1208, 148)"
      ]
     },
     "execution_count": 341,
     "metadata": {},
     "output_type": "execute_result"
    }
   ],
   "source": [
    "data_prepared.shape #es lo que usaremos para predecir"
   ]
  },
  {
   "cell_type": "markdown",
   "metadata": {},
   "source": [
    "Terminamos teniendo 196 variables porque son demasiadas categóricas transformamdas en OneHotEncoding() (recordemos que por cada n clases, se crean n variables adicionales). \n",
    "\n",
    "Después podemos quitar más variables. Lo importante ahora es estandarizar todo. "
   ]
  },
  {
   "cell_type": "markdown",
   "metadata": {},
   "source": [
    "## Entrenando el modelo con validación cruzada \n",
    "\n",
    "(Primero quiero poner esta parte del pipeline y después hacer lo de grid searching, o la búsqueda de los mejores hiperparámetros). "
   ]
  },
  {
   "cell_type": "code",
   "execution_count": 342,
   "metadata": {
    "ExecuteTime": {
     "end_time": "2020-10-21T13:32:45.927076Z",
     "start_time": "2020-10-21T13:32:45.920433Z"
    }
   },
   "outputs": [],
   "source": [
    "ridge_reg = Ridge()"
   ]
  },
  {
   "cell_type": "code",
   "execution_count": 343,
   "metadata": {
    "ExecuteTime": {
     "end_time": "2020-10-21T13:32:46.797481Z",
     "start_time": "2020-10-21T13:32:46.741938Z"
    }
   },
   "outputs": [],
   "source": [
    "scores = cross_val_score(ridge_reg, data_prepared, Y, scoring = \"neg_mean_squared_error\", cv = 5)\n",
    "ridge_reg_scores = np.sqrt(-scores)"
   ]
  },
  {
   "cell_type": "code",
   "execution_count": 344,
   "metadata": {
    "ExecuteTime": {
     "end_time": "2020-10-21T13:32:47.436500Z",
     "start_time": "2020-10-21T13:32:47.423429Z"
    }
   },
   "outputs": [
    {
     "data": {
      "text/plain": [
       "array([21530.57569061, 22571.76338959, 22714.28575127, 27371.64881815,\n",
       "       23330.6046707 ])"
      ]
     },
     "execution_count": 344,
     "metadata": {},
     "output_type": "execute_result"
    }
   ],
   "source": [
    "ridge_reg_scores"
   ]
  },
  {
   "cell_type": "code",
   "execution_count": 314,
   "metadata": {
    "ExecuteTime": {
     "end_time": "2020-10-21T13:29:15.685613Z",
     "start_time": "2020-10-21T13:29:15.664639Z"
    }
   },
   "outputs": [],
   "source": [
    "#import joblib\n",
    "#joblib.dump(modelo_uno, \"modelo_uno.pkl\")\n",
    "#y luego lo cargas: \n",
    "#modelo_cargado = joblib.load(\"modelo_uno.pkl\")"
   ]
  },
  {
   "cell_type": "markdown",
   "metadata": {},
   "source": [
    "# Grid Search. "
   ]
  },
  {
   "cell_type": "code",
   "execution_count": 345,
   "metadata": {
    "ExecuteTime": {
     "end_time": "2020-10-21T13:32:50.800998Z",
     "start_time": "2020-10-21T13:32:50.793198Z"
    }
   },
   "outputs": [],
   "source": [
    "param_grid = [\n",
    "    {'alpha': [.001, .01, .1, 1, 10, 15, 20], \n",
    "     'solver': ['auto', 'svd', 'cholesky', 'lsqr', 'sparse_cg', 'sag', 'saga']}\n",
    "]"
   ]
  },
  {
   "cell_type": "code",
   "execution_count": 346,
   "metadata": {
    "ExecuteTime": {
     "end_time": "2020-10-21T13:32:51.363677Z",
     "start_time": "2020-10-21T13:32:51.356435Z"
    }
   },
   "outputs": [],
   "source": [
    "ridge_reg = Ridge()"
   ]
  },
  {
   "cell_type": "code",
   "execution_count": 347,
   "metadata": {
    "ExecuteTime": {
     "end_time": "2020-10-21T13:32:51.930825Z",
     "start_time": "2020-10-21T13:32:51.924349Z"
    }
   },
   "outputs": [],
   "source": [
    "grid_search = GridSearchCV(ridge_reg, param_grid, cv = 5, scoring = \"neg_mean_squared_error\",\n",
    "                          return_train_score = True)"
   ]
  },
  {
   "cell_type": "code",
   "execution_count": 348,
   "metadata": {
    "ExecuteTime": {
     "end_time": "2020-10-21T13:33:58.829060Z",
     "start_time": "2020-10-21T13:32:56.359333Z"
    }
   },
   "outputs": [
    {
     "name": "stderr",
     "output_type": "stream",
     "text": [
      "/usr/local/lib/python3.7/site-packages/sklearn/model_selection/_search.py:841: DeprecationWarning: The default of the `iid` parameter will change from True to False in version 0.22 and will be removed in 0.24. This will change numeric results when test-set sizes are unequal.\n",
      "  DeprecationWarning)\n"
     ]
    },
    {
     "data": {
      "text/plain": [
       "GridSearchCV(cv=5, error_score='raise-deprecating',\n",
       "       estimator=Ridge(alpha=1.0, copy_X=True, fit_intercept=True, max_iter=None,\n",
       "   normalize=False, random_state=None, solver='auto', tol=0.001),\n",
       "       fit_params=None, iid='warn', n_jobs=None,\n",
       "       param_grid=[{'alpha': [0.001, 0.01, 0.1, 1, 10, 15, 20], 'solver': ['auto', 'svd', 'cholesky', 'lsqr', 'sparse_cg', 'sag', 'saga']}],\n",
       "       pre_dispatch='2*n_jobs', refit=True, return_train_score=True,\n",
       "       scoring='neg_mean_squared_error', verbose=0)"
      ]
     },
     "execution_count": 348,
     "metadata": {},
     "output_type": "execute_result"
    }
   ],
   "source": [
    "grid_search.fit(data_prepared, Y)"
   ]
  },
  {
   "cell_type": "code",
   "execution_count": 349,
   "metadata": {
    "ExecuteTime": {
     "end_time": "2020-10-21T13:34:02.899106Z",
     "start_time": "2020-10-21T13:34:02.890643Z"
    }
   },
   "outputs": [
    {
     "data": {
      "text/plain": [
       "{'alpha': 10, 'solver': 'saga'}"
      ]
     },
     "execution_count": 349,
     "metadata": {},
     "output_type": "execute_result"
    }
   ],
   "source": [
    "grid_search.best_params_"
   ]
  },
  {
   "cell_type": "code",
   "execution_count": 350,
   "metadata": {
    "ExecuteTime": {
     "end_time": "2020-10-21T13:34:05.834178Z",
     "start_time": "2020-10-21T13:34:05.822204Z"
    }
   },
   "outputs": [],
   "source": [
    "def clean_test_dataset(path):\n",
    "    data = pd.read_csv(path)\n",
    "    #Arreglando tipos de datos\n",
    "    data['MS SubClass'] = data['MS SubClass'].astype('category')\n",
    "    data = data.drop(columns = ['MS Zoning', 'Lot Frontage', 'Alley', 'Mas Vnr Type', 'Mas Vnr Area',\n",
    "     'Bsmt Qual', 'Bsmt Cond', 'Bsmt Exposure', 'BsmtFin Type 1', 'BsmtFin Type 2', 'Electrical',\n",
    "     'Fireplace Qu', 'Garage Type', 'Garage Yr Blt', 'Garage Finish', 'Garage Qual', 'Garage Cond',\n",
    "     'Pool QC', 'Fence', 'Misc Feature', 'Condition 1', 'Condition 2', 'Exterior 1st', 'Exterior 2nd',\n",
    "    'Heating', 'Heating QC'])\n",
    "    return data"
   ]
  },
  {
   "cell_type": "code",
   "execution_count": 351,
   "metadata": {
    "ExecuteTime": {
     "end_time": "2020-10-21T13:34:07.513049Z",
     "start_time": "2020-10-21T13:34:07.442708Z"
    }
   },
   "outputs": [],
   "source": [
    "datos_prueba = clean_test_dataset('casas_prueba.csv')"
   ]
  },
  {
   "cell_type": "code",
   "execution_count": 352,
   "metadata": {
    "ExecuteTime": {
     "end_time": "2020-10-21T13:34:11.113420Z",
     "start_time": "2020-10-21T13:34:11.076224Z"
    }
   },
   "outputs": [],
   "source": [
    "prueba_prepared = full_pipeline.transform(datos_prueba.iloc[:,:-1])"
   ]
  },
  {
   "cell_type": "code",
   "execution_count": 353,
   "metadata": {
    "ExecuteTime": {
     "end_time": "2020-10-21T13:34:56.953016Z",
     "start_time": "2020-10-21T13:34:56.935116Z"
    }
   },
   "outputs": [],
   "source": [
    "final_model = grid_search.best_estimator_\n",
    "final_predictions = final_model.predict(prueba_prepared)"
   ]
  },
  {
   "cell_type": "code",
   "execution_count": 354,
   "metadata": {
    "ExecuteTime": {
     "end_time": "2020-10-21T13:35:26.504372Z",
     "start_time": "2020-10-21T13:35:26.490563Z"
    }
   },
   "outputs": [
    {
     "data": {
      "text/plain": [
       "1203"
      ]
     },
     "execution_count": 354,
     "metadata": {},
     "output_type": "execute_result"
    }
   ],
   "source": [
    "len(final_predictions)"
   ]
  },
  {
   "cell_type": "code",
   "execution_count": 355,
   "metadata": {
    "ExecuteTime": {
     "end_time": "2020-10-21T13:36:38.382192Z",
     "start_time": "2020-10-21T13:36:38.334308Z"
    }
   },
   "outputs": [],
   "source": [
    "submissions = pd.DataFrame({'id': [e for e in range(1,1204)], 'SalePrice': final_predictions})"
   ]
  },
  {
   "cell_type": "code",
   "execution_count": 356,
   "metadata": {
    "ExecuteTime": {
     "end_time": "2020-10-21T13:36:46.526922Z",
     "start_time": "2020-10-21T13:36:46.486848Z"
    }
   },
   "outputs": [
    {
     "data": {
      "text/html": [
       "<div>\n",
       "<style scoped>\n",
       "    .dataframe tbody tr th:only-of-type {\n",
       "        vertical-align: middle;\n",
       "    }\n",
       "\n",
       "    .dataframe tbody tr th {\n",
       "        vertical-align: top;\n",
       "    }\n",
       "\n",
       "    .dataframe thead th {\n",
       "        text-align: right;\n",
       "    }\n",
       "</style>\n",
       "<table border=\"1\" class=\"dataframe\">\n",
       "  <thead>\n",
       "    <tr style=\"text-align: right;\">\n",
       "      <th></th>\n",
       "      <th>id</th>\n",
       "      <th>SalePrice</th>\n",
       "    </tr>\n",
       "  </thead>\n",
       "  <tbody>\n",
       "    <tr>\n",
       "      <th>0</th>\n",
       "      <td>1</td>\n",
       "      <td>239311.140338</td>\n",
       "    </tr>\n",
       "    <tr>\n",
       "      <th>1</th>\n",
       "      <td>2</td>\n",
       "      <td>218319.318540</td>\n",
       "    </tr>\n",
       "    <tr>\n",
       "      <th>2</th>\n",
       "      <td>3</td>\n",
       "      <td>142500.003500</td>\n",
       "    </tr>\n",
       "    <tr>\n",
       "      <th>3</th>\n",
       "      <td>4</td>\n",
       "      <td>287138.633240</td>\n",
       "    </tr>\n",
       "    <tr>\n",
       "      <th>4</th>\n",
       "      <td>5</td>\n",
       "      <td>185401.371870</td>\n",
       "    </tr>\n",
       "  </tbody>\n",
       "</table>\n",
       "</div>"
      ],
      "text/plain": [
       "   id      SalePrice\n",
       "0   1  239311.140338\n",
       "1   2  218319.318540\n",
       "2   3  142500.003500\n",
       "3   4  287138.633240\n",
       "4   5  185401.371870"
      ]
     },
     "execution_count": 356,
     "metadata": {},
     "output_type": "execute_result"
    }
   ],
   "source": [
    "submissions.head()"
   ]
  },
  {
   "cell_type": "code",
   "execution_count": 358,
   "metadata": {
    "ExecuteTime": {
     "end_time": "2020-10-21T13:37:04.609561Z",
     "start_time": "2020-10-21T13:37:04.538142Z"
    }
   },
   "outputs": [],
   "source": [
    "submissions.to_csv('submissions_21_octubre.csv')"
   ]
  },
  {
   "cell_type": "markdown",
   "metadata": {},
   "source": [
    "### Placeholder. \n",
    "\n",
    "Vamos a seguir explorando las etiquetas que no estén. Quizá me tome unos 30 minutos pero está bien. después de eso ya podemos empezar a predecir con nuevos modelos :) Y le puedo avanzar en tiempos libres. Me quedé a punto de tirar \"Heating\" tanto hasta arriba como abajo. "
   ]
  },
  {
   "cell_type": "code",
   "execution_count": 293,
   "metadata": {
    "ExecuteTime": {
     "end_time": "2020-10-21T13:26:14.928813Z",
     "start_time": "2020-10-21T13:26:14.913659Z"
    }
   },
   "outputs": [
    {
     "data": {
      "text/plain": [
       "Index(['MS SubClass', 'Lot Area', 'Street', 'Lot Shape', 'Land Contour',\n",
       "       'Utilities', 'Lot Config', 'Land Slope', 'Neighborhood', 'Bldg Type',\n",
       "       'House Style', 'Overall Qual', 'Overall Cond', 'Year Built',\n",
       "       'Year Remod/Add', 'Roof Style', 'Roof Matl', 'Exter Qual', 'Exter Cond',\n",
       "       'Foundation', 'BsmtFin SF 1', 'BsmtFin SF 2', 'Bsmt Unf SF',\n",
       "       'Total Bsmt SF', 'Heating', 'Heating QC', 'Central Air', '1st Flr SF',\n",
       "       '2nd Flr SF', 'Low Qual Fin SF', 'Gr Liv Area', 'Bsmt Full Bath',\n",
       "       'Bsmt Half Bath', 'Full Bath', 'Half Bath', 'Bedroom AbvGr',\n",
       "       'Kitchen AbvGr', 'Kitchen Qual', 'TotRms AbvGrd', 'Functional',\n",
       "       'Fireplaces', 'Garage Cars', 'Garage Area', 'Paved Drive',\n",
       "       'Wood Deck SF', 'Open Porch SF', 'Enclosed Porch', '3Ssn Porch',\n",
       "       'Screen Porch', 'Pool Area', 'Misc Val', 'Mo Sold', 'Yr Sold',\n",
       "       'Sale Type', 'Sale Condition', 'id'],\n",
       "      dtype='object')"
      ]
     },
     "execution_count": 293,
     "metadata": {},
     "output_type": "execute_result"
    }
   ],
   "source": [
    "datos_prueba.columns"
   ]
  },
  {
   "cell_type": "code",
   "execution_count": 324,
   "metadata": {
    "ExecuteTime": {
     "end_time": "2020-10-21T13:30:08.150924Z",
     "start_time": "2020-10-21T13:30:08.121965Z"
    }
   },
   "outputs": [
    {
     "data": {
      "text/plain": [
       "Ex    592\n",
       "TA    367\n",
       "Gd    202\n",
       "Fa     41\n",
       "Po      1\n",
       "Name: Heating QC, dtype: int64"
      ]
     },
     "execution_count": 324,
     "metadata": {},
     "output_type": "execute_result"
    }
   ],
   "source": [
    "datos_prueba['Heating QC'].value_counts()"
   ]
  },
  {
   "cell_type": "markdown",
   "metadata": {},
   "source": [
    "# Resumen (hasta el momento).  "
   ]
  },
  {
   "cell_type": "code",
   "execution_count": null,
   "metadata": {},
   "outputs": [],
   "source": [
    "#primero usamos una función "
   ]
  }
 ],
 "metadata": {
  "kernelspec": {
   "display_name": "Python 3",
   "language": "python",
   "name": "python3"
  },
  "language_info": {
   "codemirror_mode": {
    "name": "ipython",
    "version": 3
   },
   "file_extension": ".py",
   "mimetype": "text/x-python",
   "name": "python",
   "nbconvert_exporter": "python",
   "pygments_lexer": "ipython3",
   "version": "3.7.7"
  }
 },
 "nbformat": 4,
 "nbformat_minor": 4
}
