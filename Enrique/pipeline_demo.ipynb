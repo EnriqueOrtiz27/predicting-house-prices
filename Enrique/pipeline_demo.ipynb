{
 "cells": [
  {
   "cell_type": "code",
   "execution_count": 325,
   "metadata": {
    "ExecuteTime": {
     "end_time": "2020-10-21T13:32:10.943813Z",
     "start_time": "2020-10-21T13:32:10.920143Z"
    }
   },
   "outputs": [],
   "source": [
    "from sklearn import datasets\n",
    "from sklearn.model_selection import train_test_split\n",
    "from sklearn.linear_model import Ridge, RidgeCV\n",
    "from sklearn.model_selection import KFold\n",
    "from sklearn.model_selection import cross_val_score, cross_val_predict\n",
    "from sklearn.metrics import mean_squared_error as mse \n",
    "from sklearn.model_selection import GridSearchCV\n",
    "import pandas as pd\n",
    "import numpy as np\n",
    "from sklearn.pipeline import Pipeline\n",
    "from sklearn.preprocessing import StandardScaler\n",
    "from sklearn.compose import ColumnTransformer\n",
    "from sklearn.preprocessing import OneHotEncoder\n",
    "from sklearn.base import BaseEstimator, TransformerMixin\n",
    "from sklearn.impute import SimpleImputer"
   ]
  },
  {
   "cell_type": "markdown",
   "metadata": {},
   "source": [
    "# Armando un SK Learn Pipeline. "
   ]
  },
  {
   "cell_type": "markdown",
   "metadata": {
    "ExecuteTime": {
     "end_time": "2020-10-20T12:58:39.044862Z",
     "start_time": "2020-10-20T12:58:38.900576Z"
    }
   },
   "source": [
    "### Primero las funciones básicas de preprocesamiento. "
   ]
  },
  {
   "cell_type": "code",
   "execution_count": 326,
   "metadata": {
    "ExecuteTime": {
     "end_time": "2020-10-21T13:32:16.962920Z",
     "start_time": "2020-10-21T13:32:16.938612Z"
    }
   },
   "outputs": [],
   "source": [
    "def basic_preprocessing(path):\n",
    "    \"\"\"\n",
    "    Una función básica para preprocesar los datos de entrenamiento. \n",
    "    Parameters:\n",
    "    -------\n",
    "    path: str\n",
    "          path en tu compu donde está el dataset\n",
    "    \n",
    "    Returns:\n",
    "    --------\n",
    "    data: pandas dataframe\n",
    "          Un dataframe listo para el pipeline de sklearn. \n",
    "    \"\"\"\n",
    "    data = pd.read_csv(path)\n",
    "    data['MS SubClass'] = data['MS SubClass'].astype('category')\n",
    "    data = data[data['Sale Condition'] == \"Normal\"]\n",
    "    data = data.drop(columns = ['MS Zoning', 'Lot Frontage', 'Alley', 'Mas Vnr Type', 'Mas Vnr Area',\n",
    "     'Bsmt Qual', 'Bsmt Cond', 'Bsmt Exposure', 'BsmtFin Type 1', 'BsmtFin Type 2', 'Electrical',\n",
    "     'Fireplace Qu', 'Garage Type', 'Garage Yr Blt', 'Garage Finish', 'Garage Qual', 'Garage Cond',\n",
    "     'Pool QC', 'Fence', 'Misc Feature', 'Condition 1', 'Condition 2', 'Exterior 1st', 'Exterior 2nd', \n",
    "    'Heating', 'Heating QC'])\n",
    "    data = data[data['Gr Liv Area'] < 4_000]\n",
    "    return data "
   ]
  },
  {
   "cell_type": "markdown",
   "metadata": {},
   "source": [
    "Es mejor no hacer transformaciones de columnas aquí porque eso lo haremos en el pipeline. "
   ]
  },
  {
   "cell_type": "markdown",
   "metadata": {},
   "source": [
    "### Después iniciamos el pipeline. \n",
    "\n",
    "No está tan sencillo crearlo pero tampoco es el infierno. Primero necesitamos crear una clase con algunas transformaciones básicas. \n",
    "\n",
    "No voy a tomar todas las columnas, es solo un ejemplo. "
   ]
  },
  {
   "cell_type": "code",
   "execution_count": 327,
   "metadata": {
    "ExecuteTime": {
     "end_time": "2020-10-21T13:32:19.435288Z",
     "start_time": "2020-10-21T13:32:19.306485Z"
    }
   },
   "outputs": [
    {
     "data": {
      "text/html": [
       "<div>\n",
       "<style scoped>\n",
       "    .dataframe tbody tr th:only-of-type {\n",
       "        vertical-align: middle;\n",
       "    }\n",
       "\n",
       "    .dataframe tbody tr th {\n",
       "        vertical-align: top;\n",
       "    }\n",
       "\n",
       "    .dataframe thead th {\n",
       "        text-align: right;\n",
       "    }\n",
       "</style>\n",
       "<table border=\"1\" class=\"dataframe\">\n",
       "  <thead>\n",
       "    <tr style=\"text-align: right;\">\n",
       "      <th></th>\n",
       "      <th>MS SubClass</th>\n",
       "      <th>Lot Area</th>\n",
       "      <th>Street</th>\n",
       "      <th>Lot Shape</th>\n",
       "      <th>Land Contour</th>\n",
       "      <th>Utilities</th>\n",
       "      <th>Lot Config</th>\n",
       "      <th>Land Slope</th>\n",
       "      <th>Neighborhood</th>\n",
       "      <th>Bldg Type</th>\n",
       "      <th>House Style</th>\n",
       "      <th>Overall Qual</th>\n",
       "      <th>Overall Cond</th>\n",
       "      <th>Year Built</th>\n",
       "      <th>Year Remod/Add</th>\n",
       "      <th>Roof Style</th>\n",
       "      <th>Roof Matl</th>\n",
       "      <th>Exter Qual</th>\n",
       "      <th>Exter Cond</th>\n",
       "      <th>Foundation</th>\n",
       "      <th>...</th>\n",
       "      <th>Kitchen AbvGr</th>\n",
       "      <th>Kitchen Qual</th>\n",
       "      <th>TotRms AbvGrd</th>\n",
       "      <th>Functional</th>\n",
       "      <th>Fireplaces</th>\n",
       "      <th>Garage Cars</th>\n",
       "      <th>Garage Area</th>\n",
       "      <th>Paved Drive</th>\n",
       "      <th>Wood Deck SF</th>\n",
       "      <th>Open Porch SF</th>\n",
       "      <th>Enclosed Porch</th>\n",
       "      <th>3Ssn Porch</th>\n",
       "      <th>Screen Porch</th>\n",
       "      <th>Pool Area</th>\n",
       "      <th>Misc Val</th>\n",
       "      <th>Mo Sold</th>\n",
       "      <th>Yr Sold</th>\n",
       "      <th>Sale Type</th>\n",
       "      <th>Sale Condition</th>\n",
       "      <th>SalePrice</th>\n",
       "    </tr>\n",
       "  </thead>\n",
       "  <tbody>\n",
       "    <tr>\n",
       "      <th>0</th>\n",
       "      <td>120</td>\n",
       "      <td>3072</td>\n",
       "      <td>Pave</td>\n",
       "      <td>Reg</td>\n",
       "      <td>Lvl</td>\n",
       "      <td>AllPub</td>\n",
       "      <td>Inside</td>\n",
       "      <td>Gtl</td>\n",
       "      <td>Blmngtn</td>\n",
       "      <td>TwnhsE</td>\n",
       "      <td>1Story</td>\n",
       "      <td>7</td>\n",
       "      <td>5</td>\n",
       "      <td>2004</td>\n",
       "      <td>2004</td>\n",
       "      <td>Hip</td>\n",
       "      <td>CompShg</td>\n",
       "      <td>Gd</td>\n",
       "      <td>TA</td>\n",
       "      <td>PConc</td>\n",
       "      <td>...</td>\n",
       "      <td>1</td>\n",
       "      <td>Gd</td>\n",
       "      <td>7</td>\n",
       "      <td>Typ</td>\n",
       "      <td>1</td>\n",
       "      <td>2</td>\n",
       "      <td>388</td>\n",
       "      <td>Y</td>\n",
       "      <td>143</td>\n",
       "      <td>20</td>\n",
       "      <td>0</td>\n",
       "      <td>0</td>\n",
       "      <td>0</td>\n",
       "      <td>0</td>\n",
       "      <td>0</td>\n",
       "      <td>9</td>\n",
       "      <td>2006</td>\n",
       "      <td>WD</td>\n",
       "      <td>Normal</td>\n",
       "      <td>225000</td>\n",
       "    </tr>\n",
       "    <tr>\n",
       "      <th>2</th>\n",
       "      <td>120</td>\n",
       "      <td>3013</td>\n",
       "      <td>Pave</td>\n",
       "      <td>Reg</td>\n",
       "      <td>Lvl</td>\n",
       "      <td>AllPub</td>\n",
       "      <td>Inside</td>\n",
       "      <td>Gtl</td>\n",
       "      <td>Blmngtn</td>\n",
       "      <td>TwnhsE</td>\n",
       "      <td>1Story</td>\n",
       "      <td>7</td>\n",
       "      <td>5</td>\n",
       "      <td>2005</td>\n",
       "      <td>2005</td>\n",
       "      <td>Gable</td>\n",
       "      <td>CompShg</td>\n",
       "      <td>Gd</td>\n",
       "      <td>TA</td>\n",
       "      <td>PConc</td>\n",
       "      <td>...</td>\n",
       "      <td>1</td>\n",
       "      <td>Gd</td>\n",
       "      <td>6</td>\n",
       "      <td>Typ</td>\n",
       "      <td>1</td>\n",
       "      <td>2</td>\n",
       "      <td>440</td>\n",
       "      <td>Y</td>\n",
       "      <td>142</td>\n",
       "      <td>20</td>\n",
       "      <td>0</td>\n",
       "      <td>0</td>\n",
       "      <td>0</td>\n",
       "      <td>0</td>\n",
       "      <td>0</td>\n",
       "      <td>4</td>\n",
       "      <td>2006</td>\n",
       "      <td>WD</td>\n",
       "      <td>Normal</td>\n",
       "      <td>213490</td>\n",
       "    </tr>\n",
       "    <tr>\n",
       "      <th>4</th>\n",
       "      <td>120</td>\n",
       "      <td>3196</td>\n",
       "      <td>Pave</td>\n",
       "      <td>Reg</td>\n",
       "      <td>Lvl</td>\n",
       "      <td>AllPub</td>\n",
       "      <td>Inside</td>\n",
       "      <td>Gtl</td>\n",
       "      <td>Blmngtn</td>\n",
       "      <td>TwnhsE</td>\n",
       "      <td>1Story</td>\n",
       "      <td>8</td>\n",
       "      <td>5</td>\n",
       "      <td>2003</td>\n",
       "      <td>2003</td>\n",
       "      <td>Gable</td>\n",
       "      <td>CompShg</td>\n",
       "      <td>Gd</td>\n",
       "      <td>TA</td>\n",
       "      <td>PConc</td>\n",
       "      <td>...</td>\n",
       "      <td>1</td>\n",
       "      <td>Gd</td>\n",
       "      <td>7</td>\n",
       "      <td>Typ</td>\n",
       "      <td>1</td>\n",
       "      <td>2</td>\n",
       "      <td>400</td>\n",
       "      <td>Y</td>\n",
       "      <td>143</td>\n",
       "      <td>20</td>\n",
       "      <td>0</td>\n",
       "      <td>0</td>\n",
       "      <td>0</td>\n",
       "      <td>0</td>\n",
       "      <td>0</td>\n",
       "      <td>5</td>\n",
       "      <td>2006</td>\n",
       "      <td>WD</td>\n",
       "      <td>Normal</td>\n",
       "      <td>215000</td>\n",
       "    </tr>\n",
       "    <tr>\n",
       "      <th>6</th>\n",
       "      <td>20</td>\n",
       "      <td>3182</td>\n",
       "      <td>Pave</td>\n",
       "      <td>Reg</td>\n",
       "      <td>Lvl</td>\n",
       "      <td>AllPub</td>\n",
       "      <td>Inside</td>\n",
       "      <td>Gtl</td>\n",
       "      <td>Blmngtn</td>\n",
       "      <td>1Fam</td>\n",
       "      <td>1Story</td>\n",
       "      <td>7</td>\n",
       "      <td>5</td>\n",
       "      <td>2007</td>\n",
       "      <td>2007</td>\n",
       "      <td>Gable</td>\n",
       "      <td>CompShg</td>\n",
       "      <td>Gd</td>\n",
       "      <td>TA</td>\n",
       "      <td>PConc</td>\n",
       "      <td>...</td>\n",
       "      <td>1</td>\n",
       "      <td>Gd</td>\n",
       "      <td>6</td>\n",
       "      <td>Typ</td>\n",
       "      <td>1</td>\n",
       "      <td>2</td>\n",
       "      <td>388</td>\n",
       "      <td>Y</td>\n",
       "      <td>100</td>\n",
       "      <td>16</td>\n",
       "      <td>0</td>\n",
       "      <td>0</td>\n",
       "      <td>0</td>\n",
       "      <td>0</td>\n",
       "      <td>0</td>\n",
       "      <td>3</td>\n",
       "      <td>2008</td>\n",
       "      <td>WD</td>\n",
       "      <td>Normal</td>\n",
       "      <td>159895</td>\n",
       "    </tr>\n",
       "    <tr>\n",
       "      <th>7</th>\n",
       "      <td>120</td>\n",
       "      <td>3203</td>\n",
       "      <td>Pave</td>\n",
       "      <td>Reg</td>\n",
       "      <td>Lvl</td>\n",
       "      <td>AllPub</td>\n",
       "      <td>Inside</td>\n",
       "      <td>Gtl</td>\n",
       "      <td>Blmngtn</td>\n",
       "      <td>TwnhsE</td>\n",
       "      <td>1Story</td>\n",
       "      <td>7</td>\n",
       "      <td>5</td>\n",
       "      <td>2006</td>\n",
       "      <td>2006</td>\n",
       "      <td>Gable</td>\n",
       "      <td>CompShg</td>\n",
       "      <td>Gd</td>\n",
       "      <td>TA</td>\n",
       "      <td>PConc</td>\n",
       "      <td>...</td>\n",
       "      <td>1</td>\n",
       "      <td>Gd</td>\n",
       "      <td>6</td>\n",
       "      <td>Typ</td>\n",
       "      <td>0</td>\n",
       "      <td>2</td>\n",
       "      <td>437</td>\n",
       "      <td>Y</td>\n",
       "      <td>100</td>\n",
       "      <td>116</td>\n",
       "      <td>0</td>\n",
       "      <td>0</td>\n",
       "      <td>0</td>\n",
       "      <td>0</td>\n",
       "      <td>0</td>\n",
       "      <td>1</td>\n",
       "      <td>2010</td>\n",
       "      <td>WD</td>\n",
       "      <td>Normal</td>\n",
       "      <td>160000</td>\n",
       "    </tr>\n",
       "  </tbody>\n",
       "</table>\n",
       "<p>5 rows × 54 columns</p>\n",
       "</div>"
      ],
      "text/plain": [
       "  MS SubClass  Lot Area Street Lot Shape Land Contour Utilities Lot Config  \\\n",
       "0         120      3072   Pave       Reg          Lvl    AllPub     Inside   \n",
       "2         120      3013   Pave       Reg          Lvl    AllPub     Inside   \n",
       "4         120      3196   Pave       Reg          Lvl    AllPub     Inside   \n",
       "6          20      3182   Pave       Reg          Lvl    AllPub     Inside   \n",
       "7         120      3203   Pave       Reg          Lvl    AllPub     Inside   \n",
       "\n",
       "  Land Slope Neighborhood Bldg Type House Style  Overall Qual  Overall Cond  \\\n",
       "0        Gtl      Blmngtn    TwnhsE      1Story             7             5   \n",
       "2        Gtl      Blmngtn    TwnhsE      1Story             7             5   \n",
       "4        Gtl      Blmngtn    TwnhsE      1Story             8             5   \n",
       "6        Gtl      Blmngtn      1Fam      1Story             7             5   \n",
       "7        Gtl      Blmngtn    TwnhsE      1Story             7             5   \n",
       "\n",
       "   Year Built  Year Remod/Add Roof Style Roof Matl Exter Qual Exter Cond  \\\n",
       "0        2004            2004        Hip   CompShg         Gd         TA   \n",
       "2        2005            2005      Gable   CompShg         Gd         TA   \n",
       "4        2003            2003      Gable   CompShg         Gd         TA   \n",
       "6        2007            2007      Gable   CompShg         Gd         TA   \n",
       "7        2006            2006      Gable   CompShg         Gd         TA   \n",
       "\n",
       "  Foundation  ...  Kitchen AbvGr  Kitchen Qual  TotRms AbvGrd  Functional  \\\n",
       "0      PConc  ...              1            Gd              7         Typ   \n",
       "2      PConc  ...              1            Gd              6         Typ   \n",
       "4      PConc  ...              1            Gd              7         Typ   \n",
       "6      PConc  ...              1            Gd              6         Typ   \n",
       "7      PConc  ...              1            Gd              6         Typ   \n",
       "\n",
       "  Fireplaces  Garage Cars  Garage Area  Paved Drive  Wood Deck SF  \\\n",
       "0          1            2          388            Y           143   \n",
       "2          1            2          440            Y           142   \n",
       "4          1            2          400            Y           143   \n",
       "6          1            2          388            Y           100   \n",
       "7          0            2          437            Y           100   \n",
       "\n",
       "   Open Porch SF  Enclosed Porch  3Ssn Porch  Screen Porch  Pool Area  \\\n",
       "0             20               0           0             0          0   \n",
       "2             20               0           0             0          0   \n",
       "4             20               0           0             0          0   \n",
       "6             16               0           0             0          0   \n",
       "7            116               0           0             0          0   \n",
       "\n",
       "   Misc Val Mo Sold  Yr Sold Sale Type  Sale Condition  SalePrice  \n",
       "0         0       9     2006       WD           Normal     225000  \n",
       "2         0       4     2006       WD           Normal     213490  \n",
       "4         0       5     2006       WD           Normal     215000  \n",
       "6         0       3     2008       WD           Normal     159895  \n",
       "7         0       1     2010       WD           Normal     160000  \n",
       "\n",
       "[5 rows x 54 columns]"
      ]
     },
     "execution_count": 327,
     "metadata": {},
     "output_type": "execute_result"
    }
   ],
   "source": [
    "pd.set_option('display.max_columns', 40)\n",
    "data = basic_preprocessing('casas_entrena.csv')\n",
    "data.head()"
   ]
  },
  {
   "cell_type": "code",
   "execution_count": 328,
   "metadata": {
    "ExecuteTime": {
     "end_time": "2020-10-21T13:32:20.697995Z",
     "start_time": "2020-10-21T13:32:20.675374Z"
    }
   },
   "outputs": [
    {
     "data": {
      "text/plain": [
       "(1208, 54)"
      ]
     },
     "execution_count": 328,
     "metadata": {},
     "output_type": "execute_result"
    }
   ],
   "source": [
    "data.shape"
   ]
  },
  {
   "cell_type": "markdown",
   "metadata": {},
   "source": [
    "# Separando en features y labels. "
   ]
  },
  {
   "cell_type": "code",
   "execution_count": 329,
   "metadata": {
    "ExecuteTime": {
     "end_time": "2020-10-21T13:32:21.652716Z",
     "start_time": "2020-10-21T13:32:21.641739Z"
    }
   },
   "outputs": [],
   "source": [
    "X = data.iloc[:,:-1].copy()\n",
    "Y = data.SalePrice"
   ]
  },
  {
   "cell_type": "code",
   "execution_count": 330,
   "metadata": {
    "ExecuteTime": {
     "end_time": "2020-10-21T13:32:22.197497Z",
     "start_time": "2020-10-21T13:32:22.180707Z"
    }
   },
   "outputs": [],
   "source": [
    "idx = {col: X.columns.get_loc(col) for col in X.columns}"
   ]
  },
  {
   "cell_type": "code",
   "execution_count": 331,
   "metadata": {
    "ExecuteTime": {
     "end_time": "2020-10-21T13:32:22.605195Z",
     "start_time": "2020-10-21T13:32:22.596204Z"
    }
   },
   "outputs": [
    {
     "data": {
      "text/plain": [
       "11"
      ]
     },
     "execution_count": 331,
     "metadata": {},
     "output_type": "execute_result"
    }
   ],
   "source": [
    "idx[\"Overall Qual\"]"
   ]
  },
  {
   "cell_type": "code",
   "execution_count": 332,
   "metadata": {
    "ExecuteTime": {
     "end_time": "2020-10-21T13:32:23.737460Z",
     "start_time": "2020-10-21T13:32:23.652018Z"
    }
   },
   "outputs": [],
   "source": [
    "class CombinedAttributesAdder2(BaseEstimator, TransformerMixin): #dejar esto así\n",
    "    def __init__(self, house_condition = True): #te permite hacer pruebas \n",
    "        self.house_condition = house_condition\n",
    "    def fit(self, X, y=None):\n",
    "        return self #no hay que hacer nada más \n",
    "    def transform(self, X, y=None):\n",
    "        #supongamos que queremos calidad de la casa al cuadrado\n",
    "        qual_squared = X[:, idx[\"Overall Qual\"]] ** 2\n",
    "        #y otra que sea calidad * metros cuadrados\n",
    "        qual_m2 = X[:, 1] * X[:,0]\n",
    "        if self.house_condition: #pudo haber sido el año o alguna otra variable \n",
    "            cond = X[:,2]\n",
    "            return np.c_[X, qual_squared, qual_m2, cond]\n",
    "        else:\n",
    "            return np.c_[X, qual_squared, qual_m2]"
   ]
  },
  {
   "cell_type": "markdown",
   "metadata": {},
   "source": [
    "### Ahora se entenderá más claro qué es esto. \n",
    "\n",
    "Básicamente, esta clase nos ayuda a definir las nuevas variables que queremos agregar y es algo que usaremos en nuestro pipeline. El siguiente paso es crear un pipeline para las variables numéricas. "
   ]
  },
  {
   "cell_type": "code",
   "execution_count": 333,
   "metadata": {
    "ExecuteTime": {
     "end_time": "2020-10-21T13:32:24.870685Z",
     "start_time": "2020-10-21T13:32:24.846398Z"
    }
   },
   "outputs": [],
   "source": [
    "numeric_pipeline = Pipeline([\n",
    "    ('imputer', SimpleImputer(strategy=\"median\")),\n",
    "    ('attribs_adder', CombinedAttributesAdder2()),\n",
    "    ('std_scaler', StandardScaler()),\n",
    "])"
   ]
  },
  {
   "cell_type": "markdown",
   "metadata": {
    "ExecuteTime": {
     "end_time": "2020-10-20T14:01:00.941046Z",
     "start_time": "2020-10-20T14:01:00.931493Z"
    }
   },
   "source": [
    "## ¿Cómo se usa esto? "
   ]
  },
  {
   "cell_type": "markdown",
   "metadata": {
    "ExecuteTime": {
     "end_time": "2020-10-21T12:32:22.734631Z",
     "start_time": "2020-10-21T12:32:22.725265Z"
    }
   },
   "source": [
    "Seleccionemos primero las variables numéricas: "
   ]
  },
  {
   "cell_type": "code",
   "execution_count": 334,
   "metadata": {
    "ExecuteTime": {
     "end_time": "2020-10-21T13:32:26.260277Z",
     "start_time": "2020-10-21T13:32:26.245914Z"
    }
   },
   "outputs": [
    {
     "data": {
      "text/plain": [
       "array(['Lot Area', 'Overall Qual', 'Overall Cond', 'Year Built',\n",
       "       'Year Remod/Add', 'BsmtFin SF 1', 'BsmtFin SF 2', 'Bsmt Unf SF',\n",
       "       'Total Bsmt SF', '1st Flr SF', '2nd Flr SF', 'Low Qual Fin SF',\n",
       "       'Gr Liv Area', 'Bsmt Full Bath', 'Bsmt Half Bath', 'Full Bath',\n",
       "       'Half Bath', 'Bedroom AbvGr', 'Kitchen AbvGr', 'TotRms AbvGrd',\n",
       "       'Fireplaces', 'Garage Cars', 'Garage Area', 'Wood Deck SF',\n",
       "       'Open Porch SF', 'Enclosed Porch', '3Ssn Porch', 'Screen Porch',\n",
       "       'Pool Area', 'Misc Val', 'Mo Sold', 'Yr Sold'], dtype=object)"
      ]
     },
     "execution_count": 334,
     "metadata": {},
     "output_type": "execute_result"
    }
   ],
   "source": [
    "num_attribs = X.select_dtypes(include = \"number\").columns.values\n",
    "num_attribs"
   ]
  },
  {
   "cell_type": "code",
   "execution_count": 335,
   "metadata": {
    "ExecuteTime": {
     "end_time": "2020-10-21T13:32:26.899873Z",
     "start_time": "2020-10-21T13:32:26.892230Z"
    }
   },
   "outputs": [
    {
     "data": {
      "text/plain": [
       "32"
      ]
     },
     "execution_count": 335,
     "metadata": {},
     "output_type": "execute_result"
    }
   ],
   "source": [
    "len(num_attribs)"
   ]
  },
  {
   "cell_type": "code",
   "execution_count": 336,
   "metadata": {
    "ExecuteTime": {
     "end_time": "2020-10-21T13:32:27.332944Z",
     "start_time": "2020-10-21T13:32:27.311857Z"
    }
   },
   "outputs": [],
   "source": [
    "data_numeric = X[num_attribs]\n",
    "numeric_transformed = numeric_pipeline.fit_transform(data_numeric)"
   ]
  },
  {
   "cell_type": "code",
   "execution_count": 337,
   "metadata": {
    "ExecuteTime": {
     "end_time": "2020-10-21T13:32:27.933691Z",
     "start_time": "2020-10-21T13:32:27.924314Z"
    }
   },
   "outputs": [
    {
     "data": {
      "text/plain": [
       "(1208, 35)"
      ]
     },
     "execution_count": 337,
     "metadata": {},
     "output_type": "execute_result"
    }
   ],
   "source": [
    "numeric_transformed.shape"
   ]
  },
  {
   "cell_type": "markdown",
   "metadata": {},
   "source": [
    "Son las 32 variables numéricas más otras 3 que se agregaron en la clase de AttributesAdder2. "
   ]
  },
  {
   "cell_type": "markdown",
   "metadata": {},
   "source": [
    "### Pipeline completo (numérico más categórico)."
   ]
  },
  {
   "cell_type": "markdown",
   "metadata": {},
   "source": [
    "Una vez que tenemos esto, en realidad completar el pipeline no es tan difícil. "
   ]
  },
  {
   "cell_type": "code",
   "execution_count": 338,
   "metadata": {
    "ExecuteTime": {
     "end_time": "2020-10-21T13:32:35.119009Z",
     "start_time": "2020-10-21T13:32:35.106908Z"
    }
   },
   "outputs": [
    {
     "data": {
      "text/plain": [
       "20"
      ]
     },
     "execution_count": 338,
     "metadata": {},
     "output_type": "execute_result"
    }
   ],
   "source": [
    "cat_attribs = X.select_dtypes(include = 'object').columns.values\n",
    "len(cat_attribs)"
   ]
  },
  {
   "cell_type": "code",
   "execution_count": 339,
   "metadata": {
    "ExecuteTime": {
     "end_time": "2020-10-21T13:32:39.931384Z",
     "start_time": "2020-10-21T13:32:39.924635Z"
    }
   },
   "outputs": [],
   "source": [
    "full_pipeline = ColumnTransformer([\n",
    "    (\"numeric\", numeric_pipeline, num_attribs),\n",
    "    (\"categorical\", OneHotEncoder(handle_unknown='ignore'), cat_attribs),\n",
    "])"
   ]
  },
  {
   "cell_type": "code",
   "execution_count": 340,
   "metadata": {
    "ExecuteTime": {
     "end_time": "2020-10-21T13:32:42.905587Z",
     "start_time": "2020-10-21T13:32:42.866221Z"
    }
   },
   "outputs": [],
   "source": [
    "data_prepared = full_pipeline.fit_transform(X)"
   ]
  },
  {
   "cell_type": "code",
   "execution_count": 341,
   "metadata": {
    "ExecuteTime": {
     "end_time": "2020-10-21T13:32:43.550801Z",
     "start_time": "2020-10-21T13:32:43.526436Z"
    }
   },
   "outputs": [
    {
     "data": {
      "text/plain": [
       "(1208, 148)"
      ]
     },
     "execution_count": 341,
     "metadata": {},
     "output_type": "execute_result"
    }
   ],
   "source": [
    "data_prepared.shape #es lo que usaremos para predecir"
   ]
  },
  {
   "cell_type": "markdown",
   "metadata": {},
   "source": [
    "Terminamos teniendo 196 variables porque son demasiadas categóricas transformamdas en OneHotEncoding() (recordemos que por cada n clases, se crean n variables adicionales). \n",
    "\n",
    "Después podemos quitar más variables. Lo importante ahora es estandarizar todo. "
   ]
  },
  {
   "cell_type": "markdown",
   "metadata": {},
   "source": [
    "## Entrenando el modelo con validación cruzada \n",
    "\n",
    "(Primero quiero poner esta parte del pipeline y después hacer lo de grid searching, o la búsqueda de los mejores hiperparámetros). "
   ]
  },
  {
   "cell_type": "code",
   "execution_count": 342,
   "metadata": {
    "ExecuteTime": {
     "end_time": "2020-10-21T13:32:45.927076Z",
     "start_time": "2020-10-21T13:32:45.920433Z"
    }
   },
   "outputs": [],
   "source": [
    "ridge_reg = Ridge()"
   ]
  },
  {
   "cell_type": "code",
   "execution_count": 343,
   "metadata": {
    "ExecuteTime": {
     "end_time": "2020-10-21T13:32:46.797481Z",
     "start_time": "2020-10-21T13:32:46.741938Z"
    }
   },
   "outputs": [],
   "source": [
    "scores = cross_val_score(ridge_reg, data_prepared, Y, scoring = \"neg_mean_squared_error\", cv = 5)\n",
    "ridge_reg_scores = np.sqrt(-scores)"
   ]
  },
  {
   "cell_type": "code",
   "execution_count": 344,
   "metadata": {
    "ExecuteTime": {
     "end_time": "2020-10-21T13:32:47.436500Z",
     "start_time": "2020-10-21T13:32:47.423429Z"
    }
   },
   "outputs": [
    {
     "data": {
      "text/plain": [
       "array([21530.57569061, 22571.76338959, 22714.28575127, 27371.64881815,\n",
       "       23330.6046707 ])"
      ]
     },
     "execution_count": 344,
     "metadata": {},
     "output_type": "execute_result"
    }
   ],
   "source": [
    "ridge_reg_scores"
   ]
  },
  {
   "cell_type": "code",
   "execution_count": 314,
   "metadata": {
    "ExecuteTime": {
     "end_time": "2020-10-21T13:29:15.685613Z",
     "start_time": "2020-10-21T13:29:15.664639Z"
    }
   },
   "outputs": [],
   "source": [
    "#import joblib\n",
    "#joblib.dump(modelo_uno, \"modelo_uno.pkl\")\n",
    "#y luego lo cargas: \n",
    "#modelo_cargado = joblib.load(\"modelo_uno.pkl\")"
   ]
  },
  {
   "cell_type": "markdown",
   "metadata": {},
   "source": [
    "# Grid Search. "
   ]
  },
  {
   "cell_type": "code",
   "execution_count": 345,
   "metadata": {
    "ExecuteTime": {
     "end_time": "2020-10-21T13:32:50.800998Z",
     "start_time": "2020-10-21T13:32:50.793198Z"
    }
   },
   "outputs": [],
   "source": [
    "param_grid = [\n",
    "    {'alpha': [.001, .01, .1, 1, 10, 15, 20], \n",
    "     'solver': ['auto', 'svd', 'cholesky', 'lsqr', 'sparse_cg', 'sag', 'saga']}\n",
    "]"
   ]
  },
  {
   "cell_type": "code",
   "execution_count": 346,
   "metadata": {
    "ExecuteTime": {
     "end_time": "2020-10-21T13:32:51.363677Z",
     "start_time": "2020-10-21T13:32:51.356435Z"
    }
   },
   "outputs": [],
   "source": [
    "ridge_reg = Ridge()"
   ]
  },
  {
   "cell_type": "code",
   "execution_count": 347,
   "metadata": {
    "ExecuteTime": {
     "end_time": "2020-10-21T13:32:51.930825Z",
     "start_time": "2020-10-21T13:32:51.924349Z"
    }
   },
   "outputs": [],
   "source": [
    "grid_search = GridSearchCV(ridge_reg, param_grid, cv = 5, scoring = \"neg_mean_squared_error\",\n",
    "                          return_train_score = True)"
   ]
  },
  {
   "cell_type": "code",
   "execution_count": 348,
   "metadata": {
    "ExecuteTime": {
     "end_time": "2020-10-21T13:33:58.829060Z",
     "start_time": "2020-10-21T13:32:56.359333Z"
    }
   },
   "outputs": [
    {
     "name": "stderr",
     "output_type": "stream",
     "text": [
      "/usr/local/lib/python3.7/site-packages/sklearn/model_selection/_search.py:841: DeprecationWarning: The default of the `iid` parameter will change from True to False in version 0.22 and will be removed in 0.24. This will change numeric results when test-set sizes are unequal.\n",
      "  DeprecationWarning)\n"
     ]
    },
    {
     "data": {
      "text/plain": [
       "GridSearchCV(cv=5, error_score='raise-deprecating',\n",
       "       estimator=Ridge(alpha=1.0, copy_X=True, fit_intercept=True, max_iter=None,\n",
       "   normalize=False, random_state=None, solver='auto', tol=0.001),\n",
       "       fit_params=None, iid='warn', n_jobs=None,\n",
       "       param_grid=[{'alpha': [0.001, 0.01, 0.1, 1, 10, 15, 20], 'solver': ['auto', 'svd', 'cholesky', 'lsqr', 'sparse_cg', 'sag', 'saga']}],\n",
       "       pre_dispatch='2*n_jobs', refit=True, return_train_score=True,\n",
       "       scoring='neg_mean_squared_error', verbose=0)"
      ]
     },
     "execution_count": 348,
     "metadata": {},
     "output_type": "execute_result"
    }
   ],
   "source": [
    "grid_search.fit(data_prepared, Y)"
   ]
  },
  {
   "cell_type": "code",
   "execution_count": 349,
   "metadata": {
    "ExecuteTime": {
     "end_time": "2020-10-21T13:34:02.899106Z",
     "start_time": "2020-10-21T13:34:02.890643Z"
    }
   },
   "outputs": [
    {
     "data": {
      "text/plain": [
       "{'alpha': 10, 'solver': 'saga'}"
      ]
     },
     "execution_count": 349,
     "metadata": {},
     "output_type": "execute_result"
    }
   ],
   "source": [
    "grid_search.best_params_"
   ]
  },
  {
   "cell_type": "code",
   "execution_count": 350,
   "metadata": {
    "ExecuteTime": {
     "end_time": "2020-10-21T13:34:05.834178Z",
     "start_time": "2020-10-21T13:34:05.822204Z"
    }
   },
   "outputs": [],
   "source": [
    "def clean_test_dataset(path):\n",
    "    data = pd.read_csv(path)\n",
    "    #Arreglando tipos de datos\n",
    "    data['MS SubClass'] = data['MS SubClass'].astype('category')\n",
    "    data = data.drop(columns = ['MS Zoning', 'Lot Frontage', 'Alley', 'Mas Vnr Type', 'Mas Vnr Area',\n",
    "     'Bsmt Qual', 'Bsmt Cond', 'Bsmt Exposure', 'BsmtFin Type 1', 'BsmtFin Type 2', 'Electrical',\n",
    "     'Fireplace Qu', 'Garage Type', 'Garage Yr Blt', 'Garage Finish', 'Garage Qual', 'Garage Cond',\n",
    "     'Pool QC', 'Fence', 'Misc Feature', 'Condition 1', 'Condition 2', 'Exterior 1st', 'Exterior 2nd',\n",
    "    'Heating', 'Heating QC'])\n",
    "    return data"
   ]
  },
  {
   "cell_type": "code",
   "execution_count": 351,
   "metadata": {
    "ExecuteTime": {
     "end_time": "2020-10-21T13:34:07.513049Z",
     "start_time": "2020-10-21T13:34:07.442708Z"
    }
   },
   "outputs": [],
   "source": [
    "datos_prueba = clean_test_dataset('casas_prueba.csv')"
   ]
  },
  {
   "cell_type": "code",
   "execution_count": 352,
   "metadata": {
    "ExecuteTime": {
     "end_time": "2020-10-21T13:34:11.113420Z",
     "start_time": "2020-10-21T13:34:11.076224Z"
    }
   },
   "outputs": [],
   "source": [
    "prueba_prepared = full_pipeline.transform(datos_prueba.iloc[:,:-1])"
   ]
  },
  {
   "cell_type": "code",
   "execution_count": 353,
   "metadata": {
    "ExecuteTime": {
     "end_time": "2020-10-21T13:34:56.953016Z",
     "start_time": "2020-10-21T13:34:56.935116Z"
    }
   },
   "outputs": [],
   "source": [
    "final_model = grid_search.best_estimator_\n",
    "final_predictions = final_model.predict(prueba_prepared)"
   ]
  },
  {
   "cell_type": "code",
   "execution_count": 354,
   "metadata": {
    "ExecuteTime": {
     "end_time": "2020-10-21T13:35:26.504372Z",
     "start_time": "2020-10-21T13:35:26.490563Z"
    }
   },
   "outputs": [
    {
     "data": {
      "text/plain": [
       "1203"
      ]
     },
     "execution_count": 354,
     "metadata": {},
     "output_type": "execute_result"
    }
   ],
   "source": [
    "len(final_predictions)"
   ]
  },
  {
   "cell_type": "code",
   "execution_count": 355,
   "metadata": {
    "ExecuteTime": {
     "end_time": "2020-10-21T13:36:38.382192Z",
     "start_time": "2020-10-21T13:36:38.334308Z"
    }
   },
   "outputs": [],
   "source": [
    "submissions = pd.DataFrame({'id': [e for e in range(1,1204)], 'SalePrice': final_predictions})"
   ]
  },
  {
   "cell_type": "code",
   "execution_count": 356,
   "metadata": {
    "ExecuteTime": {
     "end_time": "2020-10-21T13:36:46.526922Z",
     "start_time": "2020-10-21T13:36:46.486848Z"
    }
   },
   "outputs": [
    {
     "data": {
      "text/html": [
       "<div>\n",
       "<style scoped>\n",
       "    .dataframe tbody tr th:only-of-type {\n",
       "        vertical-align: middle;\n",
       "    }\n",
       "\n",
       "    .dataframe tbody tr th {\n",
       "        vertical-align: top;\n",
       "    }\n",
       "\n",
       "    .dataframe thead th {\n",
       "        text-align: right;\n",
       "    }\n",
       "</style>\n",
       "<table border=\"1\" class=\"dataframe\">\n",
       "  <thead>\n",
       "    <tr style=\"text-align: right;\">\n",
       "      <th></th>\n",
       "      <th>id</th>\n",
       "      <th>SalePrice</th>\n",
       "    </tr>\n",
       "  </thead>\n",
       "  <tbody>\n",
       "    <tr>\n",
       "      <th>0</th>\n",
       "      <td>1</td>\n",
       "      <td>239311.140338</td>\n",
       "    </tr>\n",
       "    <tr>\n",
       "      <th>1</th>\n",
       "      <td>2</td>\n",
       "      <td>218319.318540</td>\n",
       "    </tr>\n",
       "    <tr>\n",
       "      <th>2</th>\n",
       "      <td>3</td>\n",
       "      <td>142500.003500</td>\n",
       "    </tr>\n",
       "    <tr>\n",
       "      <th>3</th>\n",
       "      <td>4</td>\n",
       "      <td>287138.633240</td>\n",
       "    </tr>\n",
       "    <tr>\n",
       "      <th>4</th>\n",
       "      <td>5</td>\n",
       "      <td>185401.371870</td>\n",
       "    </tr>\n",
       "  </tbody>\n",
       "</table>\n",
       "</div>"
      ],
      "text/plain": [
       "   id      SalePrice\n",
       "0   1  239311.140338\n",
       "1   2  218319.318540\n",
       "2   3  142500.003500\n",
       "3   4  287138.633240\n",
       "4   5  185401.371870"
      ]
     },
     "execution_count": 356,
     "metadata": {},
     "output_type": "execute_result"
    }
   ],
   "source": [
    "submissions.head()"
   ]
  },
  {
   "cell_type": "code",
   "execution_count": 358,
   "metadata": {
    "ExecuteTime": {
     "end_time": "2020-10-21T13:37:04.609561Z",
     "start_time": "2020-10-21T13:37:04.538142Z"
    }
   },
   "outputs": [],
   "source": [
    "submissions.to_csv('submissions_21_octubre.csv')"
   ]
  },
  {
   "cell_type": "markdown",
   "metadata": {},
   "source": [
    "### Placeholder. \n",
    "\n",
    "Vamos a seguir explorando las etiquetas que no estén. Quizá me tome unos 30 minutos pero está bien. después de eso ya podemos empezar a predecir con nuevos modelos :) Y le puedo avanzar en tiempos libres. Me quedé a punto de tirar \"Heating\" tanto hasta arriba como abajo. "
   ]
  },
  {
   "cell_type": "code",
   "execution_count": 293,
   "metadata": {
    "ExecuteTime": {
     "end_time": "2020-10-21T13:26:14.928813Z",
     "start_time": "2020-10-21T13:26:14.913659Z"
    }
   },
   "outputs": [
    {
     "data": {
      "text/plain": [
       "Index(['MS SubClass', 'Lot Area', 'Street', 'Lot Shape', 'Land Contour',\n",
       "       'Utilities', 'Lot Config', 'Land Slope', 'Neighborhood', 'Bldg Type',\n",
       "       'House Style', 'Overall Qual', 'Overall Cond', 'Year Built',\n",
       "       'Year Remod/Add', 'Roof Style', 'Roof Matl', 'Exter Qual', 'Exter Cond',\n",
       "       'Foundation', 'BsmtFin SF 1', 'BsmtFin SF 2', 'Bsmt Unf SF',\n",
       "       'Total Bsmt SF', 'Heating', 'Heating QC', 'Central Air', '1st Flr SF',\n",
       "       '2nd Flr SF', 'Low Qual Fin SF', 'Gr Liv Area', 'Bsmt Full Bath',\n",
       "       'Bsmt Half Bath', 'Full Bath', 'Half Bath', 'Bedroom AbvGr',\n",
       "       'Kitchen AbvGr', 'Kitchen Qual', 'TotRms AbvGrd', 'Functional',\n",
       "       'Fireplaces', 'Garage Cars', 'Garage Area', 'Paved Drive',\n",
       "       'Wood Deck SF', 'Open Porch SF', 'Enclosed Porch', '3Ssn Porch',\n",
       "       'Screen Porch', 'Pool Area', 'Misc Val', 'Mo Sold', 'Yr Sold',\n",
       "       'Sale Type', 'Sale Condition', 'id'],\n",
       "      dtype='object')"
      ]
     },
     "execution_count": 293,
     "metadata": {},
     "output_type": "execute_result"
    }
   ],
   "source": [
    "datos_prueba.columns"
   ]
  },
  {
   "cell_type": "code",
   "execution_count": 324,
   "metadata": {
    "ExecuteTime": {
     "end_time": "2020-10-21T13:30:08.150924Z",
     "start_time": "2020-10-21T13:30:08.121965Z"
    }
   },
   "outputs": [
    {
     "data": {
      "text/plain": [
       "Ex    592\n",
       "TA    367\n",
       "Gd    202\n",
       "Fa     41\n",
       "Po      1\n",
       "Name: Heating QC, dtype: int64"
      ]
     },
     "execution_count": 324,
     "metadata": {},
     "output_type": "execute_result"
    }
   ],
   "source": [
    "datos_prueba['Heating QC'].value_counts()"
   ]
  },
  {
   "cell_type": "markdown",
   "metadata": {},
   "source": [
    "# Resumen (hasta el momento).  "
   ]
  },
  {
   "cell_type": "code",
   "execution_count": null,
   "metadata": {},
   "outputs": [],
   "source": [
    "#primero usamos una función "
   ]
  }
 ],
 "metadata": {
  "kernelspec": {
   "display_name": "Python 3",
   "language": "python",
   "name": "python3"
  },
  "language_info": {
   "codemirror_mode": {
    "name": "ipython",
    "version": 3
   },
   "file_extension": ".py",
   "mimetype": "text/x-python",
   "name": "python",
   "nbconvert_exporter": "python",
   "pygments_lexer": "ipython3",
   "version": "3.7.7"
  }
 },
 "nbformat": 4,
 "nbformat_minor": 4
}
