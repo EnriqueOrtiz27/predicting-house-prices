{
 "cells": [
  {
   "cell_type": "markdown",
   "metadata": {},
   "source": [
    "# Aprendizaje de Máqina - Predicción de precios de casas\n",
    "- Source: Ames, Iowa: Alternative to the Boston Housing Data as an End of Semester Regression Project"
   ]
  },
  {
   "cell_type": "markdown",
   "metadata": {},
   "source": [
    "# Imports"
   ]
  },
  {
   "cell_type": "markdown",
   "metadata": {},
   "source": [
    "#### Python libraries"
   ]
  },
  {
   "cell_type": "code",
   "execution_count": 1,
   "metadata": {
    "ExecuteTime": {
     "end_time": "2020-11-01T00:09:38.348403Z",
     "start_time": "2020-11-01T00:09:37.093766Z"
    }
   },
   "outputs": [],
   "source": [
    "import pandas as pd\n",
    "pd.set_option('display.max_columns', 50)\n",
    "\n",
    "import numpy as np\n",
    "\n",
    "import sys\n",
    "\n",
    "import seaborn as sns\n",
    "\n",
    "import matplotlib.pyplot as plt\n",
    "\n",
    "from sklearn import (\n",
    "    linear_model,\n",
    "    datasets\n",
    ")\n",
    "\n",
    "from sklearn.model_selection import (\n",
    "    train_test_split,\n",
    "    cross_val_score\n",
    ")\n",
    "\n",
    "from sklearn.preprocessing import (\n",
    "    OrdinalEncoder,\n",
    "    StandardScaler,\n",
    "    OneHotEncoder\n",
    ")\n",
    "\n",
    "from sklearn.compose import ColumnTransformer\n",
    "\n",
    "from sklearn.pipeline import Pipeline\n",
    "\n",
    "from sklearn.metrics import (\n",
    "    mean_squared_error,\n",
    "    mean_squared_log_error\n",
    ")\n",
    "\n",
    "from sklearn.linear_model import LinearRegression\n",
    "from sklearn.tree import DecisionTreeRegressor\n",
    "from sklearn.ensemble import RandomForestRegressor\n",
    "from sklearn.model_selection import GridSearchCV"
   ]
  },
  {
   "cell_type": "markdown",
   "metadata": {},
   "source": [
    "#### Ancillary modules"
   ]
  },
  {
   "cell_type": "code",
   "execution_count": 2,
   "metadata": {
    "ExecuteTime": {
     "end_time": "2020-11-01T00:09:38.385579Z",
     "start_time": "2020-11-01T00:09:38.350202Z"
    }
   },
   "outputs": [],
   "source": [
    "%load_ext autoreload\n",
    "%autoreload 2\n",
    "\n",
    "sys.path.append(\"../utils\")\n",
    "\n",
    "## Functions module\n",
    "from houses_funcs import (\n",
    "    json_dump_dict, \n",
    "    features_dictrionary,\n",
    "    clean_col_names,\n",
    "    data_profiling_numeric,\n",
    "    data_profiling_categ,\n",
    "    display_scores,\n",
    "    clean_data,\n",
    "    format_predicts,\n",
    "    lists_by_type_of_var\n",
    ")\n",
    "\n",
    "## Parameters module\n",
    "from houses_params import (\n",
    "    features_dict,\n",
    "    data_path_from_main,\n",
    "    train_data,\n",
    "    test_data\n",
    ")\n",
    "\n",
    "## ML module\n",
    "from houses_ml import(\n",
    "    num_pipeline,\n",
    "    cat_pipeline,\n",
    "    select_model\n",
    ")"
   ]
  },
  {
   "cell_type": "markdown",
   "metadata": {},
   "source": [
    "# Import datasets"
   ]
  },
  {
   "cell_type": "code",
   "execution_count": 3,
   "metadata": {
    "ExecuteTime": {
     "end_time": "2020-11-01T00:09:38.421545Z",
     "start_time": "2020-11-01T00:09:38.387602Z"
    },
    "scrolled": true
   },
   "outputs": [
    {
     "data": {
      "text/html": [
       "<div>\n",
       "<style scoped>\n",
       "    .dataframe tbody tr th:only-of-type {\n",
       "        vertical-align: middle;\n",
       "    }\n",
       "\n",
       "    .dataframe tbody tr th {\n",
       "        vertical-align: top;\n",
       "    }\n",
       "\n",
       "    .dataframe thead th {\n",
       "        text-align: right;\n",
       "    }\n",
       "</style>\n",
       "<table border=\"1\" class=\"dataframe\">\n",
       "  <thead>\n",
       "    <tr style=\"text-align: right;\">\n",
       "      <th></th>\n",
       "      <th>id</th>\n",
       "      <th>SalePrice</th>\n",
       "    </tr>\n",
       "  </thead>\n",
       "  <tbody>\n",
       "    <tr>\n",
       "      <th>0</th>\n",
       "      <td>1</td>\n",
       "      <td>180401.23</td>\n",
       "    </tr>\n",
       "    <tr>\n",
       "      <th>1</th>\n",
       "      <td>2</td>\n",
       "      <td>180401.23</td>\n",
       "    </tr>\n",
       "    <tr>\n",
       "      <th>2</th>\n",
       "      <td>3</td>\n",
       "      <td>180401.23</td>\n",
       "    </tr>\n",
       "    <tr>\n",
       "      <th>3</th>\n",
       "      <td>4</td>\n",
       "      <td>180401.23</td>\n",
       "    </tr>\n",
       "    <tr>\n",
       "      <th>4</th>\n",
       "      <td>5</td>\n",
       "      <td>180401.23</td>\n",
       "    </tr>\n",
       "    <tr>\n",
       "      <th>...</th>\n",
       "      <td>...</td>\n",
       "      <td>...</td>\n",
       "    </tr>\n",
       "    <tr>\n",
       "      <th>1198</th>\n",
       "      <td>1199</td>\n",
       "      <td>180401.23</td>\n",
       "    </tr>\n",
       "    <tr>\n",
       "      <th>1199</th>\n",
       "      <td>1200</td>\n",
       "      <td>180401.23</td>\n",
       "    </tr>\n",
       "    <tr>\n",
       "      <th>1200</th>\n",
       "      <td>1201</td>\n",
       "      <td>180401.23</td>\n",
       "    </tr>\n",
       "    <tr>\n",
       "      <th>1201</th>\n",
       "      <td>1202</td>\n",
       "      <td>180401.23</td>\n",
       "    </tr>\n",
       "    <tr>\n",
       "      <th>1202</th>\n",
       "      <td>1203</td>\n",
       "      <td>180401.23</td>\n",
       "    </tr>\n",
       "  </tbody>\n",
       "</table>\n",
       "<p>1203 rows × 2 columns</p>\n",
       "</div>"
      ],
      "text/plain": [
       "        id  SalePrice\n",
       "0        1  180401.23\n",
       "1        2  180401.23\n",
       "2        3  180401.23\n",
       "3        4  180401.23\n",
       "4        5  180401.23\n",
       "...    ...        ...\n",
       "1198  1199  180401.23\n",
       "1199  1200  180401.23\n",
       "1200  1201  180401.23\n",
       "1201  1202  180401.23\n",
       "1202  1203  180401.23\n",
       "\n",
       "[1203 rows x 2 columns]"
      ]
     },
     "execution_count": 3,
     "metadata": {},
     "output_type": "execute_result"
    }
   ],
   "source": [
    "## Sample submission\n",
    "df_samplesub = pd.read_csv(\"../data/sample_submission.csv\")\n",
    "df_samplesub"
   ]
  },
  {
   "cell_type": "code",
   "execution_count": 4,
   "metadata": {
    "ExecuteTime": {
     "end_time": "2020-11-01T00:09:38.520583Z",
     "start_time": "2020-11-01T00:09:38.423831Z"
    }
   },
   "outputs": [
    {
     "data": {
      "text/html": [
       "<div>\n",
       "<style scoped>\n",
       "    .dataframe tbody tr th:only-of-type {\n",
       "        vertical-align: middle;\n",
       "    }\n",
       "\n",
       "    .dataframe tbody tr th {\n",
       "        vertical-align: top;\n",
       "    }\n",
       "\n",
       "    .dataframe thead th {\n",
       "        text-align: right;\n",
       "    }\n",
       "</style>\n",
       "<table border=\"1\" class=\"dataframe\">\n",
       "  <thead>\n",
       "    <tr style=\"text-align: right;\">\n",
       "      <th></th>\n",
       "      <th>MS SubClass</th>\n",
       "      <th>MS Zoning</th>\n",
       "      <th>Lot Frontage</th>\n",
       "      <th>Lot Area</th>\n",
       "      <th>Street</th>\n",
       "      <th>Alley</th>\n",
       "      <th>Lot Shape</th>\n",
       "      <th>Land Contour</th>\n",
       "      <th>Utilities</th>\n",
       "      <th>Lot Config</th>\n",
       "      <th>Land Slope</th>\n",
       "      <th>Neighborhood</th>\n",
       "      <th>Condition 1</th>\n",
       "      <th>Condition 2</th>\n",
       "      <th>Bldg Type</th>\n",
       "      <th>House Style</th>\n",
       "      <th>Overall Qual</th>\n",
       "      <th>Overall Cond</th>\n",
       "      <th>Year Built</th>\n",
       "      <th>Year Remod/Add</th>\n",
       "      <th>Roof Style</th>\n",
       "      <th>Roof Matl</th>\n",
       "      <th>Exterior 1st</th>\n",
       "      <th>Exterior 2nd</th>\n",
       "      <th>Mas Vnr Type</th>\n",
       "      <th>...</th>\n",
       "      <th>Fireplaces</th>\n",
       "      <th>Fireplace Qu</th>\n",
       "      <th>Garage Type</th>\n",
       "      <th>Garage Yr Blt</th>\n",
       "      <th>Garage Finish</th>\n",
       "      <th>Garage Cars</th>\n",
       "      <th>Garage Area</th>\n",
       "      <th>Garage Qual</th>\n",
       "      <th>Garage Cond</th>\n",
       "      <th>Paved Drive</th>\n",
       "      <th>Wood Deck SF</th>\n",
       "      <th>Open Porch SF</th>\n",
       "      <th>Enclosed Porch</th>\n",
       "      <th>3Ssn Porch</th>\n",
       "      <th>Screen Porch</th>\n",
       "      <th>Pool Area</th>\n",
       "      <th>Pool QC</th>\n",
       "      <th>Fence</th>\n",
       "      <th>Misc Feature</th>\n",
       "      <th>Misc Val</th>\n",
       "      <th>Mo Sold</th>\n",
       "      <th>Yr Sold</th>\n",
       "      <th>Sale Type</th>\n",
       "      <th>Sale Condition</th>\n",
       "      <th>id</th>\n",
       "    </tr>\n",
       "  </thead>\n",
       "  <tbody>\n",
       "    <tr>\n",
       "      <th>0</th>\n",
       "      <td>60</td>\n",
       "      <td>RL</td>\n",
       "      <td>NaN</td>\n",
       "      <td>10316</td>\n",
       "      <td>Pave</td>\n",
       "      <td>NaN</td>\n",
       "      <td>IR1</td>\n",
       "      <td>Lvl</td>\n",
       "      <td>AllPub</td>\n",
       "      <td>Inside</td>\n",
       "      <td>Gtl</td>\n",
       "      <td>CollgCr</td>\n",
       "      <td>Norm</td>\n",
       "      <td>Norm</td>\n",
       "      <td>1Fam</td>\n",
       "      <td>2Story</td>\n",
       "      <td>7</td>\n",
       "      <td>5</td>\n",
       "      <td>2000</td>\n",
       "      <td>2000</td>\n",
       "      <td>Gable</td>\n",
       "      <td>CompShg</td>\n",
       "      <td>VinylSd</td>\n",
       "      <td>VinylSd</td>\n",
       "      <td>None</td>\n",
       "      <td>...</td>\n",
       "      <td>1</td>\n",
       "      <td>TA</td>\n",
       "      <td>Attchd</td>\n",
       "      <td>2000.0</td>\n",
       "      <td>RFn</td>\n",
       "      <td>3</td>\n",
       "      <td>839</td>\n",
       "      <td>TA</td>\n",
       "      <td>TA</td>\n",
       "      <td>Y</td>\n",
       "      <td>0</td>\n",
       "      <td>184</td>\n",
       "      <td>0</td>\n",
       "      <td>0</td>\n",
       "      <td>0</td>\n",
       "      <td>0</td>\n",
       "      <td>NaN</td>\n",
       "      <td>NaN</td>\n",
       "      <td>NaN</td>\n",
       "      <td>0</td>\n",
       "      <td>6</td>\n",
       "      <td>2008</td>\n",
       "      <td>WD</td>\n",
       "      <td>Normal</td>\n",
       "      <td>1</td>\n",
       "    </tr>\n",
       "    <tr>\n",
       "      <th>1</th>\n",
       "      <td>120</td>\n",
       "      <td>RL</td>\n",
       "      <td>43.0</td>\n",
       "      <td>7052</td>\n",
       "      <td>Pave</td>\n",
       "      <td>NaN</td>\n",
       "      <td>IR1</td>\n",
       "      <td>Lvl</td>\n",
       "      <td>AllPub</td>\n",
       "      <td>Inside</td>\n",
       "      <td>Gtl</td>\n",
       "      <td>NridgHt</td>\n",
       "      <td>Norm</td>\n",
       "      <td>Norm</td>\n",
       "      <td>TwnhsE</td>\n",
       "      <td>1Story</td>\n",
       "      <td>7</td>\n",
       "      <td>5</td>\n",
       "      <td>2005</td>\n",
       "      <td>2005</td>\n",
       "      <td>Gable</td>\n",
       "      <td>CompShg</td>\n",
       "      <td>VinylSd</td>\n",
       "      <td>VinylSd</td>\n",
       "      <td>Stone</td>\n",
       "      <td>...</td>\n",
       "      <td>1</td>\n",
       "      <td>Gd</td>\n",
       "      <td>Attchd</td>\n",
       "      <td>2005.0</td>\n",
       "      <td>RFn</td>\n",
       "      <td>2</td>\n",
       "      <td>484</td>\n",
       "      <td>TA</td>\n",
       "      <td>TA</td>\n",
       "      <td>Y</td>\n",
       "      <td>192</td>\n",
       "      <td>36</td>\n",
       "      <td>0</td>\n",
       "      <td>0</td>\n",
       "      <td>0</td>\n",
       "      <td>0</td>\n",
       "      <td>NaN</td>\n",
       "      <td>NaN</td>\n",
       "      <td>NaN</td>\n",
       "      <td>0</td>\n",
       "      <td>6</td>\n",
       "      <td>2006</td>\n",
       "      <td>WD</td>\n",
       "      <td>Normal</td>\n",
       "      <td>2</td>\n",
       "    </tr>\n",
       "    <tr>\n",
       "      <th>2</th>\n",
       "      <td>20</td>\n",
       "      <td>RL</td>\n",
       "      <td>76.0</td>\n",
       "      <td>8243</td>\n",
       "      <td>Pave</td>\n",
       "      <td>NaN</td>\n",
       "      <td>IR1</td>\n",
       "      <td>Lvl</td>\n",
       "      <td>AllPub</td>\n",
       "      <td>CulDSac</td>\n",
       "      <td>Gtl</td>\n",
       "      <td>NAmes</td>\n",
       "      <td>Norm</td>\n",
       "      <td>Norm</td>\n",
       "      <td>1Fam</td>\n",
       "      <td>1Story</td>\n",
       "      <td>5</td>\n",
       "      <td>7</td>\n",
       "      <td>1961</td>\n",
       "      <td>1961</td>\n",
       "      <td>Gable</td>\n",
       "      <td>CompShg</td>\n",
       "      <td>VinylSd</td>\n",
       "      <td>VinylSd</td>\n",
       "      <td>BrkFace</td>\n",
       "      <td>...</td>\n",
       "      <td>1</td>\n",
       "      <td>Fa</td>\n",
       "      <td>Detchd</td>\n",
       "      <td>1985.0</td>\n",
       "      <td>Fin</td>\n",
       "      <td>2</td>\n",
       "      <td>784</td>\n",
       "      <td>TA</td>\n",
       "      <td>TA</td>\n",
       "      <td>Y</td>\n",
       "      <td>170</td>\n",
       "      <td>0</td>\n",
       "      <td>0</td>\n",
       "      <td>0</td>\n",
       "      <td>0</td>\n",
       "      <td>0</td>\n",
       "      <td>NaN</td>\n",
       "      <td>GdPrv</td>\n",
       "      <td>NaN</td>\n",
       "      <td>0</td>\n",
       "      <td>2</td>\n",
       "      <td>2007</td>\n",
       "      <td>WD</td>\n",
       "      <td>Normal</td>\n",
       "      <td>3</td>\n",
       "    </tr>\n",
       "    <tr>\n",
       "      <th>3</th>\n",
       "      <td>60</td>\n",
       "      <td>RL</td>\n",
       "      <td>NaN</td>\n",
       "      <td>18275</td>\n",
       "      <td>Pave</td>\n",
       "      <td>NaN</td>\n",
       "      <td>IR1</td>\n",
       "      <td>HLS</td>\n",
       "      <td>AllPub</td>\n",
       "      <td>Inside</td>\n",
       "      <td>Gtl</td>\n",
       "      <td>NAmes</td>\n",
       "      <td>Norm</td>\n",
       "      <td>Norm</td>\n",
       "      <td>1Fam</td>\n",
       "      <td>2Story</td>\n",
       "      <td>7</td>\n",
       "      <td>8</td>\n",
       "      <td>1962</td>\n",
       "      <td>1998</td>\n",
       "      <td>Gable</td>\n",
       "      <td>CompShg</td>\n",
       "      <td>Plywood</td>\n",
       "      <td>Plywood</td>\n",
       "      <td>None</td>\n",
       "      <td>...</td>\n",
       "      <td>2</td>\n",
       "      <td>Gd</td>\n",
       "      <td>Attchd</td>\n",
       "      <td>1962.0</td>\n",
       "      <td>RFn</td>\n",
       "      <td>2</td>\n",
       "      <td>441</td>\n",
       "      <td>TA</td>\n",
       "      <td>TA</td>\n",
       "      <td>Y</td>\n",
       "      <td>520</td>\n",
       "      <td>102</td>\n",
       "      <td>0</td>\n",
       "      <td>0</td>\n",
       "      <td>0</td>\n",
       "      <td>0</td>\n",
       "      <td>NaN</td>\n",
       "      <td>NaN</td>\n",
       "      <td>NaN</td>\n",
       "      <td>0</td>\n",
       "      <td>9</td>\n",
       "      <td>2006</td>\n",
       "      <td>WD</td>\n",
       "      <td>Normal</td>\n",
       "      <td>4</td>\n",
       "    </tr>\n",
       "    <tr>\n",
       "      <th>4</th>\n",
       "      <td>20</td>\n",
       "      <td>RL</td>\n",
       "      <td>100.0</td>\n",
       "      <td>15263</td>\n",
       "      <td>Pave</td>\n",
       "      <td>NaN</td>\n",
       "      <td>IR1</td>\n",
       "      <td>Lvl</td>\n",
       "      <td>AllPub</td>\n",
       "      <td>Inside</td>\n",
       "      <td>Gtl</td>\n",
       "      <td>ClearCr</td>\n",
       "      <td>Feedr</td>\n",
       "      <td>Norm</td>\n",
       "      <td>1Fam</td>\n",
       "      <td>1Story</td>\n",
       "      <td>5</td>\n",
       "      <td>5</td>\n",
       "      <td>1959</td>\n",
       "      <td>1959</td>\n",
       "      <td>Gable</td>\n",
       "      <td>CompShg</td>\n",
       "      <td>HdBoard</td>\n",
       "      <td>HdBoard</td>\n",
       "      <td>BrkFace</td>\n",
       "      <td>...</td>\n",
       "      <td>2</td>\n",
       "      <td>Gd</td>\n",
       "      <td>Attchd</td>\n",
       "      <td>1959.0</td>\n",
       "      <td>Unf</td>\n",
       "      <td>1</td>\n",
       "      <td>365</td>\n",
       "      <td>TA</td>\n",
       "      <td>TA</td>\n",
       "      <td>Y</td>\n",
       "      <td>0</td>\n",
       "      <td>132</td>\n",
       "      <td>0</td>\n",
       "      <td>0</td>\n",
       "      <td>0</td>\n",
       "      <td>0</td>\n",
       "      <td>NaN</td>\n",
       "      <td>NaN</td>\n",
       "      <td>NaN</td>\n",
       "      <td>0</td>\n",
       "      <td>5</td>\n",
       "      <td>2010</td>\n",
       "      <td>WD</td>\n",
       "      <td>Normal</td>\n",
       "      <td>5</td>\n",
       "    </tr>\n",
       "    <tr>\n",
       "      <th>...</th>\n",
       "      <td>...</td>\n",
       "      <td>...</td>\n",
       "      <td>...</td>\n",
       "      <td>...</td>\n",
       "      <td>...</td>\n",
       "      <td>...</td>\n",
       "      <td>...</td>\n",
       "      <td>...</td>\n",
       "      <td>...</td>\n",
       "      <td>...</td>\n",
       "      <td>...</td>\n",
       "      <td>...</td>\n",
       "      <td>...</td>\n",
       "      <td>...</td>\n",
       "      <td>...</td>\n",
       "      <td>...</td>\n",
       "      <td>...</td>\n",
       "      <td>...</td>\n",
       "      <td>...</td>\n",
       "      <td>...</td>\n",
       "      <td>...</td>\n",
       "      <td>...</td>\n",
       "      <td>...</td>\n",
       "      <td>...</td>\n",
       "      <td>...</td>\n",
       "      <td>...</td>\n",
       "      <td>...</td>\n",
       "      <td>...</td>\n",
       "      <td>...</td>\n",
       "      <td>...</td>\n",
       "      <td>...</td>\n",
       "      <td>...</td>\n",
       "      <td>...</td>\n",
       "      <td>...</td>\n",
       "      <td>...</td>\n",
       "      <td>...</td>\n",
       "      <td>...</td>\n",
       "      <td>...</td>\n",
       "      <td>...</td>\n",
       "      <td>...</td>\n",
       "      <td>...</td>\n",
       "      <td>...</td>\n",
       "      <td>...</td>\n",
       "      <td>...</td>\n",
       "      <td>...</td>\n",
       "      <td>...</td>\n",
       "      <td>...</td>\n",
       "      <td>...</td>\n",
       "      <td>...</td>\n",
       "      <td>...</td>\n",
       "      <td>...</td>\n",
       "    </tr>\n",
       "    <tr>\n",
       "      <th>1198</th>\n",
       "      <td>20</td>\n",
       "      <td>RL</td>\n",
       "      <td>90.0</td>\n",
       "      <td>10454</td>\n",
       "      <td>Pave</td>\n",
       "      <td>NaN</td>\n",
       "      <td>IR1</td>\n",
       "      <td>Lvl</td>\n",
       "      <td>AllPub</td>\n",
       "      <td>Corner</td>\n",
       "      <td>Gtl</td>\n",
       "      <td>NAmes</td>\n",
       "      <td>Norm</td>\n",
       "      <td>Norm</td>\n",
       "      <td>1Fam</td>\n",
       "      <td>1Story</td>\n",
       "      <td>6</td>\n",
       "      <td>6</td>\n",
       "      <td>1957</td>\n",
       "      <td>1957</td>\n",
       "      <td>Hip</td>\n",
       "      <td>CompShg</td>\n",
       "      <td>Plywood</td>\n",
       "      <td>Plywood</td>\n",
       "      <td>Stone</td>\n",
       "      <td>...</td>\n",
       "      <td>0</td>\n",
       "      <td>NaN</td>\n",
       "      <td>Detchd</td>\n",
       "      <td>1957.0</td>\n",
       "      <td>Unf</td>\n",
       "      <td>1</td>\n",
       "      <td>308</td>\n",
       "      <td>TA</td>\n",
       "      <td>TA</td>\n",
       "      <td>Y</td>\n",
       "      <td>0</td>\n",
       "      <td>0</td>\n",
       "      <td>0</td>\n",
       "      <td>0</td>\n",
       "      <td>0</td>\n",
       "      <td>0</td>\n",
       "      <td>NaN</td>\n",
       "      <td>NaN</td>\n",
       "      <td>NaN</td>\n",
       "      <td>0</td>\n",
       "      <td>4</td>\n",
       "      <td>2009</td>\n",
       "      <td>WD</td>\n",
       "      <td>Normal</td>\n",
       "      <td>1199</td>\n",
       "    </tr>\n",
       "    <tr>\n",
       "      <th>1199</th>\n",
       "      <td>120</td>\n",
       "      <td>RL</td>\n",
       "      <td>51.0</td>\n",
       "      <td>3635</td>\n",
       "      <td>Pave</td>\n",
       "      <td>NaN</td>\n",
       "      <td>Reg</td>\n",
       "      <td>Lvl</td>\n",
       "      <td>AllPub</td>\n",
       "      <td>Inside</td>\n",
       "      <td>Gtl</td>\n",
       "      <td>Blmngtn</td>\n",
       "      <td>Norm</td>\n",
       "      <td>Norm</td>\n",
       "      <td>TwnhsE</td>\n",
       "      <td>1Story</td>\n",
       "      <td>7</td>\n",
       "      <td>5</td>\n",
       "      <td>2007</td>\n",
       "      <td>2007</td>\n",
       "      <td>Hip</td>\n",
       "      <td>CompShg</td>\n",
       "      <td>VinylSd</td>\n",
       "      <td>VinylSd</td>\n",
       "      <td>BrkFace</td>\n",
       "      <td>...</td>\n",
       "      <td>1</td>\n",
       "      <td>TA</td>\n",
       "      <td>Attchd</td>\n",
       "      <td>2007.0</td>\n",
       "      <td>RFn</td>\n",
       "      <td>3</td>\n",
       "      <td>660</td>\n",
       "      <td>TA</td>\n",
       "      <td>TA</td>\n",
       "      <td>Y</td>\n",
       "      <td>143</td>\n",
       "      <td>20</td>\n",
       "      <td>0</td>\n",
       "      <td>0</td>\n",
       "      <td>0</td>\n",
       "      <td>0</td>\n",
       "      <td>NaN</td>\n",
       "      <td>NaN</td>\n",
       "      <td>NaN</td>\n",
       "      <td>0</td>\n",
       "      <td>5</td>\n",
       "      <td>2009</td>\n",
       "      <td>WD</td>\n",
       "      <td>Normal</td>\n",
       "      <td>1200</td>\n",
       "    </tr>\n",
       "    <tr>\n",
       "      <th>1200</th>\n",
       "      <td>50</td>\n",
       "      <td>RL</td>\n",
       "      <td>85.0</td>\n",
       "      <td>14115</td>\n",
       "      <td>Pave</td>\n",
       "      <td>NaN</td>\n",
       "      <td>IR1</td>\n",
       "      <td>Lvl</td>\n",
       "      <td>AllPub</td>\n",
       "      <td>Inside</td>\n",
       "      <td>Gtl</td>\n",
       "      <td>Mitchel</td>\n",
       "      <td>Norm</td>\n",
       "      <td>Norm</td>\n",
       "      <td>1Fam</td>\n",
       "      <td>1.5Fin</td>\n",
       "      <td>5</td>\n",
       "      <td>5</td>\n",
       "      <td>1993</td>\n",
       "      <td>1995</td>\n",
       "      <td>Gable</td>\n",
       "      <td>CompShg</td>\n",
       "      <td>VinylSd</td>\n",
       "      <td>VinylSd</td>\n",
       "      <td>None</td>\n",
       "      <td>...</td>\n",
       "      <td>0</td>\n",
       "      <td>NaN</td>\n",
       "      <td>Attchd</td>\n",
       "      <td>1993.0</td>\n",
       "      <td>Unf</td>\n",
       "      <td>2</td>\n",
       "      <td>480</td>\n",
       "      <td>TA</td>\n",
       "      <td>TA</td>\n",
       "      <td>Y</td>\n",
       "      <td>40</td>\n",
       "      <td>30</td>\n",
       "      <td>0</td>\n",
       "      <td>320</td>\n",
       "      <td>0</td>\n",
       "      <td>0</td>\n",
       "      <td>NaN</td>\n",
       "      <td>MnPrv</td>\n",
       "      <td>Shed</td>\n",
       "      <td>700</td>\n",
       "      <td>10</td>\n",
       "      <td>2009</td>\n",
       "      <td>WD</td>\n",
       "      <td>Normal</td>\n",
       "      <td>1201</td>\n",
       "    </tr>\n",
       "    <tr>\n",
       "      <th>1201</th>\n",
       "      <td>20</td>\n",
       "      <td>RL</td>\n",
       "      <td>60.0</td>\n",
       "      <td>11664</td>\n",
       "      <td>Pave</td>\n",
       "      <td>NaN</td>\n",
       "      <td>Reg</td>\n",
       "      <td>Lvl</td>\n",
       "      <td>AllPub</td>\n",
       "      <td>Inside</td>\n",
       "      <td>Gtl</td>\n",
       "      <td>NAmes</td>\n",
       "      <td>Artery</td>\n",
       "      <td>Norm</td>\n",
       "      <td>1Fam</td>\n",
       "      <td>1Story</td>\n",
       "      <td>6</td>\n",
       "      <td>5</td>\n",
       "      <td>1948</td>\n",
       "      <td>1950</td>\n",
       "      <td>Gable</td>\n",
       "      <td>CompShg</td>\n",
       "      <td>MetalSd</td>\n",
       "      <td>MetalSd</td>\n",
       "      <td>BrkFace</td>\n",
       "      <td>...</td>\n",
       "      <td>1</td>\n",
       "      <td>Gd</td>\n",
       "      <td>Detchd</td>\n",
       "      <td>1948.0</td>\n",
       "      <td>Unf</td>\n",
       "      <td>1</td>\n",
       "      <td>240</td>\n",
       "      <td>TA</td>\n",
       "      <td>TA</td>\n",
       "      <td>Y</td>\n",
       "      <td>0</td>\n",
       "      <td>130</td>\n",
       "      <td>0</td>\n",
       "      <td>0</td>\n",
       "      <td>0</td>\n",
       "      <td>0</td>\n",
       "      <td>NaN</td>\n",
       "      <td>NaN</td>\n",
       "      <td>NaN</td>\n",
       "      <td>0</td>\n",
       "      <td>11</td>\n",
       "      <td>2007</td>\n",
       "      <td>WD</td>\n",
       "      <td>Normal</td>\n",
       "      <td>1202</td>\n",
       "    </tr>\n",
       "    <tr>\n",
       "      <th>1202</th>\n",
       "      <td>20</td>\n",
       "      <td>RL</td>\n",
       "      <td>NaN</td>\n",
       "      <td>9240</td>\n",
       "      <td>Pave</td>\n",
       "      <td>NaN</td>\n",
       "      <td>IR1</td>\n",
       "      <td>Lvl</td>\n",
       "      <td>AllPub</td>\n",
       "      <td>Inside</td>\n",
       "      <td>Gtl</td>\n",
       "      <td>Sawyer</td>\n",
       "      <td>Norm</td>\n",
       "      <td>Norm</td>\n",
       "      <td>1Fam</td>\n",
       "      <td>1Story</td>\n",
       "      <td>5</td>\n",
       "      <td>6</td>\n",
       "      <td>1962</td>\n",
       "      <td>2002</td>\n",
       "      <td>Hip</td>\n",
       "      <td>CompShg</td>\n",
       "      <td>HdBoard</td>\n",
       "      <td>HdBoard</td>\n",
       "      <td>None</td>\n",
       "      <td>...</td>\n",
       "      <td>1</td>\n",
       "      <td>TA</td>\n",
       "      <td>Detchd</td>\n",
       "      <td>1972.0</td>\n",
       "      <td>Unf</td>\n",
       "      <td>2</td>\n",
       "      <td>576</td>\n",
       "      <td>TA</td>\n",
       "      <td>TA</td>\n",
       "      <td>Y</td>\n",
       "      <td>161</td>\n",
       "      <td>0</td>\n",
       "      <td>0</td>\n",
       "      <td>0</td>\n",
       "      <td>0</td>\n",
       "      <td>0</td>\n",
       "      <td>NaN</td>\n",
       "      <td>MnPrv</td>\n",
       "      <td>NaN</td>\n",
       "      <td>0</td>\n",
       "      <td>3</td>\n",
       "      <td>2006</td>\n",
       "      <td>WD</td>\n",
       "      <td>Normal</td>\n",
       "      <td>1203</td>\n",
       "    </tr>\n",
       "  </tbody>\n",
       "</table>\n",
       "<p>1203 rows × 80 columns</p>\n",
       "</div>"
      ],
      "text/plain": [
       "      MS SubClass MS Zoning  Lot Frontage  Lot Area Street Alley Lot Shape  \\\n",
       "0              60        RL           NaN     10316   Pave   NaN       IR1   \n",
       "1             120        RL          43.0      7052   Pave   NaN       IR1   \n",
       "2              20        RL          76.0      8243   Pave   NaN       IR1   \n",
       "3              60        RL           NaN     18275   Pave   NaN       IR1   \n",
       "4              20        RL         100.0     15263   Pave   NaN       IR1   \n",
       "...           ...       ...           ...       ...    ...   ...       ...   \n",
       "1198           20        RL          90.0     10454   Pave   NaN       IR1   \n",
       "1199          120        RL          51.0      3635   Pave   NaN       Reg   \n",
       "1200           50        RL          85.0     14115   Pave   NaN       IR1   \n",
       "1201           20        RL          60.0     11664   Pave   NaN       Reg   \n",
       "1202           20        RL           NaN      9240   Pave   NaN       IR1   \n",
       "\n",
       "     Land Contour Utilities Lot Config Land Slope Neighborhood Condition 1  \\\n",
       "0             Lvl    AllPub     Inside        Gtl      CollgCr        Norm   \n",
       "1             Lvl    AllPub     Inside        Gtl      NridgHt        Norm   \n",
       "2             Lvl    AllPub    CulDSac        Gtl        NAmes        Norm   \n",
       "3             HLS    AllPub     Inside        Gtl        NAmes        Norm   \n",
       "4             Lvl    AllPub     Inside        Gtl      ClearCr       Feedr   \n",
       "...           ...       ...        ...        ...          ...         ...   \n",
       "1198          Lvl    AllPub     Corner        Gtl        NAmes        Norm   \n",
       "1199          Lvl    AllPub     Inside        Gtl      Blmngtn        Norm   \n",
       "1200          Lvl    AllPub     Inside        Gtl      Mitchel        Norm   \n",
       "1201          Lvl    AllPub     Inside        Gtl        NAmes      Artery   \n",
       "1202          Lvl    AllPub     Inside        Gtl       Sawyer        Norm   \n",
       "\n",
       "     Condition 2 Bldg Type House Style  Overall Qual  Overall Cond  \\\n",
       "0           Norm      1Fam      2Story             7             5   \n",
       "1           Norm    TwnhsE      1Story             7             5   \n",
       "2           Norm      1Fam      1Story             5             7   \n",
       "3           Norm      1Fam      2Story             7             8   \n",
       "4           Norm      1Fam      1Story             5             5   \n",
       "...          ...       ...         ...           ...           ...   \n",
       "1198        Norm      1Fam      1Story             6             6   \n",
       "1199        Norm    TwnhsE      1Story             7             5   \n",
       "1200        Norm      1Fam      1.5Fin             5             5   \n",
       "1201        Norm      1Fam      1Story             6             5   \n",
       "1202        Norm      1Fam      1Story             5             6   \n",
       "\n",
       "      Year Built  Year Remod/Add Roof Style Roof Matl Exterior 1st  \\\n",
       "0           2000            2000      Gable   CompShg      VinylSd   \n",
       "1           2005            2005      Gable   CompShg      VinylSd   \n",
       "2           1961            1961      Gable   CompShg      VinylSd   \n",
       "3           1962            1998      Gable   CompShg      Plywood   \n",
       "4           1959            1959      Gable   CompShg      HdBoard   \n",
       "...          ...             ...        ...       ...          ...   \n",
       "1198        1957            1957        Hip   CompShg      Plywood   \n",
       "1199        2007            2007        Hip   CompShg      VinylSd   \n",
       "1200        1993            1995      Gable   CompShg      VinylSd   \n",
       "1201        1948            1950      Gable   CompShg      MetalSd   \n",
       "1202        1962            2002        Hip   CompShg      HdBoard   \n",
       "\n",
       "     Exterior 2nd Mas Vnr Type  ...  Fireplaces Fireplace Qu Garage Type  \\\n",
       "0         VinylSd         None  ...           1           TA      Attchd   \n",
       "1         VinylSd        Stone  ...           1           Gd      Attchd   \n",
       "2         VinylSd      BrkFace  ...           1           Fa      Detchd   \n",
       "3         Plywood         None  ...           2           Gd      Attchd   \n",
       "4         HdBoard      BrkFace  ...           2           Gd      Attchd   \n",
       "...           ...          ...  ...         ...          ...         ...   \n",
       "1198      Plywood        Stone  ...           0          NaN      Detchd   \n",
       "1199      VinylSd      BrkFace  ...           1           TA      Attchd   \n",
       "1200      VinylSd         None  ...           0          NaN      Attchd   \n",
       "1201      MetalSd      BrkFace  ...           1           Gd      Detchd   \n",
       "1202      HdBoard         None  ...           1           TA      Detchd   \n",
       "\n",
       "     Garage Yr Blt Garage Finish Garage Cars Garage Area Garage Qual  \\\n",
       "0           2000.0           RFn           3         839          TA   \n",
       "1           2005.0           RFn           2         484          TA   \n",
       "2           1985.0           Fin           2         784          TA   \n",
       "3           1962.0           RFn           2         441          TA   \n",
       "4           1959.0           Unf           1         365          TA   \n",
       "...            ...           ...         ...         ...         ...   \n",
       "1198        1957.0           Unf           1         308          TA   \n",
       "1199        2007.0           RFn           3         660          TA   \n",
       "1200        1993.0           Unf           2         480          TA   \n",
       "1201        1948.0           Unf           1         240          TA   \n",
       "1202        1972.0           Unf           2         576          TA   \n",
       "\n",
       "      Garage Cond Paved Drive  Wood Deck SF  Open Porch SF  Enclosed Porch  \\\n",
       "0              TA           Y             0            184               0   \n",
       "1              TA           Y           192             36               0   \n",
       "2              TA           Y           170              0               0   \n",
       "3              TA           Y           520            102               0   \n",
       "4              TA           Y             0            132               0   \n",
       "...           ...         ...           ...            ...             ...   \n",
       "1198           TA           Y             0              0               0   \n",
       "1199           TA           Y           143             20               0   \n",
       "1200           TA           Y            40             30               0   \n",
       "1201           TA           Y             0            130               0   \n",
       "1202           TA           Y           161              0               0   \n",
       "\n",
       "     3Ssn Porch Screen Porch Pool Area Pool QC  Fence  Misc Feature  Misc Val  \\\n",
       "0             0            0         0     NaN    NaN           NaN         0   \n",
       "1             0            0         0     NaN    NaN           NaN         0   \n",
       "2             0            0         0     NaN  GdPrv           NaN         0   \n",
       "3             0            0         0     NaN    NaN           NaN         0   \n",
       "4             0            0         0     NaN    NaN           NaN         0   \n",
       "...         ...          ...       ...     ...    ...           ...       ...   \n",
       "1198          0            0         0     NaN    NaN           NaN         0   \n",
       "1199          0            0         0     NaN    NaN           NaN         0   \n",
       "1200        320            0         0     NaN  MnPrv          Shed       700   \n",
       "1201          0            0         0     NaN    NaN           NaN         0   \n",
       "1202          0            0         0     NaN  MnPrv           NaN         0   \n",
       "\n",
       "      Mo Sold  Yr Sold  Sale Type  Sale Condition    id  \n",
       "0           6     2008        WD           Normal     1  \n",
       "1           6     2006        WD           Normal     2  \n",
       "2           2     2007        WD           Normal     3  \n",
       "3           9     2006        WD           Normal     4  \n",
       "4           5     2010        WD           Normal     5  \n",
       "...       ...      ...        ...             ...   ...  \n",
       "1198        4     2009        WD           Normal  1199  \n",
       "1199        5     2009        WD           Normal  1200  \n",
       "1200       10     2009        WD           Normal  1201  \n",
       "1201       11     2007        WD           Normal  1202  \n",
       "1202        3     2006        WD           Normal  1203  \n",
       "\n",
       "[1203 rows x 80 columns]"
      ]
     },
     "execution_count": 4,
     "metadata": {},
     "output_type": "execute_result"
    }
   ],
   "source": [
    "## Main dataset\n",
    "df_test = pd.read_csv(\"../data/casas_prueba.csv\")\n",
    "df_test"
   ]
  },
  {
   "cell_type": "code",
   "execution_count": 5,
   "metadata": {
    "ExecuteTime": {
     "end_time": "2020-11-01T00:09:38.616160Z",
     "start_time": "2020-11-01T00:09:38.522155Z"
    },
    "scrolled": false
   },
   "outputs": [
    {
     "data": {
      "text/html": [
       "<div>\n",
       "<style scoped>\n",
       "    .dataframe tbody tr th:only-of-type {\n",
       "        vertical-align: middle;\n",
       "    }\n",
       "\n",
       "    .dataframe tbody tr th {\n",
       "        vertical-align: top;\n",
       "    }\n",
       "\n",
       "    .dataframe thead th {\n",
       "        text-align: right;\n",
       "    }\n",
       "</style>\n",
       "<table border=\"1\" class=\"dataframe\">\n",
       "  <thead>\n",
       "    <tr style=\"text-align: right;\">\n",
       "      <th></th>\n",
       "      <th>MS SubClass</th>\n",
       "      <th>MS Zoning</th>\n",
       "      <th>Lot Frontage</th>\n",
       "      <th>Lot Area</th>\n",
       "      <th>Street</th>\n",
       "      <th>Alley</th>\n",
       "      <th>Lot Shape</th>\n",
       "      <th>Land Contour</th>\n",
       "      <th>Utilities</th>\n",
       "      <th>Lot Config</th>\n",
       "      <th>Land Slope</th>\n",
       "      <th>Neighborhood</th>\n",
       "      <th>Condition 1</th>\n",
       "      <th>Condition 2</th>\n",
       "      <th>Bldg Type</th>\n",
       "      <th>House Style</th>\n",
       "      <th>Overall Qual</th>\n",
       "      <th>Overall Cond</th>\n",
       "      <th>Year Built</th>\n",
       "      <th>Year Remod/Add</th>\n",
       "      <th>Roof Style</th>\n",
       "      <th>Roof Matl</th>\n",
       "      <th>Exterior 1st</th>\n",
       "      <th>Exterior 2nd</th>\n",
       "      <th>Mas Vnr Type</th>\n",
       "      <th>...</th>\n",
       "      <th>Fireplaces</th>\n",
       "      <th>Fireplace Qu</th>\n",
       "      <th>Garage Type</th>\n",
       "      <th>Garage Yr Blt</th>\n",
       "      <th>Garage Finish</th>\n",
       "      <th>Garage Cars</th>\n",
       "      <th>Garage Area</th>\n",
       "      <th>Garage Qual</th>\n",
       "      <th>Garage Cond</th>\n",
       "      <th>Paved Drive</th>\n",
       "      <th>Wood Deck SF</th>\n",
       "      <th>Open Porch SF</th>\n",
       "      <th>Enclosed Porch</th>\n",
       "      <th>3Ssn Porch</th>\n",
       "      <th>Screen Porch</th>\n",
       "      <th>Pool Area</th>\n",
       "      <th>Pool QC</th>\n",
       "      <th>Fence</th>\n",
       "      <th>Misc Feature</th>\n",
       "      <th>Misc Val</th>\n",
       "      <th>Mo Sold</th>\n",
       "      <th>Yr Sold</th>\n",
       "      <th>Sale Type</th>\n",
       "      <th>Sale Condition</th>\n",
       "      <th>SalePrice</th>\n",
       "    </tr>\n",
       "  </thead>\n",
       "  <tbody>\n",
       "    <tr>\n",
       "      <th>0</th>\n",
       "      <td>120</td>\n",
       "      <td>RM</td>\n",
       "      <td>NaN</td>\n",
       "      <td>3072</td>\n",
       "      <td>Pave</td>\n",
       "      <td>NaN</td>\n",
       "      <td>Reg</td>\n",
       "      <td>Lvl</td>\n",
       "      <td>AllPub</td>\n",
       "      <td>Inside</td>\n",
       "      <td>Gtl</td>\n",
       "      <td>Blmngtn</td>\n",
       "      <td>Norm</td>\n",
       "      <td>Norm</td>\n",
       "      <td>TwnhsE</td>\n",
       "      <td>1Story</td>\n",
       "      <td>7</td>\n",
       "      <td>5</td>\n",
       "      <td>2004</td>\n",
       "      <td>2004</td>\n",
       "      <td>Hip</td>\n",
       "      <td>CompShg</td>\n",
       "      <td>VinylSd</td>\n",
       "      <td>VinylSd</td>\n",
       "      <td>BrkFace</td>\n",
       "      <td>...</td>\n",
       "      <td>1</td>\n",
       "      <td>TA</td>\n",
       "      <td>Attchd</td>\n",
       "      <td>2004.0</td>\n",
       "      <td>Fin</td>\n",
       "      <td>2</td>\n",
       "      <td>388</td>\n",
       "      <td>TA</td>\n",
       "      <td>TA</td>\n",
       "      <td>Y</td>\n",
       "      <td>143</td>\n",
       "      <td>20</td>\n",
       "      <td>0</td>\n",
       "      <td>0</td>\n",
       "      <td>0</td>\n",
       "      <td>0</td>\n",
       "      <td>NaN</td>\n",
       "      <td>NaN</td>\n",
       "      <td>NaN</td>\n",
       "      <td>0</td>\n",
       "      <td>9</td>\n",
       "      <td>2006</td>\n",
       "      <td>WD</td>\n",
       "      <td>Normal</td>\n",
       "      <td>225000</td>\n",
       "    </tr>\n",
       "    <tr>\n",
       "      <th>1</th>\n",
       "      <td>120</td>\n",
       "      <td>RL</td>\n",
       "      <td>53.0</td>\n",
       "      <td>4045</td>\n",
       "      <td>Pave</td>\n",
       "      <td>NaN</td>\n",
       "      <td>Reg</td>\n",
       "      <td>Lvl</td>\n",
       "      <td>AllPub</td>\n",
       "      <td>Inside</td>\n",
       "      <td>Gtl</td>\n",
       "      <td>Blmngtn</td>\n",
       "      <td>Norm</td>\n",
       "      <td>Norm</td>\n",
       "      <td>TwnhsE</td>\n",
       "      <td>1Story</td>\n",
       "      <td>7</td>\n",
       "      <td>5</td>\n",
       "      <td>2006</td>\n",
       "      <td>2006</td>\n",
       "      <td>Hip</td>\n",
       "      <td>CompShg</td>\n",
       "      <td>VinylSd</td>\n",
       "      <td>VinylSd</td>\n",
       "      <td>BrkFace</td>\n",
       "      <td>...</td>\n",
       "      <td>1</td>\n",
       "      <td>Gd</td>\n",
       "      <td>Attchd</td>\n",
       "      <td>2006.0</td>\n",
       "      <td>Fin</td>\n",
       "      <td>3</td>\n",
       "      <td>648</td>\n",
       "      <td>TA</td>\n",
       "      <td>TA</td>\n",
       "      <td>Y</td>\n",
       "      <td>161</td>\n",
       "      <td>20</td>\n",
       "      <td>0</td>\n",
       "      <td>0</td>\n",
       "      <td>0</td>\n",
       "      <td>0</td>\n",
       "      <td>NaN</td>\n",
       "      <td>NaN</td>\n",
       "      <td>NaN</td>\n",
       "      <td>0</td>\n",
       "      <td>10</td>\n",
       "      <td>2006</td>\n",
       "      <td>New</td>\n",
       "      <td>Partial</td>\n",
       "      <td>246578</td>\n",
       "    </tr>\n",
       "    <tr>\n",
       "      <th>2</th>\n",
       "      <td>120</td>\n",
       "      <td>RL</td>\n",
       "      <td>43.0</td>\n",
       "      <td>3013</td>\n",
       "      <td>Pave</td>\n",
       "      <td>NaN</td>\n",
       "      <td>Reg</td>\n",
       "      <td>Lvl</td>\n",
       "      <td>AllPub</td>\n",
       "      <td>Inside</td>\n",
       "      <td>Gtl</td>\n",
       "      <td>Blmngtn</td>\n",
       "      <td>Norm</td>\n",
       "      <td>Norm</td>\n",
       "      <td>TwnhsE</td>\n",
       "      <td>1Story</td>\n",
       "      <td>7</td>\n",
       "      <td>5</td>\n",
       "      <td>2005</td>\n",
       "      <td>2005</td>\n",
       "      <td>Gable</td>\n",
       "      <td>CompShg</td>\n",
       "      <td>VinylSd</td>\n",
       "      <td>VinylSd</td>\n",
       "      <td>BrkFace</td>\n",
       "      <td>...</td>\n",
       "      <td>1</td>\n",
       "      <td>Gd</td>\n",
       "      <td>Attchd</td>\n",
       "      <td>2005.0</td>\n",
       "      <td>Fin</td>\n",
       "      <td>2</td>\n",
       "      <td>440</td>\n",
       "      <td>TA</td>\n",
       "      <td>TA</td>\n",
       "      <td>Y</td>\n",
       "      <td>142</td>\n",
       "      <td>20</td>\n",
       "      <td>0</td>\n",
       "      <td>0</td>\n",
       "      <td>0</td>\n",
       "      <td>0</td>\n",
       "      <td>NaN</td>\n",
       "      <td>NaN</td>\n",
       "      <td>NaN</td>\n",
       "      <td>0</td>\n",
       "      <td>4</td>\n",
       "      <td>2006</td>\n",
       "      <td>WD</td>\n",
       "      <td>Normal</td>\n",
       "      <td>213490</td>\n",
       "    </tr>\n",
       "    <tr>\n",
       "      <th>3</th>\n",
       "      <td>120</td>\n",
       "      <td>RL</td>\n",
       "      <td>53.0</td>\n",
       "      <td>3922</td>\n",
       "      <td>Pave</td>\n",
       "      <td>NaN</td>\n",
       "      <td>Reg</td>\n",
       "      <td>Lvl</td>\n",
       "      <td>AllPub</td>\n",
       "      <td>Inside</td>\n",
       "      <td>Gtl</td>\n",
       "      <td>Blmngtn</td>\n",
       "      <td>Norm</td>\n",
       "      <td>Norm</td>\n",
       "      <td>TwnhsE</td>\n",
       "      <td>1Story</td>\n",
       "      <td>7</td>\n",
       "      <td>5</td>\n",
       "      <td>2006</td>\n",
       "      <td>2007</td>\n",
       "      <td>Gable</td>\n",
       "      <td>CompShg</td>\n",
       "      <td>WdShing</td>\n",
       "      <td>Wd Shng</td>\n",
       "      <td>BrkFace</td>\n",
       "      <td>...</td>\n",
       "      <td>1</td>\n",
       "      <td>Gd</td>\n",
       "      <td>Attchd</td>\n",
       "      <td>2007.0</td>\n",
       "      <td>Fin</td>\n",
       "      <td>3</td>\n",
       "      <td>648</td>\n",
       "      <td>TA</td>\n",
       "      <td>TA</td>\n",
       "      <td>Y</td>\n",
       "      <td>144</td>\n",
       "      <td>16</td>\n",
       "      <td>0</td>\n",
       "      <td>0</td>\n",
       "      <td>0</td>\n",
       "      <td>0</td>\n",
       "      <td>NaN</td>\n",
       "      <td>NaN</td>\n",
       "      <td>NaN</td>\n",
       "      <td>0</td>\n",
       "      <td>6</td>\n",
       "      <td>2007</td>\n",
       "      <td>New</td>\n",
       "      <td>Partial</td>\n",
       "      <td>172500</td>\n",
       "    </tr>\n",
       "    <tr>\n",
       "      <th>4</th>\n",
       "      <td>120</td>\n",
       "      <td>RL</td>\n",
       "      <td>NaN</td>\n",
       "      <td>3196</td>\n",
       "      <td>Pave</td>\n",
       "      <td>NaN</td>\n",
       "      <td>Reg</td>\n",
       "      <td>Lvl</td>\n",
       "      <td>AllPub</td>\n",
       "      <td>Inside</td>\n",
       "      <td>Gtl</td>\n",
       "      <td>Blmngtn</td>\n",
       "      <td>Norm</td>\n",
       "      <td>Norm</td>\n",
       "      <td>TwnhsE</td>\n",
       "      <td>1Story</td>\n",
       "      <td>8</td>\n",
       "      <td>5</td>\n",
       "      <td>2003</td>\n",
       "      <td>2003</td>\n",
       "      <td>Gable</td>\n",
       "      <td>CompShg</td>\n",
       "      <td>VinylSd</td>\n",
       "      <td>VinylSd</td>\n",
       "      <td>BrkFace</td>\n",
       "      <td>...</td>\n",
       "      <td>1</td>\n",
       "      <td>TA</td>\n",
       "      <td>Attchd</td>\n",
       "      <td>2003.0</td>\n",
       "      <td>Fin</td>\n",
       "      <td>2</td>\n",
       "      <td>400</td>\n",
       "      <td>TA</td>\n",
       "      <td>TA</td>\n",
       "      <td>Y</td>\n",
       "      <td>143</td>\n",
       "      <td>20</td>\n",
       "      <td>0</td>\n",
       "      <td>0</td>\n",
       "      <td>0</td>\n",
       "      <td>0</td>\n",
       "      <td>NaN</td>\n",
       "      <td>NaN</td>\n",
       "      <td>NaN</td>\n",
       "      <td>0</td>\n",
       "      <td>5</td>\n",
       "      <td>2006</td>\n",
       "      <td>WD</td>\n",
       "      <td>Normal</td>\n",
       "      <td>215000</td>\n",
       "    </tr>\n",
       "    <tr>\n",
       "      <th>...</th>\n",
       "      <td>...</td>\n",
       "      <td>...</td>\n",
       "      <td>...</td>\n",
       "      <td>...</td>\n",
       "      <td>...</td>\n",
       "      <td>...</td>\n",
       "      <td>...</td>\n",
       "      <td>...</td>\n",
       "      <td>...</td>\n",
       "      <td>...</td>\n",
       "      <td>...</td>\n",
       "      <td>...</td>\n",
       "      <td>...</td>\n",
       "      <td>...</td>\n",
       "      <td>...</td>\n",
       "      <td>...</td>\n",
       "      <td>...</td>\n",
       "      <td>...</td>\n",
       "      <td>...</td>\n",
       "      <td>...</td>\n",
       "      <td>...</td>\n",
       "      <td>...</td>\n",
       "      <td>...</td>\n",
       "      <td>...</td>\n",
       "      <td>...</td>\n",
       "      <td>...</td>\n",
       "      <td>...</td>\n",
       "      <td>...</td>\n",
       "      <td>...</td>\n",
       "      <td>...</td>\n",
       "      <td>...</td>\n",
       "      <td>...</td>\n",
       "      <td>...</td>\n",
       "      <td>...</td>\n",
       "      <td>...</td>\n",
       "      <td>...</td>\n",
       "      <td>...</td>\n",
       "      <td>...</td>\n",
       "      <td>...</td>\n",
       "      <td>...</td>\n",
       "      <td>...</td>\n",
       "      <td>...</td>\n",
       "      <td>...</td>\n",
       "      <td>...</td>\n",
       "      <td>...</td>\n",
       "      <td>...</td>\n",
       "      <td>...</td>\n",
       "      <td>...</td>\n",
       "      <td>...</td>\n",
       "      <td>...</td>\n",
       "      <td>...</td>\n",
       "    </tr>\n",
       "    <tr>\n",
       "      <th>1462</th>\n",
       "      <td>20</td>\n",
       "      <td>RL</td>\n",
       "      <td>80.0</td>\n",
       "      <td>12000</td>\n",
       "      <td>Pave</td>\n",
       "      <td>NaN</td>\n",
       "      <td>Reg</td>\n",
       "      <td>Lvl</td>\n",
       "      <td>AllPub</td>\n",
       "      <td>Inside</td>\n",
       "      <td>Gtl</td>\n",
       "      <td>Veenker</td>\n",
       "      <td>Norm</td>\n",
       "      <td>Norm</td>\n",
       "      <td>1Fam</td>\n",
       "      <td>1Story</td>\n",
       "      <td>7</td>\n",
       "      <td>6</td>\n",
       "      <td>1980</td>\n",
       "      <td>1980</td>\n",
       "      <td>Hip</td>\n",
       "      <td>CompShg</td>\n",
       "      <td>VinylSd</td>\n",
       "      <td>MetalSd</td>\n",
       "      <td>BrkFace</td>\n",
       "      <td>...</td>\n",
       "      <td>1</td>\n",
       "      <td>TA</td>\n",
       "      <td>Attchd</td>\n",
       "      <td>1980.0</td>\n",
       "      <td>RFn</td>\n",
       "      <td>2</td>\n",
       "      <td>546</td>\n",
       "      <td>Gd</td>\n",
       "      <td>TA</td>\n",
       "      <td>Y</td>\n",
       "      <td>180</td>\n",
       "      <td>16</td>\n",
       "      <td>0</td>\n",
       "      <td>0</td>\n",
       "      <td>0</td>\n",
       "      <td>0</td>\n",
       "      <td>NaN</td>\n",
       "      <td>NaN</td>\n",
       "      <td>NaN</td>\n",
       "      <td>0</td>\n",
       "      <td>3</td>\n",
       "      <td>2007</td>\n",
       "      <td>WD</td>\n",
       "      <td>Normal</td>\n",
       "      <td>255000</td>\n",
       "    </tr>\n",
       "    <tr>\n",
       "      <th>1463</th>\n",
       "      <td>20</td>\n",
       "      <td>RL</td>\n",
       "      <td>NaN</td>\n",
       "      <td>14694</td>\n",
       "      <td>Pave</td>\n",
       "      <td>NaN</td>\n",
       "      <td>IR1</td>\n",
       "      <td>Lvl</td>\n",
       "      <td>AllPub</td>\n",
       "      <td>Inside</td>\n",
       "      <td>Gtl</td>\n",
       "      <td>Veenker</td>\n",
       "      <td>Norm</td>\n",
       "      <td>Norm</td>\n",
       "      <td>1Fam</td>\n",
       "      <td>1Story</td>\n",
       "      <td>8</td>\n",
       "      <td>9</td>\n",
       "      <td>1977</td>\n",
       "      <td>2008</td>\n",
       "      <td>Gable</td>\n",
       "      <td>CompShg</td>\n",
       "      <td>MetalSd</td>\n",
       "      <td>MetalSd</td>\n",
       "      <td>BrkFace</td>\n",
       "      <td>...</td>\n",
       "      <td>1</td>\n",
       "      <td>Gd</td>\n",
       "      <td>Attchd</td>\n",
       "      <td>1977.0</td>\n",
       "      <td>Fin</td>\n",
       "      <td>2</td>\n",
       "      <td>642</td>\n",
       "      <td>TA</td>\n",
       "      <td>TA</td>\n",
       "      <td>Y</td>\n",
       "      <td>501</td>\n",
       "      <td>120</td>\n",
       "      <td>0</td>\n",
       "      <td>225</td>\n",
       "      <td>0</td>\n",
       "      <td>0</td>\n",
       "      <td>NaN</td>\n",
       "      <td>NaN</td>\n",
       "      <td>NaN</td>\n",
       "      <td>0</td>\n",
       "      <td>6</td>\n",
       "      <td>2009</td>\n",
       "      <td>WD</td>\n",
       "      <td>Normal</td>\n",
       "      <td>318750</td>\n",
       "    </tr>\n",
       "    <tr>\n",
       "      <th>1464</th>\n",
       "      <td>60</td>\n",
       "      <td>RL</td>\n",
       "      <td>NaN</td>\n",
       "      <td>19522</td>\n",
       "      <td>Pave</td>\n",
       "      <td>NaN</td>\n",
       "      <td>IR1</td>\n",
       "      <td>Bnk</td>\n",
       "      <td>AllPub</td>\n",
       "      <td>Inside</td>\n",
       "      <td>Gtl</td>\n",
       "      <td>Veenker</td>\n",
       "      <td>Norm</td>\n",
       "      <td>Norm</td>\n",
       "      <td>1Fam</td>\n",
       "      <td>2Story</td>\n",
       "      <td>7</td>\n",
       "      <td>5</td>\n",
       "      <td>1990</td>\n",
       "      <td>1990</td>\n",
       "      <td>Gable</td>\n",
       "      <td>CompShg</td>\n",
       "      <td>HdBoard</td>\n",
       "      <td>HdBoard</td>\n",
       "      <td>BrkFace</td>\n",
       "      <td>...</td>\n",
       "      <td>1</td>\n",
       "      <td>TA</td>\n",
       "      <td>Attchd</td>\n",
       "      <td>1990.0</td>\n",
       "      <td>RFn</td>\n",
       "      <td>2</td>\n",
       "      <td>564</td>\n",
       "      <td>TA</td>\n",
       "      <td>TA</td>\n",
       "      <td>Y</td>\n",
       "      <td>0</td>\n",
       "      <td>99</td>\n",
       "      <td>0</td>\n",
       "      <td>0</td>\n",
       "      <td>182</td>\n",
       "      <td>0</td>\n",
       "      <td>NaN</td>\n",
       "      <td>NaN</td>\n",
       "      <td>NaN</td>\n",
       "      <td>0</td>\n",
       "      <td>2</td>\n",
       "      <td>2007</td>\n",
       "      <td>WD</td>\n",
       "      <td>Normal</td>\n",
       "      <td>300000</td>\n",
       "    </tr>\n",
       "    <tr>\n",
       "      <th>1465</th>\n",
       "      <td>20</td>\n",
       "      <td>RL</td>\n",
       "      <td>80.0</td>\n",
       "      <td>9600</td>\n",
       "      <td>Pave</td>\n",
       "      <td>NaN</td>\n",
       "      <td>Reg</td>\n",
       "      <td>Lvl</td>\n",
       "      <td>AllPub</td>\n",
       "      <td>FR2</td>\n",
       "      <td>Gtl</td>\n",
       "      <td>Veenker</td>\n",
       "      <td>Feedr</td>\n",
       "      <td>Norm</td>\n",
       "      <td>1Fam</td>\n",
       "      <td>1Story</td>\n",
       "      <td>6</td>\n",
       "      <td>8</td>\n",
       "      <td>1976</td>\n",
       "      <td>1976</td>\n",
       "      <td>Gable</td>\n",
       "      <td>CompShg</td>\n",
       "      <td>MetalSd</td>\n",
       "      <td>MetalSd</td>\n",
       "      <td>None</td>\n",
       "      <td>...</td>\n",
       "      <td>1</td>\n",
       "      <td>TA</td>\n",
       "      <td>Attchd</td>\n",
       "      <td>1976.0</td>\n",
       "      <td>RFn</td>\n",
       "      <td>2</td>\n",
       "      <td>460</td>\n",
       "      <td>TA</td>\n",
       "      <td>TA</td>\n",
       "      <td>Y</td>\n",
       "      <td>298</td>\n",
       "      <td>0</td>\n",
       "      <td>0</td>\n",
       "      <td>0</td>\n",
       "      <td>0</td>\n",
       "      <td>0</td>\n",
       "      <td>NaN</td>\n",
       "      <td>NaN</td>\n",
       "      <td>NaN</td>\n",
       "      <td>0</td>\n",
       "      <td>5</td>\n",
       "      <td>2007</td>\n",
       "      <td>WD</td>\n",
       "      <td>Normal</td>\n",
       "      <td>181500</td>\n",
       "    </tr>\n",
       "    <tr>\n",
       "      <th>1466</th>\n",
       "      <td>60</td>\n",
       "      <td>RL</td>\n",
       "      <td>NaN</td>\n",
       "      <td>17542</td>\n",
       "      <td>Pave</td>\n",
       "      <td>NaN</td>\n",
       "      <td>IR1</td>\n",
       "      <td>Lvl</td>\n",
       "      <td>AllPub</td>\n",
       "      <td>Inside</td>\n",
       "      <td>Gtl</td>\n",
       "      <td>Veenker</td>\n",
       "      <td>Norm</td>\n",
       "      <td>Norm</td>\n",
       "      <td>1Fam</td>\n",
       "      <td>2Story</td>\n",
       "      <td>7</td>\n",
       "      <td>7</td>\n",
       "      <td>1974</td>\n",
       "      <td>2003</td>\n",
       "      <td>Gable</td>\n",
       "      <td>CompShg</td>\n",
       "      <td>Wd Sdng</td>\n",
       "      <td>Wd Sdng</td>\n",
       "      <td>None</td>\n",
       "      <td>...</td>\n",
       "      <td>2</td>\n",
       "      <td>Gd</td>\n",
       "      <td>Attchd</td>\n",
       "      <td>1974.0</td>\n",
       "      <td>RFn</td>\n",
       "      <td>2</td>\n",
       "      <td>518</td>\n",
       "      <td>TA</td>\n",
       "      <td>TA</td>\n",
       "      <td>Y</td>\n",
       "      <td>220</td>\n",
       "      <td>47</td>\n",
       "      <td>0</td>\n",
       "      <td>0</td>\n",
       "      <td>0</td>\n",
       "      <td>0</td>\n",
       "      <td>NaN</td>\n",
       "      <td>MnPrv</td>\n",
       "      <td>NaN</td>\n",
       "      <td>0</td>\n",
       "      <td>7</td>\n",
       "      <td>2007</td>\n",
       "      <td>WD</td>\n",
       "      <td>Normal</td>\n",
       "      <td>294000</td>\n",
       "    </tr>\n",
       "  </tbody>\n",
       "</table>\n",
       "<p>1467 rows × 80 columns</p>\n",
       "</div>"
      ],
      "text/plain": [
       "      MS SubClass MS Zoning  Lot Frontage  Lot Area Street Alley Lot Shape  \\\n",
       "0             120        RM           NaN      3072   Pave   NaN       Reg   \n",
       "1             120        RL          53.0      4045   Pave   NaN       Reg   \n",
       "2             120        RL          43.0      3013   Pave   NaN       Reg   \n",
       "3             120        RL          53.0      3922   Pave   NaN       Reg   \n",
       "4             120        RL           NaN      3196   Pave   NaN       Reg   \n",
       "...           ...       ...           ...       ...    ...   ...       ...   \n",
       "1462           20        RL          80.0     12000   Pave   NaN       Reg   \n",
       "1463           20        RL           NaN     14694   Pave   NaN       IR1   \n",
       "1464           60        RL           NaN     19522   Pave   NaN       IR1   \n",
       "1465           20        RL          80.0      9600   Pave   NaN       Reg   \n",
       "1466           60        RL           NaN     17542   Pave   NaN       IR1   \n",
       "\n",
       "     Land Contour Utilities Lot Config Land Slope Neighborhood Condition 1  \\\n",
       "0             Lvl    AllPub     Inside        Gtl      Blmngtn        Norm   \n",
       "1             Lvl    AllPub     Inside        Gtl      Blmngtn        Norm   \n",
       "2             Lvl    AllPub     Inside        Gtl      Blmngtn        Norm   \n",
       "3             Lvl    AllPub     Inside        Gtl      Blmngtn        Norm   \n",
       "4             Lvl    AllPub     Inside        Gtl      Blmngtn        Norm   \n",
       "...           ...       ...        ...        ...          ...         ...   \n",
       "1462          Lvl    AllPub     Inside        Gtl      Veenker        Norm   \n",
       "1463          Lvl    AllPub     Inside        Gtl      Veenker        Norm   \n",
       "1464          Bnk    AllPub     Inside        Gtl      Veenker        Norm   \n",
       "1465          Lvl    AllPub        FR2        Gtl      Veenker       Feedr   \n",
       "1466          Lvl    AllPub     Inside        Gtl      Veenker        Norm   \n",
       "\n",
       "     Condition 2 Bldg Type House Style  Overall Qual  Overall Cond  \\\n",
       "0           Norm    TwnhsE      1Story             7             5   \n",
       "1           Norm    TwnhsE      1Story             7             5   \n",
       "2           Norm    TwnhsE      1Story             7             5   \n",
       "3           Norm    TwnhsE      1Story             7             5   \n",
       "4           Norm    TwnhsE      1Story             8             5   \n",
       "...          ...       ...         ...           ...           ...   \n",
       "1462        Norm      1Fam      1Story             7             6   \n",
       "1463        Norm      1Fam      1Story             8             9   \n",
       "1464        Norm      1Fam      2Story             7             5   \n",
       "1465        Norm      1Fam      1Story             6             8   \n",
       "1466        Norm      1Fam      2Story             7             7   \n",
       "\n",
       "      Year Built  Year Remod/Add Roof Style Roof Matl Exterior 1st  \\\n",
       "0           2004            2004        Hip   CompShg      VinylSd   \n",
       "1           2006            2006        Hip   CompShg      VinylSd   \n",
       "2           2005            2005      Gable   CompShg      VinylSd   \n",
       "3           2006            2007      Gable   CompShg      WdShing   \n",
       "4           2003            2003      Gable   CompShg      VinylSd   \n",
       "...          ...             ...        ...       ...          ...   \n",
       "1462        1980            1980        Hip   CompShg      VinylSd   \n",
       "1463        1977            2008      Gable   CompShg      MetalSd   \n",
       "1464        1990            1990      Gable   CompShg      HdBoard   \n",
       "1465        1976            1976      Gable   CompShg      MetalSd   \n",
       "1466        1974            2003      Gable   CompShg      Wd Sdng   \n",
       "\n",
       "     Exterior 2nd Mas Vnr Type  ...  Fireplaces Fireplace Qu Garage Type  \\\n",
       "0         VinylSd      BrkFace  ...           1           TA      Attchd   \n",
       "1         VinylSd      BrkFace  ...           1           Gd      Attchd   \n",
       "2         VinylSd      BrkFace  ...           1           Gd      Attchd   \n",
       "3         Wd Shng      BrkFace  ...           1           Gd      Attchd   \n",
       "4         VinylSd      BrkFace  ...           1           TA      Attchd   \n",
       "...           ...          ...  ...         ...          ...         ...   \n",
       "1462      MetalSd      BrkFace  ...           1           TA      Attchd   \n",
       "1463      MetalSd      BrkFace  ...           1           Gd      Attchd   \n",
       "1464      HdBoard      BrkFace  ...           1           TA      Attchd   \n",
       "1465      MetalSd         None  ...           1           TA      Attchd   \n",
       "1466      Wd Sdng         None  ...           2           Gd      Attchd   \n",
       "\n",
       "     Garage Yr Blt Garage Finish Garage Cars Garage Area Garage Qual  \\\n",
       "0           2004.0           Fin           2         388          TA   \n",
       "1           2006.0           Fin           3         648          TA   \n",
       "2           2005.0           Fin           2         440          TA   \n",
       "3           2007.0           Fin           3         648          TA   \n",
       "4           2003.0           Fin           2         400          TA   \n",
       "...            ...           ...         ...         ...         ...   \n",
       "1462        1980.0           RFn           2         546          Gd   \n",
       "1463        1977.0           Fin           2         642          TA   \n",
       "1464        1990.0           RFn           2         564          TA   \n",
       "1465        1976.0           RFn           2         460          TA   \n",
       "1466        1974.0           RFn           2         518          TA   \n",
       "\n",
       "      Garage Cond Paved Drive  Wood Deck SF  Open Porch SF  Enclosed Porch  \\\n",
       "0              TA           Y           143             20               0   \n",
       "1              TA           Y           161             20               0   \n",
       "2              TA           Y           142             20               0   \n",
       "3              TA           Y           144             16               0   \n",
       "4              TA           Y           143             20               0   \n",
       "...           ...         ...           ...            ...             ...   \n",
       "1462           TA           Y           180             16               0   \n",
       "1463           TA           Y           501            120               0   \n",
       "1464           TA           Y             0             99               0   \n",
       "1465           TA           Y           298              0               0   \n",
       "1466           TA           Y           220             47               0   \n",
       "\n",
       "     3Ssn Porch Screen Porch Pool Area Pool QC  Fence  Misc Feature  Misc Val  \\\n",
       "0             0            0         0     NaN    NaN           NaN         0   \n",
       "1             0            0         0     NaN    NaN           NaN         0   \n",
       "2             0            0         0     NaN    NaN           NaN         0   \n",
       "3             0            0         0     NaN    NaN           NaN         0   \n",
       "4             0            0         0     NaN    NaN           NaN         0   \n",
       "...         ...          ...       ...     ...    ...           ...       ...   \n",
       "1462          0            0         0     NaN    NaN           NaN         0   \n",
       "1463        225            0         0     NaN    NaN           NaN         0   \n",
       "1464          0          182         0     NaN    NaN           NaN         0   \n",
       "1465          0            0         0     NaN    NaN           NaN         0   \n",
       "1466          0            0         0     NaN  MnPrv           NaN         0   \n",
       "\n",
       "      Mo Sold  Yr Sold  Sale Type  Sale Condition  SalePrice  \n",
       "0           9     2006        WD           Normal     225000  \n",
       "1          10     2006        New         Partial     246578  \n",
       "2           4     2006        WD           Normal     213490  \n",
       "3           6     2007        New         Partial     172500  \n",
       "4           5     2006        WD           Normal     215000  \n",
       "...       ...      ...        ...             ...        ...  \n",
       "1462        3     2007        WD           Normal     255000  \n",
       "1463        6     2009        WD           Normal     318750  \n",
       "1464        2     2007        WD           Normal     300000  \n",
       "1465        5     2007        WD           Normal     181500  \n",
       "1466        7     2007        WD           Normal     294000  \n",
       "\n",
       "[1467 rows x 80 columns]"
      ]
     },
     "execution_count": 5,
     "metadata": {},
     "output_type": "execute_result"
    }
   ],
   "source": [
    "## Main dataset\n",
    "df_train = pd.read_csv(\"../data/casas_entrena.csv\")\n",
    "df_train"
   ]
  },
  {
   "cell_type": "code",
   "execution_count": 6,
   "metadata": {
    "ExecuteTime": {
     "end_time": "2020-11-01T00:09:38.639558Z",
     "start_time": "2020-11-01T00:09:38.617643Z"
    }
   },
   "outputs": [],
   "source": [
    "## Name of feature that will be predicted\n",
    "for feat in features_dict:\n",
    "    if features_dict[feat][\"ml_label\"] == True:\n",
    "        predict_feature = feat"
   ]
  },
  {
   "cell_type": "markdown",
   "metadata": {},
   "source": [
    "---"
   ]
  },
  {
   "cell_type": "code",
   "execution_count": 7,
   "metadata": {
    "ExecuteTime": {
     "end_time": "2020-11-01T00:09:38.663776Z",
     "start_time": "2020-11-01T00:09:38.641029Z"
    }
   },
   "outputs": [
    {
     "data": {
      "text/plain": [
       "array(['TA', 'Fa', 'Gd', 'Po', 'Ex'], dtype=object)"
      ]
     },
     "execution_count": 7,
     "metadata": {},
     "output_type": "execute_result"
    }
   ],
   "source": [
    "df_train[\"Exter Cond\"].unique()"
   ]
  },
  {
   "cell_type": "code",
   "execution_count": 8,
   "metadata": {
    "ExecuteTime": {
     "end_time": "2020-11-01T00:09:38.691820Z",
     "start_time": "2020-11-01T00:09:38.666669Z"
    }
   },
   "outputs": [
    {
     "data": {
      "text/plain": [
       "array(['TA', 'Gd', 'Fa', 'Ex'], dtype=object)"
      ]
     },
     "execution_count": 8,
     "metadata": {},
     "output_type": "execute_result"
    }
   ],
   "source": [
    "df_test[\"Exter Cond\"].unique()"
   ]
  },
  {
   "cell_type": "markdown",
   "metadata": {},
   "source": [
    "# Initial EDA + GEDA"
   ]
  },
  {
   "cell_type": "markdown",
   "metadata": {
    "heading_collapsed": true
   },
   "source": [
    "#### How does the correlation matriz looks like?"
   ]
  },
  {
   "cell_type": "code",
   "execution_count": null,
   "metadata": {
    "ExecuteTime": {
     "end_time": "2020-10-28T18:10:26.989678Z",
     "start_time": "2020-10-28T18:10:26.960527Z"
    },
    "hidden": true,
    "scrolled": true
   },
   "outputs": [],
   "source": [
    "df_train.corr()[\"SalePrice\"].sort_values(ascending=False)"
   ]
  },
  {
   "cell_type": "markdown",
   "metadata": {
    "heading_collapsed": true
   },
   "source": [
    "#### How does the \"Sale Type\" attribute affects the Sale Price?"
   ]
  },
  {
   "cell_type": "code",
   "execution_count": null,
   "metadata": {
    "ExecuteTime": {
     "end_time": "2020-10-22T17:33:48.329936Z",
     "start_time": "2020-10-22T17:33:47.208042Z"
    },
    "hidden": true,
    "scrolled": true
   },
   "outputs": [],
   "source": [
    "dfx = df_train.copy()\n",
    "\n",
    "rc = [\n",
    "    \"Sale Condition\",\n",
    "    \"SalePrice\",\n",
    "    \"Gr Liv Area\"\n",
    "]\n",
    "\n",
    "dfx = dfx.loc[:, rc]\n",
    "\n",
    "sns.lmplot(\n",
    "    data = dfx,\n",
    "    x = \"Gr Liv Area\",\n",
    "    y = \"SalePrice\",\n",
    "    hue = \"Sale Condition\",\n",
    "    height = 15 \n",
    ")"
   ]
  },
  {
   "cell_type": "markdown",
   "metadata": {
    "heading_collapsed": true
   },
   "source": [
    "#### Does column \"MS Zoning\" has a relevant influence on the sale price?"
   ]
  },
  {
   "cell_type": "code",
   "execution_count": null,
   "metadata": {
    "ExecuteTime": {
     "end_time": "2020-10-22T17:33:48.717308Z",
     "start_time": "2020-10-22T17:33:48.333452Z"
    },
    "hidden": true,
    "scrolled": false
   },
   "outputs": [],
   "source": [
    "dfx = df_train.copy()\n",
    "\n",
    "rc = [\n",
    "    \"MS Zoning\",\n",
    "    \"SalePrice\",\n",
    "    \"Gr Liv Area\"\n",
    "]\n",
    "\n",
    "dfx = dfx.loc[:, rc]\n",
    "\n",
    "f, ax = plt.subplots(figsize=(15, 10))\n",
    "sns.scatterplot(\n",
    "    data = dfx,\n",
    "    x = \"Gr Liv Area\",\n",
    "    y = \"SalePrice\",\n",
    "    hue = \"MS Zoning\",\n",
    "    ax = ax\n",
    ")"
   ]
  },
  {
   "cell_type": "code",
   "execution_count": null,
   "metadata": {
    "ExecuteTime": {
     "end_time": "2020-10-22T17:33:48.959053Z",
     "start_time": "2020-10-22T17:33:48.720645Z"
    },
    "hidden": true
   },
   "outputs": [],
   "source": [
    "f, ax = plt.subplots(figsize=(15, 10))\n",
    "sns.boxplot(\n",
    "    data = dfx,\n",
    "    x = \"MS Zoning\",\n",
    "    y = \"SalePrice\",\n",
    "    ax = ax\n",
    ")"
   ]
  },
  {
   "cell_type": "markdown",
   "metadata": {
    "heading_collapsed": true
   },
   "source": [
    "#### Does \"Lot Area\" is a good predictor of sale price?"
   ]
  },
  {
   "cell_type": "code",
   "execution_count": null,
   "metadata": {
    "ExecuteTime": {
     "end_time": "2020-10-22T17:33:49.334721Z",
     "start_time": "2020-10-22T17:33:48.960430Z"
    },
    "hidden": true,
    "scrolled": false
   },
   "outputs": [],
   "source": [
    "dfx = df_train.copy()\n",
    "\n",
    "rc = [\n",
    "    \"Lot Area\",\n",
    "    \"SalePrice\",\n",
    "    \"MS Zoning\"\n",
    "]\n",
    "\n",
    "dfx = dfx.loc[:, rc]\n",
    "\n",
    "f, ax = plt.subplots(figsize=(15, 10))\n",
    "sns.scatterplot(\n",
    "    data = dfx,\n",
    "    x = \"Lot Area\",\n",
    "    y = \"SalePrice\",\n",
    "    hue = \"MS Zoning\",\n",
    "    ax = ax\n",
    ")"
   ]
  },
  {
   "cell_type": "markdown",
   "metadata": {},
   "source": [
    "# Data preparation"
   ]
  },
  {
   "cell_type": "markdown",
   "metadata": {},
   "source": [
    "## Simplifying data based on definitions dictionary"
   ]
  },
  {
   "cell_type": "code",
   "execution_count": 9,
   "metadata": {
    "ExecuteTime": {
     "end_time": "2020-11-01T00:09:40.725285Z",
     "start_time": "2020-11-01T00:09:40.685465Z"
    },
    "scrolled": true
   },
   "outputs": [],
   "source": [
    "## Cleaning data based on definitions dictionary.\n",
    "housingc = clean_data(df_train)\n",
    "\n",
    "## Adding training labels to cleaned data.\n",
    "housingc = housingc.join(df_train[predict_feature])"
   ]
  },
  {
   "cell_type": "code",
   "execution_count": 10,
   "metadata": {
    "ExecuteTime": {
     "end_time": "2020-11-01T00:09:40.911735Z",
     "start_time": "2020-11-01T00:09:40.866745Z"
    }
   },
   "outputs": [
    {
     "data": {
      "text/html": [
       "<div>\n",
       "<style scoped>\n",
       "    .dataframe tbody tr th:only-of-type {\n",
       "        vertical-align: middle;\n",
       "    }\n",
       "\n",
       "    .dataframe tbody tr th {\n",
       "        vertical-align: top;\n",
       "    }\n",
       "\n",
       "    .dataframe thead th {\n",
       "        text-align: right;\n",
       "    }\n",
       "</style>\n",
       "<table border=\"1\" class=\"dataframe\">\n",
       "  <thead>\n",
       "    <tr style=\"text-align: right;\">\n",
       "      <th></th>\n",
       "      <th>MS Zoning</th>\n",
       "      <th>Lot Area</th>\n",
       "      <th>Street</th>\n",
       "      <th>Overall Qual</th>\n",
       "      <th>Year Built</th>\n",
       "      <th>Exter Qual</th>\n",
       "      <th>Exter Cond</th>\n",
       "      <th>Total Bsmt SF</th>\n",
       "      <th>1st Flr SF</th>\n",
       "      <th>Gr Liv Area</th>\n",
       "      <th>Garage Cars</th>\n",
       "      <th>Garage Area</th>\n",
       "      <th>SalePrice</th>\n",
       "    </tr>\n",
       "  </thead>\n",
       "  <tbody>\n",
       "    <tr>\n",
       "      <th>0</th>\n",
       "      <td>0</td>\n",
       "      <td>3072</td>\n",
       "      <td>Pave</td>\n",
       "      <td>7</td>\n",
       "      <td>2004</td>\n",
       "      <td>Gd</td>\n",
       "      <td>TA</td>\n",
       "      <td>1365</td>\n",
       "      <td>1548</td>\n",
       "      <td>1548</td>\n",
       "      <td>2</td>\n",
       "      <td>388</td>\n",
       "      <td>225000</td>\n",
       "    </tr>\n",
       "    <tr>\n",
       "      <th>2</th>\n",
       "      <td>1</td>\n",
       "      <td>3013</td>\n",
       "      <td>Pave</td>\n",
       "      <td>7</td>\n",
       "      <td>2005</td>\n",
       "      <td>Gd</td>\n",
       "      <td>TA</td>\n",
       "      <td>1362</td>\n",
       "      <td>1506</td>\n",
       "      <td>1506</td>\n",
       "      <td>2</td>\n",
       "      <td>440</td>\n",
       "      <td>213490</td>\n",
       "    </tr>\n",
       "    <tr>\n",
       "      <th>4</th>\n",
       "      <td>1</td>\n",
       "      <td>3196</td>\n",
       "      <td>Pave</td>\n",
       "      <td>8</td>\n",
       "      <td>2003</td>\n",
       "      <td>Gd</td>\n",
       "      <td>TA</td>\n",
       "      <td>1273</td>\n",
       "      <td>1456</td>\n",
       "      <td>1456</td>\n",
       "      <td>2</td>\n",
       "      <td>400</td>\n",
       "      <td>215000</td>\n",
       "    </tr>\n",
       "    <tr>\n",
       "      <th>6</th>\n",
       "      <td>1</td>\n",
       "      <td>3182</td>\n",
       "      <td>Pave</td>\n",
       "      <td>7</td>\n",
       "      <td>2007</td>\n",
       "      <td>Gd</td>\n",
       "      <td>TA</td>\n",
       "      <td>1266</td>\n",
       "      <td>1266</td>\n",
       "      <td>1266</td>\n",
       "      <td>2</td>\n",
       "      <td>388</td>\n",
       "      <td>159895</td>\n",
       "    </tr>\n",
       "    <tr>\n",
       "      <th>7</th>\n",
       "      <td>1</td>\n",
       "      <td>3203</td>\n",
       "      <td>Pave</td>\n",
       "      <td>7</td>\n",
       "      <td>2006</td>\n",
       "      <td>Gd</td>\n",
       "      <td>TA</td>\n",
       "      <td>1145</td>\n",
       "      <td>1145</td>\n",
       "      <td>1145</td>\n",
       "      <td>2</td>\n",
       "      <td>437</td>\n",
       "      <td>160000</td>\n",
       "    </tr>\n",
       "    <tr>\n",
       "      <th>...</th>\n",
       "      <td>...</td>\n",
       "      <td>...</td>\n",
       "      <td>...</td>\n",
       "      <td>...</td>\n",
       "      <td>...</td>\n",
       "      <td>...</td>\n",
       "      <td>...</td>\n",
       "      <td>...</td>\n",
       "      <td>...</td>\n",
       "      <td>...</td>\n",
       "      <td>...</td>\n",
       "      <td>...</td>\n",
       "      <td>...</td>\n",
       "    </tr>\n",
       "    <tr>\n",
       "      <th>1462</th>\n",
       "      <td>1</td>\n",
       "      <td>12000</td>\n",
       "      <td>Pave</td>\n",
       "      <td>7</td>\n",
       "      <td>1980</td>\n",
       "      <td>Gd</td>\n",
       "      <td>TA</td>\n",
       "      <td>2002</td>\n",
       "      <td>2362</td>\n",
       "      <td>2362</td>\n",
       "      <td>2</td>\n",
       "      <td>546</td>\n",
       "      <td>255000</td>\n",
       "    </tr>\n",
       "    <tr>\n",
       "      <th>1463</th>\n",
       "      <td>1</td>\n",
       "      <td>14694</td>\n",
       "      <td>Pave</td>\n",
       "      <td>8</td>\n",
       "      <td>1977</td>\n",
       "      <td>Ex</td>\n",
       "      <td>Ex</td>\n",
       "      <td>1694</td>\n",
       "      <td>1694</td>\n",
       "      <td>1694</td>\n",
       "      <td>2</td>\n",
       "      <td>642</td>\n",
       "      <td>318750</td>\n",
       "    </tr>\n",
       "    <tr>\n",
       "      <th>1464</th>\n",
       "      <td>1</td>\n",
       "      <td>19522</td>\n",
       "      <td>Pave</td>\n",
       "      <td>7</td>\n",
       "      <td>1990</td>\n",
       "      <td>Gd</td>\n",
       "      <td>TA</td>\n",
       "      <td>1223</td>\n",
       "      <td>1271</td>\n",
       "      <td>2503</td>\n",
       "      <td>2</td>\n",
       "      <td>564</td>\n",
       "      <td>300000</td>\n",
       "    </tr>\n",
       "    <tr>\n",
       "      <th>1465</th>\n",
       "      <td>1</td>\n",
       "      <td>9600</td>\n",
       "      <td>Pave</td>\n",
       "      <td>6</td>\n",
       "      <td>1976</td>\n",
       "      <td>TA</td>\n",
       "      <td>TA</td>\n",
       "      <td>1262</td>\n",
       "      <td>1262</td>\n",
       "      <td>1262</td>\n",
       "      <td>2</td>\n",
       "      <td>460</td>\n",
       "      <td>181500</td>\n",
       "    </tr>\n",
       "    <tr>\n",
       "      <th>1466</th>\n",
       "      <td>1</td>\n",
       "      <td>17542</td>\n",
       "      <td>Pave</td>\n",
       "      <td>7</td>\n",
       "      <td>1974</td>\n",
       "      <td>Gd</td>\n",
       "      <td>TA</td>\n",
       "      <td>1192</td>\n",
       "      <td>1516</td>\n",
       "      <td>2167</td>\n",
       "      <td>2</td>\n",
       "      <td>518</td>\n",
       "      <td>294000</td>\n",
       "    </tr>\n",
       "  </tbody>\n",
       "</table>\n",
       "<p>1208 rows × 13 columns</p>\n",
       "</div>"
      ],
      "text/plain": [
       "     MS Zoning  Lot Area Street  Overall Qual  Year Built Exter Qual  \\\n",
       "0            0      3072   Pave             7        2004         Gd   \n",
       "2            1      3013   Pave             7        2005         Gd   \n",
       "4            1      3196   Pave             8        2003         Gd   \n",
       "6            1      3182   Pave             7        2007         Gd   \n",
       "7            1      3203   Pave             7        2006         Gd   \n",
       "...        ...       ...    ...           ...         ...        ...   \n",
       "1462         1     12000   Pave             7        1980         Gd   \n",
       "1463         1     14694   Pave             8        1977         Ex   \n",
       "1464         1     19522   Pave             7        1990         Gd   \n",
       "1465         1      9600   Pave             6        1976         TA   \n",
       "1466         1     17542   Pave             7        1974         Gd   \n",
       "\n",
       "     Exter Cond  Total Bsmt SF  1st Flr SF  Gr Liv Area  Garage Cars  \\\n",
       "0            TA           1365        1548         1548            2   \n",
       "2            TA           1362        1506         1506            2   \n",
       "4            TA           1273        1456         1456            2   \n",
       "6            TA           1266        1266         1266            2   \n",
       "7            TA           1145        1145         1145            2   \n",
       "...         ...            ...         ...          ...          ...   \n",
       "1462         TA           2002        2362         2362            2   \n",
       "1463         Ex           1694        1694         1694            2   \n",
       "1464         TA           1223        1271         2503            2   \n",
       "1465         TA           1262        1262         1262            2   \n",
       "1466         TA           1192        1516         2167            2   \n",
       "\n",
       "      Garage Area  SalePrice  \n",
       "0             388     225000  \n",
       "2             440     213490  \n",
       "4             400     215000  \n",
       "6             388     159895  \n",
       "7             437     160000  \n",
       "...           ...        ...  \n",
       "1462          546     255000  \n",
       "1463          642     318750  \n",
       "1464          564     300000  \n",
       "1465          460     181500  \n",
       "1466          518     294000  \n",
       "\n",
       "[1208 rows x 13 columns]"
      ]
     },
     "execution_count": 10,
     "metadata": {},
     "output_type": "execute_result"
    }
   ],
   "source": [
    "housingc"
   ]
  },
  {
   "cell_type": "markdown",
   "metadata": {},
   "source": [
    "### Separating training data from labels."
   ]
  },
  {
   "cell_type": "code",
   "execution_count": 11,
   "metadata": {
    "ExecuteTime": {
     "end_time": "2020-11-01T00:09:51.099602Z",
     "start_time": "2020-11-01T00:09:51.074364Z"
    }
   },
   "outputs": [],
   "source": [
    "## Training labels\n",
    "housingc_labs = housingc[predict_feature]\n",
    "\n",
    "## Training data\n",
    "housingc.drop(predict_feature, axis=1, inplace=True)"
   ]
  },
  {
   "cell_type": "markdown",
   "metadata": {
    "heading_collapsed": true
   },
   "source": [
    "### Reviewing information about this data"
   ]
  },
  {
   "cell_type": "code",
   "execution_count": null,
   "metadata": {
    "ExecuteTime": {
     "end_time": "2020-10-27T18:30:37.857377Z",
     "start_time": "2020-10-27T18:30:37.818230Z"
    },
    "hidden": true
   },
   "outputs": [],
   "source": [
    "## Reviewing obtained dataframe\n",
    "housingc.info()"
   ]
  },
  {
   "cell_type": "code",
   "execution_count": null,
   "metadata": {
    "ExecuteTime": {
     "end_time": "2020-10-27T18:30:44.711963Z",
     "start_time": "2020-10-27T18:30:44.681417Z"
    },
    "hidden": true
   },
   "outputs": [],
   "source": [
    "housingc[\"MS Zoning\"].value_counts()"
   ]
  },
  {
   "cell_type": "code",
   "execution_count": null,
   "metadata": {
    "ExecuteTime": {
     "end_time": "2020-10-27T18:30:48.436478Z",
     "start_time": "2020-10-27T18:30:48.386757Z"
    },
    "hidden": true,
    "scrolled": true
   },
   "outputs": [],
   "source": [
    "housingc[\"Exter Qual\"].value_counts()"
   ]
  },
  {
   "cell_type": "raw",
   "metadata": {
    "ExecuteTime": {
     "end_time": "2020-10-22T17:33:49.742246Z",
     "start_time": "2020-10-22T17:33:49.473694Z"
    },
    "hidden": true,
    "scrolled": true
   },
   "source": [
    "housingc[\"Exter Cond\"].value_counts()"
   ]
  },
  {
   "cell_type": "markdown",
   "metadata": {},
   "source": [
    "### Specifying numerical and categorical columns"
   ]
  },
  {
   "cell_type": "code",
   "execution_count": 12,
   "metadata": {
    "ExecuteTime": {
     "end_time": "2020-11-01T00:09:57.252289Z",
     "start_time": "2020-11-01T00:09:57.225878Z"
    }
   },
   "outputs": [
    {
     "name": "stdout",
     "output_type": "stream",
     "text": [
      "Numerical columns: ['Lot Area', 'Overall Qual', 'Year Built', 'Total Bsmt SF', '1st Flr SF', 'Gr Liv Area', 'Garage Cars', 'Garage Area']\n",
      "\n",
      "Categorical columns: ['MS Zoning', 'Exter Qual', 'Exter Cond']\n",
      "\n",
      "\n"
     ]
    }
   ],
   "source": [
    "housingc_num, housingc_cat = lists_by_type_of_var(features_dict)"
   ]
  },
  {
   "cell_type": "code",
   "execution_count": 13,
   "metadata": {
    "ExecuteTime": {
     "end_time": "2020-11-01T00:10:43.879179Z",
     "start_time": "2020-11-01T00:10:43.853529Z"
    }
   },
   "outputs": [],
   "source": [
    "housingc_cat.remove(\"Exter Cond\")"
   ]
  },
  {
   "cell_type": "markdown",
   "metadata": {},
   "source": [
    "## Creating and executing pipelines"
   ]
  },
  {
   "cell_type": "markdown",
   "metadata": {},
   "source": [
    "### Full pipeline"
   ]
  },
  {
   "cell_type": "code",
   "execution_count": 15,
   "metadata": {
    "ExecuteTime": {
     "end_time": "2020-11-01T00:10:56.554871Z",
     "start_time": "2020-11-01T00:10:56.529846Z"
    }
   },
   "outputs": [],
   "source": [
    "full_pipeline = ColumnTransformer([\n",
    "    (\"num\", num_pipeline, housingc_num),\n",
    "    (\"cat\", cat_pipeline, housingc_cat),\n",
    "])"
   ]
  },
  {
   "cell_type": "markdown",
   "metadata": {},
   "source": [
    "### Preparing data"
   ]
  },
  {
   "cell_type": "code",
   "execution_count": 16,
   "metadata": {
    "ExecuteTime": {
     "end_time": "2020-11-01T00:11:18.364381Z",
     "start_time": "2020-11-01T00:11:18.334423Z"
    }
   },
   "outputs": [],
   "source": [
    "housingc_prp = full_pipeline.fit_transform(housingc)"
   ]
  },
  {
   "cell_type": "markdown",
   "metadata": {},
   "source": [
    "---"
   ]
  },
  {
   "cell_type": "markdown",
   "metadata": {},
   "source": [
    "## Training and evaluating models"
   ]
  },
  {
   "cell_type": "markdown",
   "metadata": {},
   "source": [
    "### Simple evaluation"
   ]
  },
  {
   "cell_type": "markdown",
   "metadata": {},
   "source": [
    "#### Linear regressión"
   ]
  },
  {
   "cell_type": "code",
   "execution_count": null,
   "metadata": {
    "ExecuteTime": {
     "end_time": "2020-10-31T23:58:48.449737Z",
     "start_time": "2020-10-31T23:58:48.420252Z"
    }
   },
   "outputs": [],
   "source": [
    "## Defining and training model\n",
    "# lin_reg = LinearRegression()\n",
    "lin_reg = select_model(\"lr\")\n",
    "lin_reg.fit(housingc_prp, housingc_labs)"
   ]
  },
  {
   "cell_type": "code",
   "execution_count": null,
   "metadata": {
    "ExecuteTime": {
     "end_time": "2020-10-31T23:58:49.155091Z",
     "start_time": "2020-10-31T23:58:49.127320Z"
    }
   },
   "outputs": [],
   "source": [
    "## Evluating error with RMSE.\n",
    "housingc_predicts = lin_reg.predict(housingc_prp)\n",
    "lin_msle = mean_squared_log_error(housingc_labs, abs(housingc_predicts))\n",
    "lin_msle\n",
    "\n",
    "## NOTA:\n",
    "#### Hay un valor que salió negativo y lo estoy cambiando a positivo arbitrariamente."
   ]
  },
  {
   "cell_type": "markdown",
   "metadata": {},
   "source": [
    "#### Decision tree regresor"
   ]
  },
  {
   "cell_type": "code",
   "execution_count": null,
   "metadata": {
    "ExecuteTime": {
     "end_time": "2020-10-31T23:58:54.014121Z",
     "start_time": "2020-10-31T23:58:53.981007Z"
    }
   },
   "outputs": [],
   "source": [
    "tree_reg = select_model(\"dt\")\n",
    "tree_reg.fit(housingc_prp, housingc_labs)"
   ]
  },
  {
   "cell_type": "code",
   "execution_count": null,
   "metadata": {
    "ExecuteTime": {
     "end_time": "2020-10-31T23:58:54.677511Z",
     "start_time": "2020-10-31T23:58:54.654045Z"
    }
   },
   "outputs": [],
   "source": [
    "## Evluating error with RMSE.\n",
    "housingc_predicts = tree_reg.predict(housingc_prp)\n",
    "tree_msle = mean_squared_log_error(housingc_labs, housingc_predicts)\n",
    "tree_msle"
   ]
  },
  {
   "cell_type": "markdown",
   "metadata": {},
   "source": [
    "#### Random forrest"
   ]
  },
  {
   "cell_type": "code",
   "execution_count": null,
   "metadata": {
    "ExecuteTime": {
     "end_time": "2020-10-31T23:59:02.092571Z",
     "start_time": "2020-10-31T23:59:01.620916Z"
    }
   },
   "outputs": [],
   "source": [
    "forest_reg = select_model(\"rf\")\n",
    "forest_reg.fit(housingc_prp, housingc_labs)"
   ]
  },
  {
   "cell_type": "code",
   "execution_count": null,
   "metadata": {
    "ExecuteTime": {
     "end_time": "2020-10-31T23:59:02.662238Z",
     "start_time": "2020-10-31T23:59:02.612987Z"
    }
   },
   "outputs": [],
   "source": [
    "## Evluating error with RMSE.\n",
    "housingc_predicts = forest_reg.predict(housingc_prp)\n",
    "forest_msle = mean_squared_log_error(housingc_labs, housingc_predicts)\n",
    "forest_msle"
   ]
  },
  {
   "cell_type": "markdown",
   "metadata": {},
   "source": [
    "### Using cross validation"
   ]
  },
  {
   "cell_type": "code",
   "execution_count": null,
   "metadata": {
    "ExecuteTime": {
     "end_time": "2020-10-31T23:59:06.304687Z",
     "start_time": "2020-10-31T23:59:06.260969Z"
    }
   },
   "outputs": [],
   "source": [
    "## Linear regression\n",
    "lin_cv_scores = cross_val_score(lin_reg, \n",
    "                             abs(housingc_prp), \n",
    "                             housingc_labs,\n",
    "                             scoring=\"neg_mean_squared_log_error\", \n",
    "                             cv=10)\n",
    "display_scores(-lin_cv_scores)"
   ]
  },
  {
   "cell_type": "code",
   "execution_count": null,
   "metadata": {
    "ExecuteTime": {
     "end_time": "2020-10-31T23:59:06.601729Z",
     "start_time": "2020-10-31T23:59:06.501604Z"
    }
   },
   "outputs": [],
   "source": [
    "## Decision tree\n",
    "tree_cv_scores = cross_val_score(tree_reg, \n",
    "                             abs(housingc_prp), \n",
    "                             housingc_labs,\n",
    "                             scoring=\"neg_mean_squared_log_error\", \n",
    "                             cv=10)\n",
    "display_scores(-tree_cv_scores)"
   ]
  },
  {
   "cell_type": "code",
   "execution_count": null,
   "metadata": {
    "ExecuteTime": {
     "end_time": "2020-10-31T23:59:11.207857Z",
     "start_time": "2020-10-31T23:59:06.747521Z"
    }
   },
   "outputs": [],
   "source": [
    "## Decision forest\n",
    "forest_cv_scores = cross_val_score(forest_reg, \n",
    "                             abs(housingc_prp), \n",
    "                             housingc_labs,\n",
    "                             scoring=\"neg_mean_squared_log_error\", \n",
    "                             cv=10)\n",
    "display_scores(-forest_cv_scores)"
   ]
  },
  {
   "cell_type": "markdown",
   "metadata": {},
   "source": [
    "## Predictions on test data"
   ]
  },
  {
   "cell_type": "markdown",
   "metadata": {},
   "source": [
    "### Initial cleaning of data"
   ]
  },
  {
   "cell_type": "code",
   "execution_count": null,
   "metadata": {
    "ExecuteTime": {
     "end_time": "2020-10-31T23:59:56.955696Z",
     "start_time": "2020-10-31T23:59:56.925549Z"
    },
    "scrolled": true
   },
   "outputs": [],
   "source": [
    "## Cleaning data based on definitions dictionary.\n",
    "housingc_test = clean_data(df_test)"
   ]
  },
  {
   "cell_type": "markdown",
   "metadata": {},
   "source": [
    "### Passing test data through constructed pipeline"
   ]
  },
  {
   "cell_type": "code",
   "execution_count": null,
   "metadata": {
    "ExecuteTime": {
     "end_time": "2020-10-31T23:59:57.766877Z",
     "start_time": "2020-10-31T23:59:57.734742Z"
    }
   },
   "outputs": [],
   "source": [
    "housingc_test_prp = full_pipeline.fit_transform(housingc_test)"
   ]
  },
  {
   "cell_type": "markdown",
   "metadata": {},
   "source": [
    "### Making predictions with constructed model"
   ]
  },
  {
   "cell_type": "code",
   "execution_count": null,
   "metadata": {
    "ExecuteTime": {
     "end_time": "2020-10-31T23:59:58.768358Z",
     "start_time": "2020-10-31T23:59:58.729843Z"
    }
   },
   "outputs": [],
   "source": [
    "housingc_test_predicts = forest_reg.predict(housingc_test_prp)"
   ]
  },
  {
   "cell_type": "markdown",
   "metadata": {},
   "source": [
    "### Formatting predictions"
   ]
  },
  {
   "cell_type": "code",
   "execution_count": null,
   "metadata": {
    "ExecuteTime": {
     "end_time": "2020-10-29T20:27:14.576707Z",
     "start_time": "2020-10-29T20:27:14.554361Z"
    }
   },
   "outputs": [],
   "source": [
    "housingc_test_pred_form = format_predicts(housingc_test_predicts)\n",
    "# housingc_test_pred_form.to_csv(\"sub_rp_1022_v3.csv\")"
   ]
  },
  {
   "cell_type": "code",
   "execution_count": null,
   "metadata": {
    "ExecuteTime": {
     "end_time": "2020-10-29T20:27:14.783106Z",
     "start_time": "2020-10-29T20:27:14.755186Z"
    }
   },
   "outputs": [],
   "source": [
    "housingc_test_pred_form"
   ]
  },
  {
   "cell_type": "markdown",
   "metadata": {
    "heading_collapsed": true
   },
   "source": [
    "### Comparing with other results"
   ]
  },
  {
   "cell_type": "code",
   "execution_count": null,
   "metadata": {
    "ExecuteTime": {
     "end_time": "2020-10-22T17:38:06.735053Z",
     "start_time": "2020-10-22T17:38:06.699883Z"
    },
    "hidden": true
   },
   "outputs": [],
   "source": [
    "df_final_eval = df_samplesub.join(housingc_test_pred_form, rsuffix=\"_Robs\")\n",
    "df_final_eval"
   ]
  },
  {
   "cell_type": "code",
   "execution_count": null,
   "metadata": {
    "ExecuteTime": {
     "end_time": "2020-10-22T17:38:08.581812Z",
     "start_time": "2020-10-22T17:38:08.554747Z"
    },
    "hidden": true
   },
   "outputs": [],
   "source": [
    "df_final_eval = df_final_eval.loc[:, [\"SalePrice\", \"SalePrice_Robs\"]]\n",
    "df_final_eval"
   ]
  },
  {
   "cell_type": "code",
   "execution_count": null,
   "metadata": {
    "ExecuteTime": {
     "end_time": "2020-10-22T17:41:22.021120Z",
     "start_time": "2020-10-22T17:41:21.827576Z"
    },
    "hidden": true
   },
   "outputs": [],
   "source": [
    "df_final_eval.plot()"
   ]
  },
  {
   "cell_type": "markdown",
   "metadata": {
    "hidden": true
   },
   "source": [
    "---"
   ]
  },
  {
   "cell_type": "markdown",
   "metadata": {},
   "source": [
    "# Notes"
   ]
  },
  {
   "cell_type": "markdown",
   "metadata": {},
   "source": [
    "## Bugs to solve"
   ]
  },
  {
   "cell_type": "markdown",
   "metadata": {},
   "source": [
    "- [ ] The code to eliminate \"SalesPrice\" from numerical features is \"hard-coded\".\n",
    "- [ ] No estoy seguro si estoy cayendo en data leaking al momento de trabajar con los datos de prueba. No se si sí debería estar aplicando mi función de clean.\n",
    "- [ ] Uno de los features (\"Exter Cond\") tiene diferente número de categorías en el entrenamiento que en la prueba. Una posible solución podría ser convertir esas categorías en números. (Por lo pronto se va a eliminar)."
   ]
  },
  {
   "cell_type": "markdown",
   "metadata": {},
   "source": [
    "## Possible transformations"
   ]
  },
  {
   "cell_type": "markdown",
   "metadata": {},
   "source": [
    "- Price as logarithm"
   ]
  },
  {
   "cell_type": "markdown",
   "metadata": {},
   "source": [
    "## Features dictionary"
   ]
  },
  {
   "cell_type": "markdown",
   "metadata": {
    "heading_collapsed": true
   },
   "source": [
    "#### Creating dictionary"
   ]
  },
  {
   "cell_type": "code",
   "execution_count": null,
   "metadata": {
    "ExecuteTime": {
     "end_time": "2020-10-18T20:02:58.139565Z",
     "start_time": "2020-10-18T20:02:58.100567Z"
    },
    "hidden": true
   },
   "outputs": [],
   "source": [
    "features_dict"
   ]
  },
  {
   "cell_type": "code",
   "execution_count": null,
   "metadata": {
    "ExecuteTime": {
     "end_time": "2020-10-18T20:03:17.474072Z",
     "start_time": "2020-10-18T20:03:17.448805Z"
    },
    "hidden": true
   },
   "outputs": [],
   "source": [
    "for key in features_dict:\n",
    "    features_dict[key][\"notes\"] = \"-\""
   ]
  },
  {
   "cell_type": "code",
   "execution_count": null,
   "metadata": {
    "ExecuteTime": {
     "end_time": "2020-10-18T20:03:19.210186Z",
     "start_time": "2020-10-18T20:03:19.172074Z"
    },
    "hidden": true
   },
   "outputs": [],
   "source": [
    "features_dict"
   ]
  },
  {
   "cell_type": "code",
   "execution_count": null,
   "metadata": {
    "ExecuteTime": {
     "end_time": "2020-10-18T20:03:21.937167Z",
     "start_time": "2020-10-18T20:03:21.910668Z"
    },
    "hidden": true
   },
   "outputs": [],
   "source": [
    "json_dump_dict(features_dict)"
   ]
  },
  {
   "cell_type": "markdown",
   "metadata": {
    "heading_collapsed": true
   },
   "source": [
    "#### Modifying dictionary"
   ]
  },
  {
   "cell_type": "code",
   "execution_count": null,
   "metadata": {
    "ExecuteTime": {
     "end_time": "2020-10-28T17:30:56.206489Z",
     "start_time": "2020-10-28T17:30:55.867410Z"
    },
    "hidden": true
   },
   "outputs": [],
   "source": [
    "features_dict"
   ]
  },
  {
   "cell_type": "code",
   "execution_count": null,
   "metadata": {
    "ExecuteTime": {
     "end_time": "2020-10-28T17:31:44.520500Z",
     "start_time": "2020-10-28T17:31:44.494356Z"
    },
    "hidden": true
   },
   "outputs": [],
   "source": [
    "for key in features_dict:\n",
    "    features_dict[key][\"ml_label\"] = False"
   ]
  },
  {
   "cell_type": "code",
   "execution_count": null,
   "metadata": {
    "ExecuteTime": {
     "end_time": "2020-10-28T17:31:47.413326Z",
     "start_time": "2020-10-28T17:31:47.368912Z"
    },
    "hidden": true
   },
   "outputs": [],
   "source": [
    "features_dict"
   ]
  },
  {
   "cell_type": "code",
   "execution_count": null,
   "metadata": {
    "ExecuteTime": {
     "end_time": "2020-10-28T17:33:06.031166Z",
     "start_time": "2020-10-28T17:33:06.003008Z"
    },
    "hidden": true
   },
   "outputs": [],
   "source": [
    "json_dump_dict(features_dict)"
   ]
  },
  {
   "cell_type": "markdown",
   "metadata": {
    "hidden": true
   },
   "source": [
    "---"
   ]
  },
  {
   "cell_type": "markdown",
   "metadata": {
    "heading_collapsed": true
   },
   "source": [
    "## Test 1\n",
    "- SkLearn Linear Regression (Housing Prices Example): https://www.youtube.com/watch?v=JTj-WgWLKFM"
   ]
  },
  {
   "cell_type": "code",
   "execution_count": null,
   "metadata": {
    "ExecuteTime": {
     "end_time": "2020-10-17T19:48:17.610033Z",
     "start_time": "2020-10-17T19:48:17.600639Z"
    },
    "hidden": true
   },
   "outputs": [],
   "source": [
    "boston = datasets.load_boston()"
   ]
  },
  {
   "cell_type": "code",
   "execution_count": null,
   "metadata": {
    "ExecuteTime": {
     "end_time": "2020-10-17T19:48:20.695157Z",
     "start_time": "2020-10-17T19:48:20.684317Z"
    },
    "hidden": true,
    "scrolled": true
   },
   "outputs": [],
   "source": [
    "boston"
   ]
  },
  {
   "cell_type": "code",
   "execution_count": null,
   "metadata": {
    "ExecuteTime": {
     "end_time": "2020-10-17T19:49:35.568349Z",
     "start_time": "2020-10-17T19:49:35.565362Z"
    },
    "hidden": true
   },
   "outputs": [],
   "source": [
    "df_x = pd.DataFrame(boston.data, columns=boston.feature_names)\n",
    "df_y = pd.DataFrame(boston.target)"
   ]
  },
  {
   "cell_type": "code",
   "execution_count": null,
   "metadata": {
    "ExecuteTime": {
     "end_time": "2020-10-17T19:49:44.061642Z",
     "start_time": "2020-10-17T19:49:44.022014Z"
    },
    "hidden": true
   },
   "outputs": [],
   "source": [
    "df_x.describe()"
   ]
  },
  {
   "cell_type": "code",
   "execution_count": null,
   "metadata": {
    "ExecuteTime": {
     "end_time": "2020-10-17T19:51:20.571011Z",
     "start_time": "2020-10-17T19:51:20.568698Z"
    },
    "hidden": true
   },
   "outputs": [],
   "source": [
    "reg = linear_model.LinearRegression()"
   ]
  },
  {
   "cell_type": "code",
   "execution_count": null,
   "metadata": {
    "ExecuteTime": {
     "end_time": "2020-10-17T19:52:38.623791Z",
     "start_time": "2020-10-17T19:52:38.619950Z"
    },
    "hidden": true
   },
   "outputs": [],
   "source": [
    "x_train, x_test, y_train, y_test = train_test_split(df_x, df_y, test_size=0.2, random_state=4)"
   ]
  },
  {
   "cell_type": "code",
   "execution_count": null,
   "metadata": {
    "ExecuteTime": {
     "end_time": "2020-10-17T19:53:01.747237Z",
     "start_time": "2020-10-17T19:53:01.740434Z"
    },
    "hidden": true
   },
   "outputs": [],
   "source": [
    "reg.fit(x_train, y_train)"
   ]
  },
  {
   "cell_type": "code",
   "execution_count": null,
   "metadata": {
    "ExecuteTime": {
     "end_time": "2020-10-17T19:53:23.272522Z",
     "start_time": "2020-10-17T19:53:23.269045Z"
    },
    "hidden": true
   },
   "outputs": [],
   "source": [
    "reg.coef_"
   ]
  },
  {
   "cell_type": "code",
   "execution_count": null,
   "metadata": {
    "ExecuteTime": {
     "end_time": "2020-10-17T19:53:45.631634Z",
     "start_time": "2020-10-17T19:53:45.627852Z"
    },
    "hidden": true
   },
   "outputs": [],
   "source": [
    "a = reg.predict(x_test)"
   ]
  },
  {
   "cell_type": "code",
   "execution_count": null,
   "metadata": {
    "ExecuteTime": {
     "end_time": "2020-10-17T19:55:05.277469Z",
     "start_time": "2020-10-17T19:55:05.273795Z"
    },
    "hidden": true,
    "scrolled": true
   },
   "outputs": [],
   "source": [
    "a[4]"
   ]
  },
  {
   "cell_type": "code",
   "execution_count": null,
   "metadata": {
    "ExecuteTime": {
     "end_time": "2020-10-17T19:54:04.158974Z",
     "start_time": "2020-10-17T19:54:04.154199Z"
    },
    "hidden": true
   },
   "outputs": [],
   "source": [
    "y_test[0]"
   ]
  },
  {
   "cell_type": "code",
   "execution_count": null,
   "metadata": {
    "ExecuteTime": {
     "end_time": "2020-10-17T19:55:52.370563Z",
     "start_time": "2020-10-17T19:55:52.362760Z"
    },
    "hidden": true
   },
   "outputs": [],
   "source": [
    "# MSE\n",
    "np.mean((a - y_test)**2)"
   ]
  },
  {
   "cell_type": "markdown",
   "metadata": {
    "hidden": true
   },
   "source": [
    "---"
   ]
  }
 ],
 "metadata": {
  "kernelspec": {
   "display_name": "Python 3",
   "language": "python",
   "name": "python3"
  },
  "language_info": {
   "codemirror_mode": {
    "name": "ipython",
    "version": 3
   },
   "file_extension": ".py",
   "mimetype": "text/x-python",
   "name": "python",
   "nbconvert_exporter": "python",
   "pygments_lexer": "ipython3",
   "version": "3.8.5"
  }
 },
 "nbformat": 4,
 "nbformat_minor": 4
}
